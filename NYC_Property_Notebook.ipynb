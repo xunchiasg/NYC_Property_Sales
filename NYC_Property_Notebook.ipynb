{
 "cells": [
  {
   "cell_type": "markdown",
   "id": "94fe8340",
   "metadata": {},
   "source": [
    "### **NYC Property Sales Dataset - Jupyter Notebook** "
   ]
  },
  {
   "cell_type": "markdown",
   "id": "437d5dbe",
   "metadata": {},
   "source": [
    "### Preprocessing"
   ]
  },
  {
   "cell_type": "markdown",
   "id": "911c7a68",
   "metadata": {},
   "source": [
    "#### Library Imports"
   ]
  },
  {
   "cell_type": "code",
   "execution_count": 247,
   "id": "e3af9db5",
   "metadata": {},
   "outputs": [],
   "source": [
    "# Cell for library imports\n",
    "import os\n",
    "import re\n",
    "\n",
    "import numpy as np\n",
    "import pandas as pd\n",
    "import datetime as dt\n",
    "\n",
    "#Visualization libraries\n",
    "import matplotlib.pyplot as plt\n",
    "import seaborn as sns\n",
    "\n",
    "# Warning suppression\n",
    "import warnings\n",
    "warnings.filterwarnings(\"ignore\")"
   ]
  },
  {
   "cell_type": "markdown",
   "id": "1b3815b2",
   "metadata": {},
   "source": [
    "#### Jupyter Notebook Parameters"
   ]
  },
  {
   "cell_type": "code",
   "execution_count": 248,
   "id": "cf383fef",
   "metadata": {},
   "outputs": [],
   "source": [
    "# Jupyter notebook settings\n",
    "\n",
    "# Display all columns in the dataframe\n",
    "pd.set_option('display.max_columns', None)\n",
    "\n",
    "#Inline graphs for matplotlib\n",
    "%matplotlib inline\n",
    "# Set default font size for matplotlib\n",
    "plt.rcParams['font.size'] = 14\n",
    "\n",
    "# Set the default style for seaborn\n",
    "sns.set_style(\"whitegrid\")\n",
    "#Set the default color palette for seaborn\n",
    "sns.set_palette(\"deep\")\n"
   ]
  },
  {
   "cell_type": "markdown",
   "id": "a059cc21",
   "metadata": {},
   "source": [
    "#### Dataset examination\n",
    "- Examination of 2 datasets to identify cleaning requirements"
   ]
  },
  {
   "cell_type": "code",
   "execution_count": 249,
   "id": "d2625dd8",
   "metadata": {},
   "outputs": [
    {
     "data": {
      "application/vnd.microsoft.datawrangler.viewer.v0+json": {
       "columns": [
        {
         "name": "index",
         "rawType": "int64",
         "type": "integer"
        },
        {
         "name": "MANHATTAN ANNUAL SALES FOR CALENDAR YEAR 2023",
         "rawType": "object",
         "type": "string"
        },
        {
         "name": "Unnamed: 1",
         "rawType": "object",
         "type": "unknown"
        },
        {
         "name": "Unnamed: 2",
         "rawType": "object",
         "type": "unknown"
        },
        {
         "name": "Unnamed: 3",
         "rawType": "object",
         "type": "unknown"
        },
        {
         "name": "Unnamed: 4",
         "rawType": "object",
         "type": "unknown"
        },
        {
         "name": "Unnamed: 5",
         "rawType": "object",
         "type": "unknown"
        },
        {
         "name": "Unnamed: 6",
         "rawType": "object",
         "type": "unknown"
        },
        {
         "name": "Unnamed: 7",
         "rawType": "object",
         "type": "unknown"
        },
        {
         "name": "Unnamed: 8",
         "rawType": "object",
         "type": "unknown"
        },
        {
         "name": "Unnamed: 9",
         "rawType": "object",
         "type": "unknown"
        },
        {
         "name": "Unnamed: 10",
         "rawType": "object",
         "type": "unknown"
        },
        {
         "name": "Unnamed: 11",
         "rawType": "object",
         "type": "unknown"
        },
        {
         "name": "Unnamed: 12",
         "rawType": "object",
         "type": "unknown"
        },
        {
         "name": "Unnamed: 13",
         "rawType": "object",
         "type": "unknown"
        },
        {
         "name": "Unnamed: 14",
         "rawType": "object",
         "type": "unknown"
        },
        {
         "name": "Unnamed: 15",
         "rawType": "object",
         "type": "unknown"
        },
        {
         "name": "Unnamed: 16",
         "rawType": "object",
         "type": "unknown"
        },
        {
         "name": "Unnamed: 17",
         "rawType": "object",
         "type": "unknown"
        },
        {
         "name": "Unnamed: 18",
         "rawType": "object",
         "type": "unknown"
        },
        {
         "name": "Unnamed: 19",
         "rawType": "object",
         "type": "unknown"
        },
        {
         "name": "Unnamed: 20",
         "rawType": "object",
         "type": "unknown"
        }
       ],
       "conversionMethod": "pd.DataFrame",
       "ref": "ba11ba71-6218-4e83-a4d6-8d4cbd3c1f8e",
       "rows": [
        [
         "0",
         "All Sales From January 2023- December 2023. Property Tax System (PTS) data as of 04/16/2024.",
         null,
         null,
         null,
         null,
         null,
         null,
         null,
         null,
         null,
         null,
         null,
         null,
         null,
         null,
         null,
         null,
         null,
         null,
         null,
         null
        ],
        [
         "1",
         "For sales prior to the Final, Neighborhood Name and Descriptive Data reflect the Final Roll 2023/24.",
         null,
         null,
         null,
         null,
         null,
         null,
         null,
         null,
         null,
         null,
         null,
         null,
         null,
         null,
         null,
         null,
         null,
         null,
         null,
         null
        ],
        [
         "2",
         "Sales after the Final Roll, Neighborhood Name and Descriptive Data reflect current data.",
         null,
         null,
         null,
         null,
         null,
         null,
         null,
         null,
         null,
         null,
         null,
         null,
         null,
         null,
         null,
         null,
         null,
         null,
         null,
         null
        ],
        [
         "3",
         "Building Class Category is based on Building Class at Time of Sale.",
         null,
         null,
         null,
         null,
         null,
         null,
         null,
         null,
         null,
         null,
         null,
         null,
         null,
         null,
         null,
         null,
         null,
         null,
         null,
         null
        ],
        [
         "4",
         "Note: Condominium and cooperative sales are on the unit level and understood to have a count of one.",
         null,
         null,
         null,
         null,
         null,
         null,
         null,
         null,
         null,
         null,
         null,
         null,
         null,
         null,
         null,
         null,
         null,
         null,
         null,
         null
        ]
       ],
       "shape": {
        "columns": 21,
        "rows": 5
       }
      },
      "text/html": [
       "<div>\n",
       "<style scoped>\n",
       "    .dataframe tbody tr th:only-of-type {\n",
       "        vertical-align: middle;\n",
       "    }\n",
       "\n",
       "    .dataframe tbody tr th {\n",
       "        vertical-align: top;\n",
       "    }\n",
       "\n",
       "    .dataframe thead th {\n",
       "        text-align: right;\n",
       "    }\n",
       "</style>\n",
       "<table border=\"1\" class=\"dataframe\">\n",
       "  <thead>\n",
       "    <tr style=\"text-align: right;\">\n",
       "      <th></th>\n",
       "      <th>MANHATTAN ANNUAL SALES FOR CALENDAR YEAR 2023</th>\n",
       "      <th>Unnamed: 1</th>\n",
       "      <th>Unnamed: 2</th>\n",
       "      <th>Unnamed: 3</th>\n",
       "      <th>Unnamed: 4</th>\n",
       "      <th>Unnamed: 5</th>\n",
       "      <th>Unnamed: 6</th>\n",
       "      <th>Unnamed: 7</th>\n",
       "      <th>Unnamed: 8</th>\n",
       "      <th>Unnamed: 9</th>\n",
       "      <th>Unnamed: 10</th>\n",
       "      <th>Unnamed: 11</th>\n",
       "      <th>Unnamed: 12</th>\n",
       "      <th>Unnamed: 13</th>\n",
       "      <th>Unnamed: 14</th>\n",
       "      <th>Unnamed: 15</th>\n",
       "      <th>Unnamed: 16</th>\n",
       "      <th>Unnamed: 17</th>\n",
       "      <th>Unnamed: 18</th>\n",
       "      <th>Unnamed: 19</th>\n",
       "      <th>Unnamed: 20</th>\n",
       "    </tr>\n",
       "  </thead>\n",
       "  <tbody>\n",
       "    <tr>\n",
       "      <th>0</th>\n",
       "      <td>All Sales From January 2023- December 2023. Pr...</td>\n",
       "      <td>NaN</td>\n",
       "      <td>NaN</td>\n",
       "      <td>NaN</td>\n",
       "      <td>NaN</td>\n",
       "      <td>NaN</td>\n",
       "      <td>NaN</td>\n",
       "      <td>NaN</td>\n",
       "      <td>NaN</td>\n",
       "      <td>NaN</td>\n",
       "      <td>NaN</td>\n",
       "      <td>NaN</td>\n",
       "      <td>NaN</td>\n",
       "      <td>NaN</td>\n",
       "      <td>NaN</td>\n",
       "      <td>NaN</td>\n",
       "      <td>NaN</td>\n",
       "      <td>NaN</td>\n",
       "      <td>NaN</td>\n",
       "      <td>NaN</td>\n",
       "      <td>NaN</td>\n",
       "    </tr>\n",
       "    <tr>\n",
       "      <th>1</th>\n",
       "      <td>For sales prior to the Final, Neighborhood Nam...</td>\n",
       "      <td>NaN</td>\n",
       "      <td>NaN</td>\n",
       "      <td>NaN</td>\n",
       "      <td>NaN</td>\n",
       "      <td>NaN</td>\n",
       "      <td>NaN</td>\n",
       "      <td>NaN</td>\n",
       "      <td>NaN</td>\n",
       "      <td>NaN</td>\n",
       "      <td>NaN</td>\n",
       "      <td>NaN</td>\n",
       "      <td>NaN</td>\n",
       "      <td>NaN</td>\n",
       "      <td>NaN</td>\n",
       "      <td>NaN</td>\n",
       "      <td>NaN</td>\n",
       "      <td>NaN</td>\n",
       "      <td>NaN</td>\n",
       "      <td>NaN</td>\n",
       "      <td>NaN</td>\n",
       "    </tr>\n",
       "    <tr>\n",
       "      <th>2</th>\n",
       "      <td>Sales after the Final Roll, Neighborhood Name ...</td>\n",
       "      <td>NaN</td>\n",
       "      <td>NaN</td>\n",
       "      <td>NaN</td>\n",
       "      <td>NaN</td>\n",
       "      <td>NaN</td>\n",
       "      <td>NaN</td>\n",
       "      <td>NaN</td>\n",
       "      <td>NaN</td>\n",
       "      <td>NaN</td>\n",
       "      <td>NaN</td>\n",
       "      <td>NaN</td>\n",
       "      <td>NaN</td>\n",
       "      <td>NaN</td>\n",
       "      <td>NaN</td>\n",
       "      <td>NaN</td>\n",
       "      <td>NaN</td>\n",
       "      <td>NaN</td>\n",
       "      <td>NaN</td>\n",
       "      <td>NaN</td>\n",
       "      <td>NaN</td>\n",
       "    </tr>\n",
       "    <tr>\n",
       "      <th>3</th>\n",
       "      <td>Building Class Category is based on Building C...</td>\n",
       "      <td>NaN</td>\n",
       "      <td>NaN</td>\n",
       "      <td>NaN</td>\n",
       "      <td>NaN</td>\n",
       "      <td>NaN</td>\n",
       "      <td>NaN</td>\n",
       "      <td>NaN</td>\n",
       "      <td>NaN</td>\n",
       "      <td>NaN</td>\n",
       "      <td>NaN</td>\n",
       "      <td>NaN</td>\n",
       "      <td>NaN</td>\n",
       "      <td>NaN</td>\n",
       "      <td>NaN</td>\n",
       "      <td>NaN</td>\n",
       "      <td>NaN</td>\n",
       "      <td>NaN</td>\n",
       "      <td>NaN</td>\n",
       "      <td>NaN</td>\n",
       "      <td>NaN</td>\n",
       "    </tr>\n",
       "    <tr>\n",
       "      <th>4</th>\n",
       "      <td>Note: Condominium and cooperative sales are on...</td>\n",
       "      <td>NaN</td>\n",
       "      <td>NaN</td>\n",
       "      <td>NaN</td>\n",
       "      <td>NaN</td>\n",
       "      <td>NaN</td>\n",
       "      <td>NaN</td>\n",
       "      <td>NaN</td>\n",
       "      <td>NaN</td>\n",
       "      <td>NaN</td>\n",
       "      <td>NaN</td>\n",
       "      <td>NaN</td>\n",
       "      <td>NaN</td>\n",
       "      <td>NaN</td>\n",
       "      <td>NaN</td>\n",
       "      <td>NaN</td>\n",
       "      <td>NaN</td>\n",
       "      <td>NaN</td>\n",
       "      <td>NaN</td>\n",
       "      <td>NaN</td>\n",
       "      <td>NaN</td>\n",
       "    </tr>\n",
       "  </tbody>\n",
       "</table>\n",
       "</div>"
      ],
      "text/plain": [
       "       MANHATTAN ANNUAL SALES FOR CALENDAR YEAR 2023 Unnamed: 1 Unnamed: 2  \\\n",
       "0  All Sales From January 2023- December 2023. Pr...        NaN        NaN   \n",
       "1  For sales prior to the Final, Neighborhood Nam...        NaN        NaN   \n",
       "2  Sales after the Final Roll, Neighborhood Name ...        NaN        NaN   \n",
       "3  Building Class Category is based on Building C...        NaN        NaN   \n",
       "4  Note: Condominium and cooperative sales are on...        NaN        NaN   \n",
       "\n",
       "  Unnamed: 3 Unnamed: 4 Unnamed: 5 Unnamed: 6 Unnamed: 7 Unnamed: 8  \\\n",
       "0        NaN        NaN        NaN        NaN        NaN        NaN   \n",
       "1        NaN        NaN        NaN        NaN        NaN        NaN   \n",
       "2        NaN        NaN        NaN        NaN        NaN        NaN   \n",
       "3        NaN        NaN        NaN        NaN        NaN        NaN   \n",
       "4        NaN        NaN        NaN        NaN        NaN        NaN   \n",
       "\n",
       "  Unnamed: 9 Unnamed: 10 Unnamed: 11 Unnamed: 12 Unnamed: 13 Unnamed: 14  \\\n",
       "0        NaN         NaN         NaN         NaN         NaN         NaN   \n",
       "1        NaN         NaN         NaN         NaN         NaN         NaN   \n",
       "2        NaN         NaN         NaN         NaN         NaN         NaN   \n",
       "3        NaN         NaN         NaN         NaN         NaN         NaN   \n",
       "4        NaN         NaN         NaN         NaN         NaN         NaN   \n",
       "\n",
       "  Unnamed: 15 Unnamed: 16 Unnamed: 17 Unnamed: 18 Unnamed: 19 Unnamed: 20  \n",
       "0         NaN         NaN         NaN         NaN         NaN         NaN  \n",
       "1         NaN         NaN         NaN         NaN         NaN         NaN  \n",
       "2         NaN         NaN         NaN         NaN         NaN         NaN  \n",
       "3         NaN         NaN         NaN         NaN         NaN         NaN  \n",
       "4         NaN         NaN         NaN         NaN         NaN         NaN  "
      ]
     },
     "execution_count": 249,
     "metadata": {},
     "output_type": "execute_result"
    }
   ],
   "source": [
    "# Import NYC Property Sales Dataset over 2 periods (Manhattan) for inspection and dataset cleaning requirement identification\n",
    "# Sales for Manhattan in 2023\n",
    "man_23 = pd.read_excel('./raw_data/2023_manhattan.xlsx')\n",
    "man_23.head()"
   ]
  },
  {
   "cell_type": "code",
   "execution_count": 250,
   "id": "f38d9b31",
   "metadata": {},
   "outputs": [
    {
     "data": {
      "application/vnd.microsoft.datawrangler.viewer.v0+json": {
       "columns": [
        {
         "name": "index",
         "rawType": "int64",
         "type": "integer"
        },
        {
         "name": "Bronx Rolling Sales. All Sales From March 2024 - February 2025",
         "rawType": "object",
         "type": "unknown"
        },
        {
         "name": "Unnamed: 1",
         "rawType": "object",
         "type": "unknown"
        },
        {
         "name": "Unnamed: 2",
         "rawType": "object",
         "type": "unknown"
        },
        {
         "name": "Unnamed: 3",
         "rawType": "object",
         "type": "unknown"
        },
        {
         "name": "Unnamed: 4",
         "rawType": "object",
         "type": "unknown"
        },
        {
         "name": "Unnamed: 5",
         "rawType": "object",
         "type": "unknown"
        },
        {
         "name": "Unnamed: 6",
         "rawType": "object",
         "type": "unknown"
        },
        {
         "name": "Unnamed: 7",
         "rawType": "object",
         "type": "unknown"
        },
        {
         "name": "Unnamed: 8",
         "rawType": "object",
         "type": "unknown"
        },
        {
         "name": "Unnamed: 9",
         "rawType": "object",
         "type": "unknown"
        },
        {
         "name": "Unnamed: 10",
         "rawType": "object",
         "type": "unknown"
        },
        {
         "name": "Unnamed: 11",
         "rawType": "object",
         "type": "unknown"
        },
        {
         "name": "Unnamed: 12",
         "rawType": "object",
         "type": "unknown"
        },
        {
         "name": "Unnamed: 13",
         "rawType": "object",
         "type": "unknown"
        },
        {
         "name": "Unnamed: 14",
         "rawType": "object",
         "type": "unknown"
        },
        {
         "name": "Unnamed: 15",
         "rawType": "object",
         "type": "unknown"
        },
        {
         "name": "Unnamed: 16",
         "rawType": "object",
         "type": "unknown"
        },
        {
         "name": "Unnamed: 17",
         "rawType": "object",
         "type": "unknown"
        },
        {
         "name": "Unnamed: 18",
         "rawType": "object",
         "type": "unknown"
        },
        {
         "name": "PTS Sales Data as of 03/06/2025",
         "rawType": "object",
         "type": "unknown"
        },
        {
         "name": "Unnamed: 20",
         "rawType": "object",
         "type": "unknown"
        }
       ],
       "conversionMethod": "pd.DataFrame",
       "ref": "3dab059d-81a9-4128-8a34-6bf48772643f",
       "rows": [
        [
         "0",
         "For sales prior to the Final Roll, Neighborhood Name and Descriptive Data reflect the most recent Final Roll. Sales after the Final Roll, Neighborhood Name and Descriptive Data reflect current data.",
         null,
         null,
         null,
         null,
         null,
         null,
         null,
         null,
         null,
         null,
         null,
         null,
         null,
         null,
         null,
         null,
         null,
         null,
         null,
         null
        ],
        [
         "1",
         "Building Class Category is based on Building Class at Time of Sale.",
         null,
         null,
         null,
         null,
         null,
         null,
         null,
         null,
         null,
         null,
         null,
         null,
         null,
         null,
         null,
         null,
         null,
         null,
         null,
         null
        ],
        [
         "2",
         "Note: Condominium and cooperative sales are on the unit level and understood to have a count of one.",
         null,
         null,
         null,
         null,
         null,
         null,
         null,
         null,
         null,
         null,
         null,
         null,
         null,
         null,
         null,
         null,
         null,
         null,
         null,
         null
        ],
        [
         "3",
         "BOROUGH",
         "NEIGHBORHOOD",
         "BUILDING CLASS CATEGORY",
         "TAX CLASS AT PRESENT",
         "BLOCK",
         "LOT",
         "EASEMENT",
         "BUILDING CLASS AT PRESENT",
         "ADDRESS",
         "APARTMENT NUMBER",
         "ZIP CODE",
         "RESIDENTIAL UNITS",
         "COMMERCIAL UNITS",
         "TOTAL UNITS",
         "LAND SQUARE FEET",
         "GROSS SQUARE FEET",
         "YEAR BUILT",
         "TAX CLASS AT TIME OF SALE",
         "BUILDING CLASS AT TIME OF SALE",
         "SALE PRICE",
         "SALE DATE"
        ],
        [
         "4",
         "2",
         "BATHGATE",
         "01 ONE FAMILY DWELLINGS",
         "1",
         "2907",
         "24",
         null,
         "A1",
         "4090 PARK AVENUE",
         null,
         "10457",
         "1",
         "0",
         "1",
         "2500",
         "1474",
         "1901",
         "1",
         "A1",
         "0",
         "2024-03-28 00:00:00"
        ]
       ],
       "shape": {
        "columns": 21,
        "rows": 5
       }
      },
      "text/html": [
       "<div>\n",
       "<style scoped>\n",
       "    .dataframe tbody tr th:only-of-type {\n",
       "        vertical-align: middle;\n",
       "    }\n",
       "\n",
       "    .dataframe tbody tr th {\n",
       "        vertical-align: top;\n",
       "    }\n",
       "\n",
       "    .dataframe thead th {\n",
       "        text-align: right;\n",
       "    }\n",
       "</style>\n",
       "<table border=\"1\" class=\"dataframe\">\n",
       "  <thead>\n",
       "    <tr style=\"text-align: right;\">\n",
       "      <th></th>\n",
       "      <th>Bronx Rolling Sales. All Sales From March 2024 - February 2025</th>\n",
       "      <th>Unnamed: 1</th>\n",
       "      <th>Unnamed: 2</th>\n",
       "      <th>Unnamed: 3</th>\n",
       "      <th>Unnamed: 4</th>\n",
       "      <th>Unnamed: 5</th>\n",
       "      <th>Unnamed: 6</th>\n",
       "      <th>Unnamed: 7</th>\n",
       "      <th>Unnamed: 8</th>\n",
       "      <th>Unnamed: 9</th>\n",
       "      <th>Unnamed: 10</th>\n",
       "      <th>Unnamed: 11</th>\n",
       "      <th>Unnamed: 12</th>\n",
       "      <th>Unnamed: 13</th>\n",
       "      <th>Unnamed: 14</th>\n",
       "      <th>Unnamed: 15</th>\n",
       "      <th>Unnamed: 16</th>\n",
       "      <th>Unnamed: 17</th>\n",
       "      <th>Unnamed: 18</th>\n",
       "      <th>PTS Sales Data as of 03/06/2025</th>\n",
       "      <th>Unnamed: 20</th>\n",
       "    </tr>\n",
       "  </thead>\n",
       "  <tbody>\n",
       "    <tr>\n",
       "      <th>0</th>\n",
       "      <td>For sales prior to the Final Roll, Neighborhoo...</td>\n",
       "      <td>NaN</td>\n",
       "      <td>NaN</td>\n",
       "      <td>NaN</td>\n",
       "      <td>NaN</td>\n",
       "      <td>NaN</td>\n",
       "      <td>NaN</td>\n",
       "      <td>NaN</td>\n",
       "      <td>NaN</td>\n",
       "      <td>NaN</td>\n",
       "      <td>NaN</td>\n",
       "      <td>NaN</td>\n",
       "      <td>NaN</td>\n",
       "      <td>NaN</td>\n",
       "      <td>NaN</td>\n",
       "      <td>NaN</td>\n",
       "      <td>NaN</td>\n",
       "      <td>NaN</td>\n",
       "      <td>NaN</td>\n",
       "      <td>NaN</td>\n",
       "      <td>NaN</td>\n",
       "    </tr>\n",
       "    <tr>\n",
       "      <th>1</th>\n",
       "      <td>Building Class Category is based on Building C...</td>\n",
       "      <td>NaN</td>\n",
       "      <td>NaN</td>\n",
       "      <td>NaN</td>\n",
       "      <td>NaN</td>\n",
       "      <td>NaN</td>\n",
       "      <td>NaN</td>\n",
       "      <td>NaN</td>\n",
       "      <td>NaN</td>\n",
       "      <td>NaN</td>\n",
       "      <td>NaN</td>\n",
       "      <td>NaN</td>\n",
       "      <td>NaN</td>\n",
       "      <td>NaN</td>\n",
       "      <td>NaN</td>\n",
       "      <td>NaN</td>\n",
       "      <td>NaN</td>\n",
       "      <td>NaN</td>\n",
       "      <td>NaN</td>\n",
       "      <td>NaN</td>\n",
       "      <td>NaN</td>\n",
       "    </tr>\n",
       "    <tr>\n",
       "      <th>2</th>\n",
       "      <td>Note: Condominium and cooperative sales are on...</td>\n",
       "      <td>NaN</td>\n",
       "      <td>NaN</td>\n",
       "      <td>NaN</td>\n",
       "      <td>NaN</td>\n",
       "      <td>NaN</td>\n",
       "      <td>NaN</td>\n",
       "      <td>NaN</td>\n",
       "      <td>NaN</td>\n",
       "      <td>NaN</td>\n",
       "      <td>NaN</td>\n",
       "      <td>NaN</td>\n",
       "      <td>NaN</td>\n",
       "      <td>NaN</td>\n",
       "      <td>NaN</td>\n",
       "      <td>NaN</td>\n",
       "      <td>NaN</td>\n",
       "      <td>NaN</td>\n",
       "      <td>NaN</td>\n",
       "      <td>NaN</td>\n",
       "      <td>NaN</td>\n",
       "    </tr>\n",
       "    <tr>\n",
       "      <th>3</th>\n",
       "      <td>BOROUGH</td>\n",
       "      <td>NEIGHBORHOOD</td>\n",
       "      <td>BUILDING CLASS CATEGORY</td>\n",
       "      <td>TAX CLASS AT PRESENT</td>\n",
       "      <td>BLOCK</td>\n",
       "      <td>LOT</td>\n",
       "      <td>EASEMENT</td>\n",
       "      <td>BUILDING CLASS AT PRESENT</td>\n",
       "      <td>ADDRESS</td>\n",
       "      <td>APARTMENT NUMBER</td>\n",
       "      <td>ZIP CODE</td>\n",
       "      <td>RESIDENTIAL UNITS</td>\n",
       "      <td>COMMERCIAL UNITS</td>\n",
       "      <td>TOTAL UNITS</td>\n",
       "      <td>LAND SQUARE FEET</td>\n",
       "      <td>GROSS SQUARE FEET</td>\n",
       "      <td>YEAR BUILT</td>\n",
       "      <td>TAX CLASS AT TIME OF SALE</td>\n",
       "      <td>BUILDING CLASS AT TIME OF SALE</td>\n",
       "      <td>SALE PRICE</td>\n",
       "      <td>SALE DATE</td>\n",
       "    </tr>\n",
       "    <tr>\n",
       "      <th>4</th>\n",
       "      <td>2</td>\n",
       "      <td>BATHGATE</td>\n",
       "      <td>01 ONE FAMILY DWELLINGS</td>\n",
       "      <td>1</td>\n",
       "      <td>2907</td>\n",
       "      <td>24</td>\n",
       "      <td>NaN</td>\n",
       "      <td>A1</td>\n",
       "      <td>4090 PARK AVENUE</td>\n",
       "      <td>NaN</td>\n",
       "      <td>10457</td>\n",
       "      <td>1</td>\n",
       "      <td>0</td>\n",
       "      <td>1</td>\n",
       "      <td>2500</td>\n",
       "      <td>1474</td>\n",
       "      <td>1901</td>\n",
       "      <td>1</td>\n",
       "      <td>A1</td>\n",
       "      <td>0</td>\n",
       "      <td>2024-03-28 00:00:00</td>\n",
       "    </tr>\n",
       "  </tbody>\n",
       "</table>\n",
       "</div>"
      ],
      "text/plain": [
       "  Bronx Rolling Sales. All Sales From March 2024 - February 2025  \\\n",
       "0  For sales prior to the Final Roll, Neighborhoo...               \n",
       "1  Building Class Category is based on Building C...               \n",
       "2  Note: Condominium and cooperative sales are on...               \n",
       "3                                            BOROUGH               \n",
       "4                                                  2               \n",
       "\n",
       "     Unnamed: 1               Unnamed: 2            Unnamed: 3 Unnamed: 4  \\\n",
       "0           NaN                      NaN                   NaN        NaN   \n",
       "1           NaN                      NaN                   NaN        NaN   \n",
       "2           NaN                      NaN                   NaN        NaN   \n",
       "3  NEIGHBORHOOD  BUILDING CLASS CATEGORY  TAX CLASS AT PRESENT      BLOCK   \n",
       "4      BATHGATE  01 ONE FAMILY DWELLINGS                     1       2907   \n",
       "\n",
       "  Unnamed: 5 Unnamed: 6                 Unnamed: 7        Unnamed: 8  \\\n",
       "0        NaN        NaN                        NaN               NaN   \n",
       "1        NaN        NaN                        NaN               NaN   \n",
       "2        NaN        NaN                        NaN               NaN   \n",
       "3        LOT   EASEMENT  BUILDING CLASS AT PRESENT           ADDRESS   \n",
       "4         24        NaN                         A1  4090 PARK AVENUE   \n",
       "\n",
       "         Unnamed: 9 Unnamed: 10        Unnamed: 11       Unnamed: 12  \\\n",
       "0               NaN         NaN                NaN               NaN   \n",
       "1               NaN         NaN                NaN               NaN   \n",
       "2               NaN         NaN                NaN               NaN   \n",
       "3  APARTMENT NUMBER    ZIP CODE  RESIDENTIAL UNITS  COMMERCIAL UNITS   \n",
       "4               NaN       10457                  1                 0   \n",
       "\n",
       "   Unnamed: 13       Unnamed: 14        Unnamed: 15 Unnamed: 16  \\\n",
       "0          NaN               NaN                NaN         NaN   \n",
       "1          NaN               NaN                NaN         NaN   \n",
       "2          NaN               NaN                NaN         NaN   \n",
       "3  TOTAL UNITS  LAND SQUARE FEET  GROSS SQUARE FEET  YEAR BUILT   \n",
       "4            1              2500               1474        1901   \n",
       "\n",
       "                 Unnamed: 17                     Unnamed: 18  \\\n",
       "0                        NaN                             NaN   \n",
       "1                        NaN                             NaN   \n",
       "2                        NaN                             NaN   \n",
       "3  TAX CLASS AT TIME OF SALE  BUILDING CLASS AT TIME OF SALE   \n",
       "4                          1                              A1   \n",
       "\n",
       "  PTS Sales Data as of 03/06/2025          Unnamed: 20  \n",
       "0                             NaN                  NaN  \n",
       "1                             NaN                  NaN  \n",
       "2                             NaN                  NaN  \n",
       "3                      SALE PRICE            SALE DATE  \n",
       "4                               0  2024-03-28 00:00:00  "
      ]
     },
     "execution_count": 250,
     "metadata": {},
     "output_type": "execute_result"
    }
   ],
   "source": [
    "#Sales for Manhattan in 2024\n",
    "man_24 = pd.read_excel('./raw_data/rollingsales_bronx_24.xlsx')\n",
    "man_24.head()"
   ]
  },
  {
   "cell_type": "markdown",
   "id": "5cc02b86",
   "metadata": {},
   "source": [
    "There are several issues within the dataset which require cleaning and preprocessing upon inspection both within pandas and excel which appear to be consistent across datasets across the years. \n",
    "\n",
    "This includes:\n",
    "\n",
    "**Column Headers and row index at start of dataset**\n",
    "- Rows from index 0-4 (5 rows) and 6 (1 row) are dropped (Column header in row index 5) for year 2023. However this is not consistent between the years. Indexing the header using loc will thus not work uniformly.\n",
    "- For consistency purposes the first 10 rows will be dropped and the original headers will be added before further processing \n",
    "- Columns names to be formatted where double spaces and new lines are to be replaced with single space\n",
    "\n",
    "**Data Type**\n",
    "- Numerical data columns of object type to be converted to interger (Block, Lot, ZIP etc.)\n",
    "- Categorical data columns of object type to be converted to string (Building Class Category, Address)\n",
    "- Sale date column are converted to datetime format (YYYY-MM-DD)\n",
    " \n",
    "**Missing Value Treatment**\n",
    "- Sale price of 0, 1 and other arbitrary low number are to be replaced with NaN as this generally indicates a transfer of ownership per appendix. For data quality purposes sale prices from 0-10000 will be NaN.\n",
    "\n",
    "**Dropping of Columns and Records**\n",
    "- Block/lot/ease-ment are used for tax purpsoes and does not affect sales\n",
    "- A significant percentage (in excess of 60%) of land/gross square feet values are missing. While these variables are useful in identifying average cost per area, for scope and accuracy purposes will not be considered\n",
    "- Building class at present and time of sale are not relevant to sales and are to be removed\n",
    "\n",
    "\n",
    "**Treatment of Records**\n",
    "- Per appendix, transactions with Tax Class 4 are that of commercial properties. These typically have a high transactional sale above residential properties and are to be removed to prevent skewing\n",
    "-Borough numbers are to be renamed to as per respective NYC Borough Code reference where: \n",
    "\n",
    "\n",
    "| Code | Borough Name   |\n",
    "|------|----------------|\n",
    "| 1    | Manhattan      |\n",
    "| 2    | Bronx          |\n",
    "| 3    | Brooklyn       |\n",
    "| 4    | Queens         |\n",
    "| 5    | Staten Island  |\n",
    "\n",
    "For ease of processing multiple datasets, a function (load_clean_data) will be created to address the above."
   ]
  },
  {
   "cell_type": "code",
   "execution_count": 251,
   "id": "b60b97bc",
   "metadata": {},
   "outputs": [],
   "source": [
    "def load_clean_data(filepath):\n",
    "    \n",
    "    # Define expected column names manually (from the 2023/2024 files)\n",
    "    columns = [\n",
    "        'BOROUGH', 'NEIGHBORHOOD', 'BUILDING CLASS CATEGORY', 'TAX CLASS AT PRESENT',\n",
    "        'BLOCK', 'LOT', 'EASE-MENT', 'BUILDING CLASS AT PRESENT', 'ADDRESS',\n",
    "        'APARTMENT NUMBER', 'ZIP CODE', 'RESIDENTIAL UNITS', 'COMMERCIAL UNITS',\n",
    "        'TOTAL UNITS', 'LAND SQUARE FEET', 'GROSS SQUARE FEET', 'YEAR BUILT',\n",
    "        'TAX CLASS AT TIME OF SALE', 'BUILDING CLASS AT TIME OF SALE',\n",
    "        'SALE PRICE', 'SALE DATE'\n",
    "    ]\n",
    "    \n",
    "    # Load dataset, skipping the first 6 rows\n",
    "    df = pd.read_excel(filepath, skiprows=10, header=None)\n",
    "    \n",
    "    # Drop the first row (which is often empty or misaligned), reset index\n",
    "    df = df.iloc[1:].reset_index(drop=True)\n",
    "    \n",
    "    # Assign column names manually\n",
    "    df.columns = columns[:len(df.columns)]\n",
    "    \n",
    "    # Clean column names\n",
    "    df.columns = (\n",
    "        df.columns.str.strip()\n",
    "                  .str.replace('\\n', ' ', regex=True)\n",
    "                  .str.replace('\\s+', ' ', regex=True)\n",
    "    )\n",
    "    \n",
    "    # Replace borough numbers with names\n",
    "    borough_map = {\n",
    "        1: 'MANHATTAN', 2: 'BRONX', 3: 'BROOKLYN', 4: 'QUEENS', 5: 'STATEN ISLAND'\n",
    "    }\n",
    "    df['BOROUGH'] = pd.to_numeric(df['BOROUGH'], errors='coerce').map(borough_map)\n",
    "    \n",
    "    # Drop unnecessary columns\n",
    "    columns_to_drop = [\n",
    "        'BLOCK', 'LOT', 'EASE-MENT', 'BUILDING CLASS AT TIME OF SALE',\n",
    "        'BUILDING CLASS AT PRESENT', 'APARTMENT NUMBER',\n",
    "        'LAND SQUARE FEET', 'GROSS SQUARE FEET'\n",
    "    ]\n",
    "    df.drop(columns=[col for col in columns_to_drop if col in df.columns], inplace=True)\n",
    "    \n",
    "    # Remove Tax Class 4 (mostly commercial)\n",
    "    df = df[df['TAX CLASS AT PRESENT'] != '4']\n",
    "    \n",
    "    # Convert numeric columns\n",
    "    int_columns = [\n",
    "        'ZIP CODE', 'RESIDENTIAL UNITS', 'COMMERCIAL UNITS', 'TOTAL UNITS',\n",
    "        'YEAR BUILT', 'TAX CLASS AT TIME OF SALE', 'SALE PRICE'\n",
    "    ]\n",
    "    for col in int_columns:\n",
    "        df[col] = pd.to_numeric(df[col], errors='coerce').astype('Int64')\n",
    "    \n",
    "    # Convert categorical columns\n",
    "    cat_columns = ['BOROUGH', 'NEIGHBORHOOD', 'BUILDING CLASS CATEGORY', 'TAX CLASS AT PRESENT', 'ADDRESS']\n",
    "    for col in cat_columns:\n",
    "        df[col] = df[col].astype('string')\n",
    "    \n",
    "    # Convert sale date\n",
    "    df['SALE DATE'] = pd.to_datetime(df['SALE DATE'], errors='coerce')\n",
    "    \n",
    "    # Remove prices less than 10,000 (likely not real sales)\n",
    "    df.loc[df['SALE PRICE'] <= 10000, 'SALE PRICE'] = np.nan\n",
    "\n",
    "    return df\n"
   ]
  },
  {
   "cell_type": "markdown",
   "id": "ca730074",
   "metadata": {},
   "source": [
    "#### Cleaned dataset"
   ]
  },
  {
   "cell_type": "code",
   "execution_count": 252,
   "id": "d97a0790",
   "metadata": {},
   "outputs": [
    {
     "data": {
      "application/vnd.microsoft.datawrangler.viewer.v0+json": {
       "columns": [
        {
         "name": "index",
         "rawType": "int64",
         "type": "integer"
        },
        {
         "name": "BOROUGH",
         "rawType": "string",
         "type": "string"
        },
        {
         "name": "NEIGHBORHOOD",
         "rawType": "string",
         "type": "string"
        },
        {
         "name": "BUILDING CLASS CATEGORY",
         "rawType": "string",
         "type": "string"
        },
        {
         "name": "TAX CLASS AT PRESENT",
         "rawType": "string",
         "type": "string"
        },
        {
         "name": "ADDRESS",
         "rawType": "string",
         "type": "string"
        },
        {
         "name": "ZIP CODE",
         "rawType": "Int64",
         "type": "integer"
        },
        {
         "name": "RESIDENTIAL UNITS",
         "rawType": "Int64",
         "type": "integer"
        },
        {
         "name": "COMMERCIAL UNITS",
         "rawType": "Int64",
         "type": "integer"
        },
        {
         "name": "TOTAL UNITS",
         "rawType": "Int64",
         "type": "integer"
        },
        {
         "name": "YEAR BUILT",
         "rawType": "Int64",
         "type": "integer"
        },
        {
         "name": "TAX CLASS AT TIME OF SALE",
         "rawType": "Int64",
         "type": "integer"
        },
        {
         "name": "SALE PRICE",
         "rawType": "Int64",
         "type": "integer"
        },
        {
         "name": "SALE DATE",
         "rawType": "datetime64[ns]",
         "type": "datetime"
        }
       ],
       "conversionMethod": "pd.DataFrame",
       "ref": "5fcf37da-99c2-4d02-b1ad-b174925f0d75",
       "rows": [
        [
         "0",
         "MANHATTAN",
         "ALPHABET CITY",
         "07 RENTALS - WALKUP APARTMENTS",
         "2A",
         "266 EAST 7TH",
         "10009",
         "4",
         "0",
         "4",
         "1900",
         "2",
         null,
         "2023-11-09 00:00:00"
        ],
        [
         "1",
         "MANHATTAN",
         "ALPHABET CITY",
         "07 RENTALS - WALKUP APARTMENTS",
         "2",
         "745 EAST 6TH STREET, 3D",
         "10009",
         "28",
         "0",
         "28",
         "1900",
         "2",
         "625000",
         "2023-12-13 00:00:00"
        ],
        [
         "2",
         "MANHATTAN",
         "ALPHABET CITY",
         "07 RENTALS - WALKUP APARTMENTS",
         "2",
         "745 EAST 6TH STREET, 4B",
         "10009",
         "28",
         "0",
         "28",
         "1900",
         "2",
         "565000",
         "2023-12-19 00:00:00"
        ],
        [
         "3",
         "MANHATTAN",
         "ALPHABET CITY",
         "07 RENTALS - WALKUP APARTMENTS",
         "2",
         "209 EAST 7TH STREET, 3E",
         "10009",
         "29",
         "0",
         "29",
         "1900",
         "2",
         "154196",
         "2023-09-15 00:00:00"
        ],
        [
         "4",
         "MANHATTAN",
         "ALPHABET CITY",
         "07 RENTALS - WALKUP APARTMENTS",
         "2",
         "209 EAST 7TH STREET, 4E",
         "10009",
         "29",
         "0",
         "29",
         "1900",
         "2",
         "154196",
         "2023-09-15 00:00:00"
        ],
        [
         "5",
         "MANHATTAN",
         "ALPHABET CITY",
         "07 RENTALS - WALKUP APARTMENTS",
         "2A",
         "191 EAST 7TH STREET",
         "10009",
         "5",
         "0",
         "5",
         "1910",
         "2",
         "2725000",
         "2023-08-10 00:00:00"
        ],
        [
         "6",
         "MANHATTAN",
         "ALPHABET CITY",
         "07 RENTALS - WALKUP APARTMENTS",
         "2B",
         "221 AVENUE B",
         "10009",
         "8",
         "1",
         "9",
         "1904",
         "2",
         null,
         "2023-03-31 00:00:00"
        ],
        [
         "7",
         "MANHATTAN",
         "ALPHABET CITY",
         "07 RENTALS - WALKUP APARTMENTS",
         "2",
         "6 AVENUE B",
         "10009",
         "10",
         "1",
         "11",
         "1900",
         "2",
         "1050000",
         "2023-01-27 00:00:00"
        ],
        [
         "8",
         "MANHATTAN",
         "ALPHABET CITY",
         "07 RENTALS - WALKUP APARTMENTS",
         "2",
         "6 AVENUE B",
         "10009",
         "10",
         "1",
         "11",
         "1900",
         "2",
         "7800000",
         "2023-09-29 00:00:00"
        ],
        [
         "9",
         "MANHATTAN",
         "ALPHABET CITY",
         "07 RENTALS - WALKUP APARTMENTS",
         "2B",
         "177 EAST 3RD STREET",
         "10009",
         "10",
         "0",
         "10",
         "1900",
         "2",
         "10800000",
         "2023-06-20 00:00:00"
        ],
        [
         "10",
         "MANHATTAN",
         "ALPHABET CITY",
         "07 RENTALS - WALKUP APARTMENTS",
         "2B",
         "175 EAST 3RD STREET",
         "10009",
         "8",
         "2",
         "10",
         "1900",
         "2",
         "10800000",
         "2023-06-20 00:00:00"
        ],
        [
         "11",
         "MANHATTAN",
         "ALPHABET CITY",
         "07 RENTALS - WALKUP APARTMENTS",
         "2B",
         "203 EAST 4TH STREET",
         "10009",
         "10",
         "0",
         "10",
         "1900",
         "2",
         "25507195",
         "2023-12-20 00:00:00"
        ],
        [
         "12",
         "MANHATTAN",
         "ALPHABET CITY",
         "07 RENTALS - WALKUP APARTMENTS",
         "2B",
         "201 EAST 4TH STREET",
         "10009",
         "9",
         "0",
         "9",
         "1900",
         "2",
         "25507195",
         "2023-12-20 00:00:00"
        ],
        [
         "13",
         "MANHATTAN",
         "ALPHABET CITY",
         "07 RENTALS - WALKUP APARTMENTS",
         "2B",
         "199 EAST 4TH STREET",
         "10009",
         "9",
         "1",
         "10",
         "1900",
         "2",
         "25507195",
         "2023-12-20 00:00:00"
        ],
        [
         "14",
         "MANHATTAN",
         "ALPHABET CITY",
         "07 RENTALS - WALKUP APARTMENTS",
         "2",
         "195 EAST 4TH STREET",
         "10009",
         "18",
         "0",
         "18",
         "1913",
         "2",
         "5750000",
         "2023-03-22 00:00:00"
        ],
        [
         "15",
         "MANHATTAN",
         "ALPHABET CITY",
         "07 RENTALS - WALKUP APARTMENTS",
         "2B",
         "543 EAST 6 STREET",
         "10009",
         "8",
         "1",
         "9",
         "1930",
         "2",
         "3250000",
         "2023-07-14 00:00:00"
        ],
        [
         "16",
         "MANHATTAN",
         "ALPHABET CITY",
         "07 RENTALS - WALKUP APARTMENTS",
         "2",
         "504 EAST 12TH STREET",
         "10009",
         "28",
         "2",
         "30",
         "1930",
         "2",
         "19500000",
         "2023-11-08 00:00:00"
        ],
        [
         "17",
         "MANHATTAN",
         "ALPHABET CITY",
         "07 RENTALS - WALKUP APARTMENTS",
         "2",
         "508 EAST 12TH STREET",
         "10009",
         "28",
         "2",
         "30",
         "1930",
         "2",
         "19500000",
         "2023-11-08 00:00:00"
        ],
        [
         "18",
         "MANHATTAN",
         "ALPHABET CITY",
         "07 RENTALS - WALKUP APARTMENTS",
         "2",
         "517 EAST 12TH STREET",
         "10009",
         "16",
         "2",
         "18",
         "1900",
         "2",
         null,
         "2023-01-18 00:00:00"
        ],
        [
         "19",
         "MANHATTAN",
         "ALPHABET CITY",
         "08 RENTALS - ELEVATOR APARTMENTS",
         "2",
         "630 EAST 6TH STREET",
         "10009",
         "40",
         "0",
         "40",
         "1900",
         "2",
         null,
         "2023-03-31 00:00:00"
        ],
        [
         "20",
         "MANHATTAN",
         "ALPHABET CITY",
         "08 RENTALS - ELEVATOR APARTMENTS",
         "2",
         "176 EAST 3RD STREET",
         "10009",
         "48",
         "2",
         "50",
         "1931",
         "2",
         null,
         "2023-12-31 00:00:00"
        ],
        [
         "21",
         "MANHATTAN",
         "ALPHABET CITY",
         "08 RENTALS - ELEVATOR APARTMENTS",
         "2",
         "315 EAST 10TH STREET",
         "10009",
         "12",
         "0",
         "12",
         "1920",
         "2",
         "9067043",
         "2023-12-20 00:00:00"
        ],
        [
         "22",
         "MANHATTAN",
         "ALPHABET CITY",
         "09 COOPS - WALKUP APARTMENTS",
         "2",
         "317 EAST 3RD STREET, 8",
         "10009",
         null,
         null,
         null,
         "1925",
         "2",
         null,
         "2023-02-03 00:00:00"
        ],
        [
         "23",
         "MANHATTAN",
         "ALPHABET CITY",
         "09 COOPS - WALKUP APARTMENTS",
         "2",
         "317 EAST 3RD STREET, 9",
         "10009",
         null,
         null,
         null,
         "1925",
         "2",
         "705500",
         "2023-06-30 00:00:00"
        ],
        [
         "24",
         "MANHATTAN",
         "ALPHABET CITY",
         "09 COOPS - WALKUP APARTMENTS",
         "2",
         "311 EAST 3RD STREET, 1",
         "10009",
         null,
         null,
         null,
         "1920",
         "2",
         "468000",
         "2023-09-28 00:00:00"
        ],
        [
         "25",
         "MANHATTAN",
         "ALPHABET CITY",
         "09 COOPS - WALKUP APARTMENTS",
         "2",
         "252 EAST 7TH STREET, 3-4",
         "10009",
         null,
         null,
         null,
         "1928",
         "2",
         "76050",
         "2023-08-09 00:00:00"
        ],
        [
         "26",
         "MANHATTAN",
         "ALPHABET CITY",
         "09 COOPS - WALKUP APARTMENTS",
         "2",
         "252 EAST 7TH STREET, 7-8",
         "10009",
         null,
         null,
         null,
         "1928",
         "2",
         "910000",
         "2023-11-21 00:00:00"
        ],
        [
         "27",
         "MANHATTAN",
         "ALPHABET CITY",
         "09 COOPS - WALKUP APARTMENTS",
         "2",
         "278 EAST 7TH STREET, 5C",
         "10009",
         null,
         null,
         null,
         "1920",
         "2",
         "149750",
         "2023-10-17 00:00:00"
        ],
        [
         "28",
         "MANHATTAN",
         "ALPHABET CITY",
         "09 COOPS - WALKUP APARTMENTS",
         "2C",
         "265 EAST 7TH STREET, 3",
         "10009",
         null,
         null,
         null,
         "1900",
         "2",
         "1100000",
         "2023-07-06 00:00:00"
        ],
        [
         "29",
         "MANHATTAN",
         "ALPHABET CITY",
         "09 COOPS - WALKUP APARTMENTS",
         "2",
         "257 EAST 7TH STREET, 13",
         "10009",
         null,
         null,
         null,
         "1900",
         "2",
         "999500",
         "2023-07-19 00:00:00"
        ]
       ],
       "shape": {
        "columns": 13,
        "rows": 30
       }
      },
      "text/html": [
       "<div>\n",
       "<style scoped>\n",
       "    .dataframe tbody tr th:only-of-type {\n",
       "        vertical-align: middle;\n",
       "    }\n",
       "\n",
       "    .dataframe tbody tr th {\n",
       "        vertical-align: top;\n",
       "    }\n",
       "\n",
       "    .dataframe thead th {\n",
       "        text-align: right;\n",
       "    }\n",
       "</style>\n",
       "<table border=\"1\" class=\"dataframe\">\n",
       "  <thead>\n",
       "    <tr style=\"text-align: right;\">\n",
       "      <th></th>\n",
       "      <th>BOROUGH</th>\n",
       "      <th>NEIGHBORHOOD</th>\n",
       "      <th>BUILDING CLASS CATEGORY</th>\n",
       "      <th>TAX CLASS AT PRESENT</th>\n",
       "      <th>ADDRESS</th>\n",
       "      <th>ZIP CODE</th>\n",
       "      <th>RESIDENTIAL UNITS</th>\n",
       "      <th>COMMERCIAL UNITS</th>\n",
       "      <th>TOTAL UNITS</th>\n",
       "      <th>YEAR BUILT</th>\n",
       "      <th>TAX CLASS AT TIME OF SALE</th>\n",
       "      <th>SALE PRICE</th>\n",
       "      <th>SALE DATE</th>\n",
       "    </tr>\n",
       "  </thead>\n",
       "  <tbody>\n",
       "    <tr>\n",
       "      <th>0</th>\n",
       "      <td>MANHATTAN</td>\n",
       "      <td>ALPHABET CITY</td>\n",
       "      <td>07 RENTALS - WALKUP APARTMENTS</td>\n",
       "      <td>2A</td>\n",
       "      <td>266 EAST 7TH</td>\n",
       "      <td>10009</td>\n",
       "      <td>4</td>\n",
       "      <td>0</td>\n",
       "      <td>4</td>\n",
       "      <td>1900</td>\n",
       "      <td>2</td>\n",
       "      <td>&lt;NA&gt;</td>\n",
       "      <td>2023-11-09</td>\n",
       "    </tr>\n",
       "    <tr>\n",
       "      <th>1</th>\n",
       "      <td>MANHATTAN</td>\n",
       "      <td>ALPHABET CITY</td>\n",
       "      <td>07 RENTALS - WALKUP APARTMENTS</td>\n",
       "      <td>2</td>\n",
       "      <td>745 EAST 6TH STREET, 3D</td>\n",
       "      <td>10009</td>\n",
       "      <td>28</td>\n",
       "      <td>0</td>\n",
       "      <td>28</td>\n",
       "      <td>1900</td>\n",
       "      <td>2</td>\n",
       "      <td>625000</td>\n",
       "      <td>2023-12-13</td>\n",
       "    </tr>\n",
       "    <tr>\n",
       "      <th>2</th>\n",
       "      <td>MANHATTAN</td>\n",
       "      <td>ALPHABET CITY</td>\n",
       "      <td>07 RENTALS - WALKUP APARTMENTS</td>\n",
       "      <td>2</td>\n",
       "      <td>745 EAST 6TH STREET, 4B</td>\n",
       "      <td>10009</td>\n",
       "      <td>28</td>\n",
       "      <td>0</td>\n",
       "      <td>28</td>\n",
       "      <td>1900</td>\n",
       "      <td>2</td>\n",
       "      <td>565000</td>\n",
       "      <td>2023-12-19</td>\n",
       "    </tr>\n",
       "    <tr>\n",
       "      <th>3</th>\n",
       "      <td>MANHATTAN</td>\n",
       "      <td>ALPHABET CITY</td>\n",
       "      <td>07 RENTALS - WALKUP APARTMENTS</td>\n",
       "      <td>2</td>\n",
       "      <td>209 EAST 7TH STREET, 3E</td>\n",
       "      <td>10009</td>\n",
       "      <td>29</td>\n",
       "      <td>0</td>\n",
       "      <td>29</td>\n",
       "      <td>1900</td>\n",
       "      <td>2</td>\n",
       "      <td>154196</td>\n",
       "      <td>2023-09-15</td>\n",
       "    </tr>\n",
       "    <tr>\n",
       "      <th>4</th>\n",
       "      <td>MANHATTAN</td>\n",
       "      <td>ALPHABET CITY</td>\n",
       "      <td>07 RENTALS - WALKUP APARTMENTS</td>\n",
       "      <td>2</td>\n",
       "      <td>209 EAST 7TH STREET, 4E</td>\n",
       "      <td>10009</td>\n",
       "      <td>29</td>\n",
       "      <td>0</td>\n",
       "      <td>29</td>\n",
       "      <td>1900</td>\n",
       "      <td>2</td>\n",
       "      <td>154196</td>\n",
       "      <td>2023-09-15</td>\n",
       "    </tr>\n",
       "    <tr>\n",
       "      <th>5</th>\n",
       "      <td>MANHATTAN</td>\n",
       "      <td>ALPHABET CITY</td>\n",
       "      <td>07 RENTALS - WALKUP APARTMENTS</td>\n",
       "      <td>2A</td>\n",
       "      <td>191 EAST 7TH STREET</td>\n",
       "      <td>10009</td>\n",
       "      <td>5</td>\n",
       "      <td>0</td>\n",
       "      <td>5</td>\n",
       "      <td>1910</td>\n",
       "      <td>2</td>\n",
       "      <td>2725000</td>\n",
       "      <td>2023-08-10</td>\n",
       "    </tr>\n",
       "    <tr>\n",
       "      <th>6</th>\n",
       "      <td>MANHATTAN</td>\n",
       "      <td>ALPHABET CITY</td>\n",
       "      <td>07 RENTALS - WALKUP APARTMENTS</td>\n",
       "      <td>2B</td>\n",
       "      <td>221 AVENUE B</td>\n",
       "      <td>10009</td>\n",
       "      <td>8</td>\n",
       "      <td>1</td>\n",
       "      <td>9</td>\n",
       "      <td>1904</td>\n",
       "      <td>2</td>\n",
       "      <td>&lt;NA&gt;</td>\n",
       "      <td>2023-03-31</td>\n",
       "    </tr>\n",
       "    <tr>\n",
       "      <th>7</th>\n",
       "      <td>MANHATTAN</td>\n",
       "      <td>ALPHABET CITY</td>\n",
       "      <td>07 RENTALS - WALKUP APARTMENTS</td>\n",
       "      <td>2</td>\n",
       "      <td>6 AVENUE B</td>\n",
       "      <td>10009</td>\n",
       "      <td>10</td>\n",
       "      <td>1</td>\n",
       "      <td>11</td>\n",
       "      <td>1900</td>\n",
       "      <td>2</td>\n",
       "      <td>1050000</td>\n",
       "      <td>2023-01-27</td>\n",
       "    </tr>\n",
       "    <tr>\n",
       "      <th>8</th>\n",
       "      <td>MANHATTAN</td>\n",
       "      <td>ALPHABET CITY</td>\n",
       "      <td>07 RENTALS - WALKUP APARTMENTS</td>\n",
       "      <td>2</td>\n",
       "      <td>6 AVENUE B</td>\n",
       "      <td>10009</td>\n",
       "      <td>10</td>\n",
       "      <td>1</td>\n",
       "      <td>11</td>\n",
       "      <td>1900</td>\n",
       "      <td>2</td>\n",
       "      <td>7800000</td>\n",
       "      <td>2023-09-29</td>\n",
       "    </tr>\n",
       "    <tr>\n",
       "      <th>9</th>\n",
       "      <td>MANHATTAN</td>\n",
       "      <td>ALPHABET CITY</td>\n",
       "      <td>07 RENTALS - WALKUP APARTMENTS</td>\n",
       "      <td>2B</td>\n",
       "      <td>177 EAST 3RD STREET</td>\n",
       "      <td>10009</td>\n",
       "      <td>10</td>\n",
       "      <td>0</td>\n",
       "      <td>10</td>\n",
       "      <td>1900</td>\n",
       "      <td>2</td>\n",
       "      <td>10800000</td>\n",
       "      <td>2023-06-20</td>\n",
       "    </tr>\n",
       "    <tr>\n",
       "      <th>10</th>\n",
       "      <td>MANHATTAN</td>\n",
       "      <td>ALPHABET CITY</td>\n",
       "      <td>07 RENTALS - WALKUP APARTMENTS</td>\n",
       "      <td>2B</td>\n",
       "      <td>175 EAST 3RD STREET</td>\n",
       "      <td>10009</td>\n",
       "      <td>8</td>\n",
       "      <td>2</td>\n",
       "      <td>10</td>\n",
       "      <td>1900</td>\n",
       "      <td>2</td>\n",
       "      <td>10800000</td>\n",
       "      <td>2023-06-20</td>\n",
       "    </tr>\n",
       "    <tr>\n",
       "      <th>11</th>\n",
       "      <td>MANHATTAN</td>\n",
       "      <td>ALPHABET CITY</td>\n",
       "      <td>07 RENTALS - WALKUP APARTMENTS</td>\n",
       "      <td>2B</td>\n",
       "      <td>203 EAST 4TH STREET</td>\n",
       "      <td>10009</td>\n",
       "      <td>10</td>\n",
       "      <td>0</td>\n",
       "      <td>10</td>\n",
       "      <td>1900</td>\n",
       "      <td>2</td>\n",
       "      <td>25507195</td>\n",
       "      <td>2023-12-20</td>\n",
       "    </tr>\n",
       "    <tr>\n",
       "      <th>12</th>\n",
       "      <td>MANHATTAN</td>\n",
       "      <td>ALPHABET CITY</td>\n",
       "      <td>07 RENTALS - WALKUP APARTMENTS</td>\n",
       "      <td>2B</td>\n",
       "      <td>201 EAST 4TH STREET</td>\n",
       "      <td>10009</td>\n",
       "      <td>9</td>\n",
       "      <td>0</td>\n",
       "      <td>9</td>\n",
       "      <td>1900</td>\n",
       "      <td>2</td>\n",
       "      <td>25507195</td>\n",
       "      <td>2023-12-20</td>\n",
       "    </tr>\n",
       "    <tr>\n",
       "      <th>13</th>\n",
       "      <td>MANHATTAN</td>\n",
       "      <td>ALPHABET CITY</td>\n",
       "      <td>07 RENTALS - WALKUP APARTMENTS</td>\n",
       "      <td>2B</td>\n",
       "      <td>199 EAST 4TH STREET</td>\n",
       "      <td>10009</td>\n",
       "      <td>9</td>\n",
       "      <td>1</td>\n",
       "      <td>10</td>\n",
       "      <td>1900</td>\n",
       "      <td>2</td>\n",
       "      <td>25507195</td>\n",
       "      <td>2023-12-20</td>\n",
       "    </tr>\n",
       "    <tr>\n",
       "      <th>14</th>\n",
       "      <td>MANHATTAN</td>\n",
       "      <td>ALPHABET CITY</td>\n",
       "      <td>07 RENTALS - WALKUP APARTMENTS</td>\n",
       "      <td>2</td>\n",
       "      <td>195 EAST 4TH STREET</td>\n",
       "      <td>10009</td>\n",
       "      <td>18</td>\n",
       "      <td>0</td>\n",
       "      <td>18</td>\n",
       "      <td>1913</td>\n",
       "      <td>2</td>\n",
       "      <td>5750000</td>\n",
       "      <td>2023-03-22</td>\n",
       "    </tr>\n",
       "    <tr>\n",
       "      <th>15</th>\n",
       "      <td>MANHATTAN</td>\n",
       "      <td>ALPHABET CITY</td>\n",
       "      <td>07 RENTALS - WALKUP APARTMENTS</td>\n",
       "      <td>2B</td>\n",
       "      <td>543 EAST 6 STREET</td>\n",
       "      <td>10009</td>\n",
       "      <td>8</td>\n",
       "      <td>1</td>\n",
       "      <td>9</td>\n",
       "      <td>1930</td>\n",
       "      <td>2</td>\n",
       "      <td>3250000</td>\n",
       "      <td>2023-07-14</td>\n",
       "    </tr>\n",
       "    <tr>\n",
       "      <th>16</th>\n",
       "      <td>MANHATTAN</td>\n",
       "      <td>ALPHABET CITY</td>\n",
       "      <td>07 RENTALS - WALKUP APARTMENTS</td>\n",
       "      <td>2</td>\n",
       "      <td>504 EAST 12TH STREET</td>\n",
       "      <td>10009</td>\n",
       "      <td>28</td>\n",
       "      <td>2</td>\n",
       "      <td>30</td>\n",
       "      <td>1930</td>\n",
       "      <td>2</td>\n",
       "      <td>19500000</td>\n",
       "      <td>2023-11-08</td>\n",
       "    </tr>\n",
       "    <tr>\n",
       "      <th>17</th>\n",
       "      <td>MANHATTAN</td>\n",
       "      <td>ALPHABET CITY</td>\n",
       "      <td>07 RENTALS - WALKUP APARTMENTS</td>\n",
       "      <td>2</td>\n",
       "      <td>508 EAST 12TH STREET</td>\n",
       "      <td>10009</td>\n",
       "      <td>28</td>\n",
       "      <td>2</td>\n",
       "      <td>30</td>\n",
       "      <td>1930</td>\n",
       "      <td>2</td>\n",
       "      <td>19500000</td>\n",
       "      <td>2023-11-08</td>\n",
       "    </tr>\n",
       "    <tr>\n",
       "      <th>18</th>\n",
       "      <td>MANHATTAN</td>\n",
       "      <td>ALPHABET CITY</td>\n",
       "      <td>07 RENTALS - WALKUP APARTMENTS</td>\n",
       "      <td>2</td>\n",
       "      <td>517 EAST 12TH STREET</td>\n",
       "      <td>10009</td>\n",
       "      <td>16</td>\n",
       "      <td>2</td>\n",
       "      <td>18</td>\n",
       "      <td>1900</td>\n",
       "      <td>2</td>\n",
       "      <td>&lt;NA&gt;</td>\n",
       "      <td>2023-01-18</td>\n",
       "    </tr>\n",
       "    <tr>\n",
       "      <th>19</th>\n",
       "      <td>MANHATTAN</td>\n",
       "      <td>ALPHABET CITY</td>\n",
       "      <td>08 RENTALS - ELEVATOR APARTMENTS</td>\n",
       "      <td>2</td>\n",
       "      <td>630 EAST 6TH STREET</td>\n",
       "      <td>10009</td>\n",
       "      <td>40</td>\n",
       "      <td>0</td>\n",
       "      <td>40</td>\n",
       "      <td>1900</td>\n",
       "      <td>2</td>\n",
       "      <td>&lt;NA&gt;</td>\n",
       "      <td>2023-03-31</td>\n",
       "    </tr>\n",
       "    <tr>\n",
       "      <th>20</th>\n",
       "      <td>MANHATTAN</td>\n",
       "      <td>ALPHABET CITY</td>\n",
       "      <td>08 RENTALS - ELEVATOR APARTMENTS</td>\n",
       "      <td>2</td>\n",
       "      <td>176 EAST 3RD STREET</td>\n",
       "      <td>10009</td>\n",
       "      <td>48</td>\n",
       "      <td>2</td>\n",
       "      <td>50</td>\n",
       "      <td>1931</td>\n",
       "      <td>2</td>\n",
       "      <td>&lt;NA&gt;</td>\n",
       "      <td>2023-12-31</td>\n",
       "    </tr>\n",
       "    <tr>\n",
       "      <th>21</th>\n",
       "      <td>MANHATTAN</td>\n",
       "      <td>ALPHABET CITY</td>\n",
       "      <td>08 RENTALS - ELEVATOR APARTMENTS</td>\n",
       "      <td>2</td>\n",
       "      <td>315 EAST 10TH STREET</td>\n",
       "      <td>10009</td>\n",
       "      <td>12</td>\n",
       "      <td>0</td>\n",
       "      <td>12</td>\n",
       "      <td>1920</td>\n",
       "      <td>2</td>\n",
       "      <td>9067043</td>\n",
       "      <td>2023-12-20</td>\n",
       "    </tr>\n",
       "    <tr>\n",
       "      <th>22</th>\n",
       "      <td>MANHATTAN</td>\n",
       "      <td>ALPHABET CITY</td>\n",
       "      <td>09 COOPS - WALKUP APARTMENTS</td>\n",
       "      <td>2</td>\n",
       "      <td>317 EAST 3RD STREET, 8</td>\n",
       "      <td>10009</td>\n",
       "      <td>&lt;NA&gt;</td>\n",
       "      <td>&lt;NA&gt;</td>\n",
       "      <td>&lt;NA&gt;</td>\n",
       "      <td>1925</td>\n",
       "      <td>2</td>\n",
       "      <td>&lt;NA&gt;</td>\n",
       "      <td>2023-02-03</td>\n",
       "    </tr>\n",
       "    <tr>\n",
       "      <th>23</th>\n",
       "      <td>MANHATTAN</td>\n",
       "      <td>ALPHABET CITY</td>\n",
       "      <td>09 COOPS - WALKUP APARTMENTS</td>\n",
       "      <td>2</td>\n",
       "      <td>317 EAST 3RD STREET, 9</td>\n",
       "      <td>10009</td>\n",
       "      <td>&lt;NA&gt;</td>\n",
       "      <td>&lt;NA&gt;</td>\n",
       "      <td>&lt;NA&gt;</td>\n",
       "      <td>1925</td>\n",
       "      <td>2</td>\n",
       "      <td>705500</td>\n",
       "      <td>2023-06-30</td>\n",
       "    </tr>\n",
       "    <tr>\n",
       "      <th>24</th>\n",
       "      <td>MANHATTAN</td>\n",
       "      <td>ALPHABET CITY</td>\n",
       "      <td>09 COOPS - WALKUP APARTMENTS</td>\n",
       "      <td>2</td>\n",
       "      <td>311 EAST 3RD STREET, 1</td>\n",
       "      <td>10009</td>\n",
       "      <td>&lt;NA&gt;</td>\n",
       "      <td>&lt;NA&gt;</td>\n",
       "      <td>&lt;NA&gt;</td>\n",
       "      <td>1920</td>\n",
       "      <td>2</td>\n",
       "      <td>468000</td>\n",
       "      <td>2023-09-28</td>\n",
       "    </tr>\n",
       "    <tr>\n",
       "      <th>25</th>\n",
       "      <td>MANHATTAN</td>\n",
       "      <td>ALPHABET CITY</td>\n",
       "      <td>09 COOPS - WALKUP APARTMENTS</td>\n",
       "      <td>2</td>\n",
       "      <td>252 EAST 7TH STREET, 3-4</td>\n",
       "      <td>10009</td>\n",
       "      <td>&lt;NA&gt;</td>\n",
       "      <td>&lt;NA&gt;</td>\n",
       "      <td>&lt;NA&gt;</td>\n",
       "      <td>1928</td>\n",
       "      <td>2</td>\n",
       "      <td>76050</td>\n",
       "      <td>2023-08-09</td>\n",
       "    </tr>\n",
       "    <tr>\n",
       "      <th>26</th>\n",
       "      <td>MANHATTAN</td>\n",
       "      <td>ALPHABET CITY</td>\n",
       "      <td>09 COOPS - WALKUP APARTMENTS</td>\n",
       "      <td>2</td>\n",
       "      <td>252 EAST 7TH STREET, 7-8</td>\n",
       "      <td>10009</td>\n",
       "      <td>&lt;NA&gt;</td>\n",
       "      <td>&lt;NA&gt;</td>\n",
       "      <td>&lt;NA&gt;</td>\n",
       "      <td>1928</td>\n",
       "      <td>2</td>\n",
       "      <td>910000</td>\n",
       "      <td>2023-11-21</td>\n",
       "    </tr>\n",
       "    <tr>\n",
       "      <th>27</th>\n",
       "      <td>MANHATTAN</td>\n",
       "      <td>ALPHABET CITY</td>\n",
       "      <td>09 COOPS - WALKUP APARTMENTS</td>\n",
       "      <td>2</td>\n",
       "      <td>278 EAST 7TH STREET, 5C</td>\n",
       "      <td>10009</td>\n",
       "      <td>&lt;NA&gt;</td>\n",
       "      <td>&lt;NA&gt;</td>\n",
       "      <td>&lt;NA&gt;</td>\n",
       "      <td>1920</td>\n",
       "      <td>2</td>\n",
       "      <td>149750</td>\n",
       "      <td>2023-10-17</td>\n",
       "    </tr>\n",
       "    <tr>\n",
       "      <th>28</th>\n",
       "      <td>MANHATTAN</td>\n",
       "      <td>ALPHABET CITY</td>\n",
       "      <td>09 COOPS - WALKUP APARTMENTS</td>\n",
       "      <td>2C</td>\n",
       "      <td>265 EAST 7TH STREET, 3</td>\n",
       "      <td>10009</td>\n",
       "      <td>&lt;NA&gt;</td>\n",
       "      <td>&lt;NA&gt;</td>\n",
       "      <td>&lt;NA&gt;</td>\n",
       "      <td>1900</td>\n",
       "      <td>2</td>\n",
       "      <td>1100000</td>\n",
       "      <td>2023-07-06</td>\n",
       "    </tr>\n",
       "    <tr>\n",
       "      <th>29</th>\n",
       "      <td>MANHATTAN</td>\n",
       "      <td>ALPHABET CITY</td>\n",
       "      <td>09 COOPS - WALKUP APARTMENTS</td>\n",
       "      <td>2</td>\n",
       "      <td>257 EAST 7TH STREET, 13</td>\n",
       "      <td>10009</td>\n",
       "      <td>&lt;NA&gt;</td>\n",
       "      <td>&lt;NA&gt;</td>\n",
       "      <td>&lt;NA&gt;</td>\n",
       "      <td>1900</td>\n",
       "      <td>2</td>\n",
       "      <td>999500</td>\n",
       "      <td>2023-07-19</td>\n",
       "    </tr>\n",
       "  </tbody>\n",
       "</table>\n",
       "</div>"
      ],
      "text/plain": [
       "      BOROUGH   NEIGHBORHOOD           BUILDING CLASS CATEGORY  \\\n",
       "0   MANHATTAN  ALPHABET CITY    07 RENTALS - WALKUP APARTMENTS   \n",
       "1   MANHATTAN  ALPHABET CITY    07 RENTALS - WALKUP APARTMENTS   \n",
       "2   MANHATTAN  ALPHABET CITY    07 RENTALS - WALKUP APARTMENTS   \n",
       "3   MANHATTAN  ALPHABET CITY    07 RENTALS - WALKUP APARTMENTS   \n",
       "4   MANHATTAN  ALPHABET CITY    07 RENTALS - WALKUP APARTMENTS   \n",
       "5   MANHATTAN  ALPHABET CITY    07 RENTALS - WALKUP APARTMENTS   \n",
       "6   MANHATTAN  ALPHABET CITY    07 RENTALS - WALKUP APARTMENTS   \n",
       "7   MANHATTAN  ALPHABET CITY    07 RENTALS - WALKUP APARTMENTS   \n",
       "8   MANHATTAN  ALPHABET CITY    07 RENTALS - WALKUP APARTMENTS   \n",
       "9   MANHATTAN  ALPHABET CITY    07 RENTALS - WALKUP APARTMENTS   \n",
       "10  MANHATTAN  ALPHABET CITY    07 RENTALS - WALKUP APARTMENTS   \n",
       "11  MANHATTAN  ALPHABET CITY    07 RENTALS - WALKUP APARTMENTS   \n",
       "12  MANHATTAN  ALPHABET CITY    07 RENTALS - WALKUP APARTMENTS   \n",
       "13  MANHATTAN  ALPHABET CITY    07 RENTALS - WALKUP APARTMENTS   \n",
       "14  MANHATTAN  ALPHABET CITY    07 RENTALS - WALKUP APARTMENTS   \n",
       "15  MANHATTAN  ALPHABET CITY    07 RENTALS - WALKUP APARTMENTS   \n",
       "16  MANHATTAN  ALPHABET CITY    07 RENTALS - WALKUP APARTMENTS   \n",
       "17  MANHATTAN  ALPHABET CITY    07 RENTALS - WALKUP APARTMENTS   \n",
       "18  MANHATTAN  ALPHABET CITY    07 RENTALS - WALKUP APARTMENTS   \n",
       "19  MANHATTAN  ALPHABET CITY  08 RENTALS - ELEVATOR APARTMENTS   \n",
       "20  MANHATTAN  ALPHABET CITY  08 RENTALS - ELEVATOR APARTMENTS   \n",
       "21  MANHATTAN  ALPHABET CITY  08 RENTALS - ELEVATOR APARTMENTS   \n",
       "22  MANHATTAN  ALPHABET CITY      09 COOPS - WALKUP APARTMENTS   \n",
       "23  MANHATTAN  ALPHABET CITY      09 COOPS - WALKUP APARTMENTS   \n",
       "24  MANHATTAN  ALPHABET CITY      09 COOPS - WALKUP APARTMENTS   \n",
       "25  MANHATTAN  ALPHABET CITY      09 COOPS - WALKUP APARTMENTS   \n",
       "26  MANHATTAN  ALPHABET CITY      09 COOPS - WALKUP APARTMENTS   \n",
       "27  MANHATTAN  ALPHABET CITY      09 COOPS - WALKUP APARTMENTS   \n",
       "28  MANHATTAN  ALPHABET CITY      09 COOPS - WALKUP APARTMENTS   \n",
       "29  MANHATTAN  ALPHABET CITY      09 COOPS - WALKUP APARTMENTS   \n",
       "\n",
       "   TAX CLASS AT PRESENT                   ADDRESS  ZIP CODE  \\\n",
       "0                    2A              266 EAST 7TH     10009   \n",
       "1                     2   745 EAST 6TH STREET, 3D     10009   \n",
       "2                     2   745 EAST 6TH STREET, 4B     10009   \n",
       "3                     2   209 EAST 7TH STREET, 3E     10009   \n",
       "4                     2   209 EAST 7TH STREET, 4E     10009   \n",
       "5                    2A       191 EAST 7TH STREET     10009   \n",
       "6                    2B              221 AVENUE B     10009   \n",
       "7                     2                6 AVENUE B     10009   \n",
       "8                     2                6 AVENUE B     10009   \n",
       "9                    2B       177 EAST 3RD STREET     10009   \n",
       "10                   2B       175 EAST 3RD STREET     10009   \n",
       "11                   2B       203 EAST 4TH STREET     10009   \n",
       "12                   2B       201 EAST 4TH STREET     10009   \n",
       "13                   2B       199 EAST 4TH STREET     10009   \n",
       "14                    2       195 EAST 4TH STREET     10009   \n",
       "15                   2B         543 EAST 6 STREET     10009   \n",
       "16                    2      504 EAST 12TH STREET     10009   \n",
       "17                    2      508 EAST 12TH STREET     10009   \n",
       "18                    2      517 EAST 12TH STREET     10009   \n",
       "19                    2       630 EAST 6TH STREET     10009   \n",
       "20                    2       176 EAST 3RD STREET     10009   \n",
       "21                    2      315 EAST 10TH STREET     10009   \n",
       "22                    2    317 EAST 3RD STREET, 8     10009   \n",
       "23                    2    317 EAST 3RD STREET, 9     10009   \n",
       "24                    2    311 EAST 3RD STREET, 1     10009   \n",
       "25                    2  252 EAST 7TH STREET, 3-4     10009   \n",
       "26                    2  252 EAST 7TH STREET, 7-8     10009   \n",
       "27                    2   278 EAST 7TH STREET, 5C     10009   \n",
       "28                   2C    265 EAST 7TH STREET, 3     10009   \n",
       "29                    2   257 EAST 7TH STREET, 13     10009   \n",
       "\n",
       "    RESIDENTIAL UNITS  COMMERCIAL UNITS  TOTAL UNITS  YEAR BUILT  \\\n",
       "0                   4                 0            4        1900   \n",
       "1                  28                 0           28        1900   \n",
       "2                  28                 0           28        1900   \n",
       "3                  29                 0           29        1900   \n",
       "4                  29                 0           29        1900   \n",
       "5                   5                 0            5        1910   \n",
       "6                   8                 1            9        1904   \n",
       "7                  10                 1           11        1900   \n",
       "8                  10                 1           11        1900   \n",
       "9                  10                 0           10        1900   \n",
       "10                  8                 2           10        1900   \n",
       "11                 10                 0           10        1900   \n",
       "12                  9                 0            9        1900   \n",
       "13                  9                 1           10        1900   \n",
       "14                 18                 0           18        1913   \n",
       "15                  8                 1            9        1930   \n",
       "16                 28                 2           30        1930   \n",
       "17                 28                 2           30        1930   \n",
       "18                 16                 2           18        1900   \n",
       "19                 40                 0           40        1900   \n",
       "20                 48                 2           50        1931   \n",
       "21                 12                 0           12        1920   \n",
       "22               <NA>              <NA>         <NA>        1925   \n",
       "23               <NA>              <NA>         <NA>        1925   \n",
       "24               <NA>              <NA>         <NA>        1920   \n",
       "25               <NA>              <NA>         <NA>        1928   \n",
       "26               <NA>              <NA>         <NA>        1928   \n",
       "27               <NA>              <NA>         <NA>        1920   \n",
       "28               <NA>              <NA>         <NA>        1900   \n",
       "29               <NA>              <NA>         <NA>        1900   \n",
       "\n",
       "    TAX CLASS AT TIME OF SALE  SALE PRICE  SALE DATE  \n",
       "0                           2        <NA> 2023-11-09  \n",
       "1                           2      625000 2023-12-13  \n",
       "2                           2      565000 2023-12-19  \n",
       "3                           2      154196 2023-09-15  \n",
       "4                           2      154196 2023-09-15  \n",
       "5                           2     2725000 2023-08-10  \n",
       "6                           2        <NA> 2023-03-31  \n",
       "7                           2     1050000 2023-01-27  \n",
       "8                           2     7800000 2023-09-29  \n",
       "9                           2    10800000 2023-06-20  \n",
       "10                          2    10800000 2023-06-20  \n",
       "11                          2    25507195 2023-12-20  \n",
       "12                          2    25507195 2023-12-20  \n",
       "13                          2    25507195 2023-12-20  \n",
       "14                          2     5750000 2023-03-22  \n",
       "15                          2     3250000 2023-07-14  \n",
       "16                          2    19500000 2023-11-08  \n",
       "17                          2    19500000 2023-11-08  \n",
       "18                          2        <NA> 2023-01-18  \n",
       "19                          2        <NA> 2023-03-31  \n",
       "20                          2        <NA> 2023-12-31  \n",
       "21                          2     9067043 2023-12-20  \n",
       "22                          2        <NA> 2023-02-03  \n",
       "23                          2      705500 2023-06-30  \n",
       "24                          2      468000 2023-09-28  \n",
       "25                          2       76050 2023-08-09  \n",
       "26                          2      910000 2023-11-21  \n",
       "27                          2      149750 2023-10-17  \n",
       "28                          2     1100000 2023-07-06  \n",
       "29                          2      999500 2023-07-19  "
      ]
     },
     "execution_count": 252,
     "metadata": {},
     "output_type": "execute_result"
    }
   ],
   "source": [
    "# Displaying first 30 rows of cleaned dataset\n",
    "df_clean_1 = load_clean_data('./raw_data/2023_manhattan.xlsx')\n",
    "df_clean_1.head(30)"
   ]
  },
  {
   "cell_type": "code",
   "execution_count": 253,
   "id": "af8363ac",
   "metadata": {},
   "outputs": [
    {
     "name": "stdout",
     "output_type": "stream",
     "text": [
      "<class 'pandas.core.frame.DataFrame'>\n",
      "Index: 16057 entries, 0 to 16997\n",
      "Data columns (total 13 columns):\n",
      " #   Column                     Non-Null Count  Dtype         \n",
      "---  ------                     --------------  -----         \n",
      " 0   BOROUGH                    16057 non-null  string        \n",
      " 1   NEIGHBORHOOD               16057 non-null  string        \n",
      " 2   BUILDING CLASS CATEGORY    16057 non-null  string        \n",
      " 3   TAX CLASS AT PRESENT       16057 non-null  string        \n",
      " 4   ADDRESS                    16057 non-null  string        \n",
      " 5   ZIP CODE                   16057 non-null  Int64         \n",
      " 6   RESIDENTIAL UNITS          8434 non-null   Int64         \n",
      " 7   COMMERCIAL UNITS           1202 non-null   Int64         \n",
      " 8   TOTAL UNITS                8452 non-null   Int64         \n",
      " 9   YEAR BUILT                 14542 non-null  Int64         \n",
      " 10  TAX CLASS AT TIME OF SALE  16057 non-null  Int64         \n",
      " 11  SALE PRICE                 12793 non-null  Int64         \n",
      " 12  SALE DATE                  16057 non-null  datetime64[ns]\n",
      "dtypes: Int64(7), datetime64[ns](1), string(5)\n",
      "memory usage: 1.8 MB\n"
     ]
    }
   ],
   "source": [
    "df_clean_1.info()"
   ]
  },
  {
   "cell_type": "markdown",
   "id": "a7a12d27",
   "metadata": {},
   "source": [
    "Creation of function (load_all_cleaned_data) that passes (load_clean_data) for all datasets and combines into one dataframe"
   ]
  },
  {
   "cell_type": "code",
   "execution_count": 254,
   "id": "0336b8c6",
   "metadata": {},
   "outputs": [],
   "source": [
    "\n",
    "def load_all_cleaned_data(data_path, file_names, cleaning_func):\n",
    "    cleaned_dfs = []\n",
    "\n",
    "    for file in file_names:\n",
    "        file_path = os.path.join(data_path, file)\n",
    "        print(f\"🔄 Processing: {file}\")\n",
    "\n",
    "        try:\n",
    "            df_cleaned = cleaning_func(file_path)\n",
    "\n",
    "            # Optional: extract year and borough from filename\n",
    "            match = re.match(r'.*_(\\w+)_?(\\d{2,4})?\\.xlsx', file)\n",
    "            if match:\n",
    "                borough, year = match.groups()\n",
    "                if year:\n",
    "                    df_cleaned['YEAR'] = f\"20{year}\" if len(year) == 2 else year\n",
    "\n",
    "            cleaned_dfs.append(df_cleaned)\n",
    "\n",
    "        except Exception as e:\n",
    "            print(f\"❌ Failed to process {file}: {e}\")\n",
    "\n",
    "    # Combine all cleaned dataframes\n",
    "    if cleaned_dfs:\n",
    "        combined_df = pd.concat(cleaned_dfs, ignore_index=True)\n",
    "        print(\"✅ All datasets loaded and combined.\")\n",
    "        print(f\"Final shape: {combined_df.shape}\")\n",
    "        return combined_df\n",
    "    else:\n",
    "        raise ValueError(\"No valid datasets to combine.\")\n"
   ]
  },
  {
   "cell_type": "code",
   "execution_count": 255,
   "id": "c01dfa9f",
   "metadata": {},
   "outputs": [
    {
     "name": "stdout",
     "output_type": "stream",
     "text": [
      "🔄 Processing: 2023_manhattan.xlsx\n",
      "🔄 Processing: 2023_bronx.xlsx\n",
      "🔄 Processing: 2023_brooklyn.xlsx\n",
      "🔄 Processing: 2023_queens.xlsx\n",
      "🔄 Processing: 2023_staten_island.xlsx\n",
      "🔄 Processing: rollingsales_bronx_24.xlsx\n",
      "🔄 Processing: rollingsales_brooklyn_24.xlsx\n",
      "🔄 Processing: rollingsales_queens_24.xlsx\n",
      "🔄 Processing: rollingsales_statenisland_24.xlsx\n",
      "🔄 Processing: rollingsales_manhattan_24.xlsx\n",
      "✅ All datasets loaded and combined.\n",
      "Final shape: (141812, 13)\n"
     ]
    }
   ],
   "source": [
    "file_names = [ \n",
    "    '2023_manhattan.xlsx',\n",
    "    '2023_bronx.xlsx',\n",
    "    '2023_brooklyn.xlsx',\n",
    "    '2023_queens.xlsx',\n",
    "    '2023_staten_island.xlsx',\n",
    "    'rollingsales_bronx_24.xlsx',\n",
    "    'rollingsales_brooklyn_24.xlsx',\n",
    "    'rollingsales_queens_24.xlsx',\n",
    "    'rollingsales_statenisland_24.xlsx',\n",
    "    'rollingsales_manhattan_24.xlsx',\n",
    "]\n",
    "\n",
    "combined_df = load_all_cleaned_data('./raw_data/', file_names, load_clean_data)\n"
   ]
  },
  {
   "cell_type": "code",
   "execution_count": 256,
   "id": "80ae744e",
   "metadata": {},
   "outputs": [
    {
     "name": "stdout",
     "output_type": "stream",
     "text": [
      "<class 'pandas.core.frame.DataFrame'>\n",
      "RangeIndex: 141812 entries, 0 to 141811\n",
      "Data columns (total 13 columns):\n",
      " #   Column                     Non-Null Count   Dtype         \n",
      "---  ------                     --------------   -----         \n",
      " 0   BOROUGH                    141812 non-null  string        \n",
      " 1   NEIGHBORHOOD               141812 non-null  string        \n",
      " 2   BUILDING CLASS CATEGORY    141812 non-null  string        \n",
      " 3   TAX CLASS AT PRESENT       141812 non-null  string        \n",
      " 4   ADDRESS                    141812 non-null  string        \n",
      " 5   ZIP CODE                   141804 non-null  Int64         \n",
      " 6   RESIDENTIAL UNITS          109688 non-null  Int64         \n",
      " 7   COMMERCIAL UNITS           78153 non-null   Int64         \n",
      " 8   TOTAL UNITS                109729 non-null  Int64         \n",
      " 9   YEAR BUILT                 133725 non-null  Int64         \n",
      " 10  TAX CLASS AT TIME OF SALE  141812 non-null  Int64         \n",
      " 11  SALE PRICE                 92378 non-null   Int64         \n",
      " 12  SALE DATE                  141812 non-null  datetime64[ns]\n",
      "dtypes: Int64(7), datetime64[ns](1), string(5)\n",
      "memory usage: 15.0 MB\n"
     ]
    }
   ],
   "source": [
    "# Final Dataset for analysis and visualization\n",
    "combined_df.info()"
   ]
  },
  {
   "cell_type": "code",
   "execution_count": null,
   "id": "adbf40d7",
   "metadata": {},
   "outputs": [
    {
     "data": {
      "application/vnd.microsoft.datawrangler.viewer.v0+json": {
       "columns": [
        {
         "name": "index",
         "rawType": "int64",
         "type": "integer"
        },
        {
         "name": "BOROUGH",
         "rawType": "string",
         "type": "string"
        },
        {
         "name": "NEIGHBORHOOD",
         "rawType": "string",
         "type": "string"
        },
        {
         "name": "BUILDING CLASS CATEGORY",
         "rawType": "string",
         "type": "string"
        },
        {
         "name": "TAX CLASS AT PRESENT",
         "rawType": "string",
         "type": "string"
        },
        {
         "name": "ADDRESS",
         "rawType": "string",
         "type": "string"
        },
        {
         "name": "ZIP CODE",
         "rawType": "Int64",
         "type": "integer"
        },
        {
         "name": "RESIDENTIAL UNITS",
         "rawType": "Int64",
         "type": "integer"
        },
        {
         "name": "COMMERCIAL UNITS",
         "rawType": "Int64",
         "type": "integer"
        },
        {
         "name": "TOTAL UNITS",
         "rawType": "Int64",
         "type": "integer"
        },
        {
         "name": "YEAR BUILT",
         "rawType": "Int64",
         "type": "integer"
        },
        {
         "name": "TAX CLASS AT TIME OF SALE",
         "rawType": "Int64",
         "type": "integer"
        },
        {
         "name": "SALE PRICE",
         "rawType": "Int64",
         "type": "integer"
        },
        {
         "name": "SALE DATE",
         "rawType": "datetime64[ns]",
         "type": "datetime"
        }
       ],
       "conversionMethod": "pd.DataFrame",
       "ref": "e33ec16f-7891-4033-8ade-935c739c0f22",
       "rows": [
        [
         "141782",
         "MANHATTAN",
         "WASHINGTON HEIGHTS UPPER",
         "10 COOPS - ELEVATOR APARTMENTS",
         "2",
         "4489 BROADWAY, 6A",
         "10040",
         null,
         null,
         null,
         "1951",
         "2",
         "390390",
         "2024-04-16 00:00:00"
        ],
        [
         "141783",
         "MANHATTAN",
         "WASHINGTON HEIGHTS UPPER",
         "10 COOPS - ELEVATOR APARTMENTS",
         "2",
         "4489 BROADWAY, 7C",
         "10040",
         null,
         null,
         null,
         "1951",
         "2",
         "302000",
         "2024-07-01 00:00:00"
        ],
        [
         "141784",
         "MANHATTAN",
         "WASHINGTON HEIGHTS UPPER",
         "10 COOPS - ELEVATOR APARTMENTS",
         "2",
         "4501 BROADWAY, 7D",
         "10040",
         null,
         null,
         null,
         "1951",
         "2",
         "275000",
         "2024-11-05 00:00:00"
        ],
        [
         "141785",
         "MANHATTAN",
         "WASHINGTON HEIGHTS UPPER",
         "10 COOPS - ELEVATOR APARTMENTS",
         "2",
         "4523 BROADWAY, 5F",
         "10040",
         null,
         null,
         null,
         "1951",
         "2",
         "390000",
         "2024-09-25 00:00:00"
        ],
        [
         "141786",
         "MANHATTAN",
         "WASHINGTON HEIGHTS UPPER",
         "10 COOPS - ELEVATOR APARTMENTS",
         "2",
         "4523 BROADWAY, 6A",
         "10040",
         null,
         null,
         null,
         "1951",
         "2",
         "375000",
         "2024-05-23 00:00:00"
        ],
        [
         "141787",
         "MANHATTAN",
         "WASHINGTON HEIGHTS UPPER",
         "10 COOPS - ELEVATOR APARTMENTS",
         "2",
         "4523 BROADWAY, 7C",
         "10040",
         null,
         null,
         null,
         "1951",
         "2",
         "559000",
         "2024-05-21 00:00:00"
        ],
        [
         "141788",
         "MANHATTAN",
         "WASHINGTON HEIGHTS UPPER",
         "10 COOPS - ELEVATOR APARTMENTS",
         "2",
         "1825 RIVERSIDE DRIVE, 5F",
         "10034",
         null,
         null,
         null,
         "1926",
         "2",
         "525000",
         "2024-03-22 00:00:00"
        ],
        [
         "141789",
         "MANHATTAN",
         "WASHINGTON HEIGHTS UPPER",
         "10 COOPS - ELEVATOR APARTMENTS",
         "2",
         "1793 RIVERSIDE DRIVE, 4F",
         "10034",
         null,
         null,
         null,
         "1926",
         "2",
         "655000",
         "2024-05-29 00:00:00"
        ],
        [
         "141790",
         "MANHATTAN",
         "WASHINGTON HEIGHTS UPPER",
         "10 COOPS - ELEVATOR APARTMENTS",
         "2",
         "1793 RIVERSIDE DRIVE, 5J",
         "10034",
         null,
         null,
         null,
         "1926",
         "2",
         "390000",
         "2024-12-10 00:00:00"
        ],
        [
         "141791",
         "MANHATTAN",
         "WASHINGTON HEIGHTS UPPER",
         "11 SPECIAL CONDO BILLING LOTS",
         "2",
         "92 PINEHURST AVENUE, RES",
         "10033",
         "72",
         "0",
         "72",
         "1928",
         "2",
         null,
         "2024-03-29 00:00:00"
        ],
        [
         "141792",
         "MANHATTAN",
         "WASHINGTON HEIGHTS UPPER",
         "13 CONDOS - ELEVATOR APARTMENTS",
         "2",
         "4260 BROADWAY, 204",
         "10033",
         "1",
         null,
         "1",
         null,
         "2",
         "600000",
         "2024-11-19 00:00:00"
        ],
        [
         "141793",
         "MANHATTAN",
         "WASHINGTON HEIGHTS UPPER",
         "13 CONDOS - ELEVATOR APARTMENTS",
         "2",
         "4260 BROADWAY, 208",
         "10033",
         "1",
         null,
         "1",
         null,
         "2",
         "415000",
         "2024-11-13 00:00:00"
        ],
        [
         "141794",
         "MANHATTAN",
         "WASHINGTON HEIGHTS UPPER",
         "13 CONDOS - ELEVATOR APARTMENTS",
         "2",
         "4260 BROADWAY, 300",
         "10033",
         "1",
         null,
         "1",
         null,
         "2",
         "492750",
         "2024-04-19 00:00:00"
        ],
        [
         "141795",
         "MANHATTAN",
         "WASHINGTON HEIGHTS UPPER",
         "13 CONDOS - ELEVATOR APARTMENTS",
         "2",
         "160 WADSWORTH AVENUE, 104",
         "10033",
         "1",
         null,
         "1",
         null,
         "2",
         null,
         "2024-08-23 00:00:00"
        ],
        [
         "141796",
         "MANHATTAN",
         "WASHINGTON HEIGHTS UPPER",
         "13 CONDOS - ELEVATOR APARTMENTS",
         "2",
         "160 WADSWORTH AVENUE, 302",
         "10033",
         "1",
         null,
         "1",
         null,
         "2",
         "334620",
         "2024-11-22 00:00:00"
        ],
        [
         "141797",
         "MANHATTAN",
         "WASHINGTON HEIGHTS UPPER",
         "13 CONDOS - ELEVATOR APARTMENTS",
         "2",
         "160 WADSWORTH AVENUE, 501",
         "10033",
         "1",
         null,
         "1",
         null,
         "2",
         "491000",
         "2024-09-05 00:00:00"
        ],
        [
         "141798",
         "MANHATTAN",
         "WASHINGTON HEIGHTS UPPER",
         "13 CONDOS - ELEVATOR APARTMENTS",
         "2",
         "160 WADSWORTH AVENUE, 505",
         "10033",
         "1",
         null,
         "1",
         null,
         "2",
         "470000",
         "2024-06-14 00:00:00"
        ],
        [
         "141799",
         "MANHATTAN",
         "WASHINGTON HEIGHTS UPPER",
         "13 CONDOS - ELEVATOR APARTMENTS",
         "2",
         "40 PINEHURST AVENUE, 4B",
         "10033",
         "1",
         null,
         "1",
         "2016",
         "2",
         null,
         "2024-07-18 00:00:00"
        ],
        [
         "141800",
         "MANHATTAN",
         "WASHINGTON HEIGHTS UPPER",
         "13 CONDOS - ELEVATOR APARTMENTS",
         "2",
         "255 CABRINI BLVD, 8A",
         "10040",
         "1",
         null,
         "1",
         "1987",
         "2",
         "580000",
         "2024-06-24 00:00:00"
        ],
        [
         "141801",
         "MANHATTAN",
         "WASHINGTON HEIGHTS UPPER",
         "13 CONDOS - ELEVATOR APARTMENTS",
         "2",
         "255 CABRINI BOULEVARD, 6F",
         "10040",
         "1",
         null,
         "1",
         "1987",
         "2",
         null,
         "2024-08-22 00:00:00"
        ],
        [
         "141802",
         "MANHATTAN",
         "WASHINGTON HEIGHTS UPPER",
         "13 CONDOS - ELEVATOR APARTMENTS",
         "2",
         "255 CABRINI BOULEVARD, 4K",
         "10040",
         "1",
         null,
         "1",
         "1987",
         "2",
         "645000",
         "2024-11-08 00:00:00"
        ],
        [
         "141803",
         "MANHATTAN",
         "WASHINGTON HEIGHTS UPPER",
         "13 CONDOS - ELEVATOR APARTMENTS",
         "2",
         "736 WEST 187 STREET, 304",
         "10033",
         "1",
         null,
         "1",
         "2003",
         "2",
         null,
         "2024-03-01 00:00:00"
        ],
        [
         "141804",
         "MANHATTAN",
         "WASHINGTON HEIGHTS UPPER",
         "13 CONDOS - ELEVATOR APARTMENTS",
         "2",
         "69 BENNETT AVENUE, 104",
         "10033",
         "1",
         null,
         "1",
         "1954",
         "2",
         "428000",
         "2024-08-01 00:00:00"
        ],
        [
         "141805",
         "MANHATTAN",
         "WASHINGTON HEIGHTS UPPER",
         "13 CONDOS - ELEVATOR APARTMENTS",
         "2",
         "69 BENNETT AVENUE, 403",
         "10033",
         "1",
         null,
         "1",
         "1954",
         "2",
         "500000",
         "2024-06-28 00:00:00"
        ],
        [
         "141806",
         "MANHATTAN",
         "WASHINGTON HEIGHTS UPPER",
         "13 CONDOS - ELEVATOR APARTMENTS",
         "2",
         "69 BENNETT AVENUE, 604",
         "10033",
         "1",
         null,
         "1",
         "1954",
         "2",
         "440000",
         "2024-12-17 00:00:00"
        ],
        [
         "141807",
         "MANHATTAN",
         "WASHINGTON HEIGHTS UPPER",
         "13 CONDOS - ELEVATOR APARTMENTS",
         "2",
         "105 BENNETT AVENUE, 12B",
         "10033",
         "1",
         null,
         "1",
         "1939",
         "2",
         null,
         "2024-07-08 00:00:00"
        ],
        [
         "141808",
         "MANHATTAN",
         "WASHINGTON HEIGHTS UPPER",
         "13 CONDOS - ELEVATOR APARTMENTS",
         "2",
         "105 BENNETT AVENUE, 21A",
         "10033",
         "1",
         null,
         "1",
         "1939",
         "2",
         "810000",
         "2024-03-27 00:00:00"
        ],
        [
         "141809",
         "MANHATTAN",
         "WASHINGTON HEIGHTS UPPER",
         "13 CONDOS - ELEVATOR APARTMENTS",
         "2",
         "105 BENNETT AVENUE, 54B",
         "10033",
         "1",
         null,
         "1",
         "1939",
         "2",
         "490000",
         "2024-03-04 00:00:00"
        ],
        [
         "141810",
         "MANHATTAN",
         "WASHINGTON HEIGHTS UPPER",
         "13 CONDOS - ELEVATOR APARTMENTS",
         "2",
         "105 BENNETT AVENUE, 63B",
         "10033",
         "1",
         null,
         "1",
         "1939",
         "2",
         "510000",
         "2024-11-21 00:00:00"
        ],
        [
         "141811",
         "MANHATTAN",
         "WASHINGTON HEIGHTS UPPER",
         "13 CONDOS - ELEVATOR APARTMENTS",
         "2",
         "105 BENNETT AVENUE, 65A",
         "10033",
         "1",
         null,
         "1",
         "1939",
         "2",
         "825000",
         "2024-05-23 00:00:00"
        ]
       ],
       "shape": {
        "columns": 13,
        "rows": 30
       }
      },
      "text/html": [
       "<div>\n",
       "<style scoped>\n",
       "    .dataframe tbody tr th:only-of-type {\n",
       "        vertical-align: middle;\n",
       "    }\n",
       "\n",
       "    .dataframe tbody tr th {\n",
       "        vertical-align: top;\n",
       "    }\n",
       "\n",
       "    .dataframe thead th {\n",
       "        text-align: right;\n",
       "    }\n",
       "</style>\n",
       "<table border=\"1\" class=\"dataframe\">\n",
       "  <thead>\n",
       "    <tr style=\"text-align: right;\">\n",
       "      <th></th>\n",
       "      <th>BOROUGH</th>\n",
       "      <th>NEIGHBORHOOD</th>\n",
       "      <th>BUILDING CLASS CATEGORY</th>\n",
       "      <th>TAX CLASS AT PRESENT</th>\n",
       "      <th>ADDRESS</th>\n",
       "      <th>ZIP CODE</th>\n",
       "      <th>RESIDENTIAL UNITS</th>\n",
       "      <th>COMMERCIAL UNITS</th>\n",
       "      <th>TOTAL UNITS</th>\n",
       "      <th>YEAR BUILT</th>\n",
       "      <th>TAX CLASS AT TIME OF SALE</th>\n",
       "      <th>SALE PRICE</th>\n",
       "      <th>SALE DATE</th>\n",
       "    </tr>\n",
       "  </thead>\n",
       "  <tbody>\n",
       "    <tr>\n",
       "      <th>141782</th>\n",
       "      <td>MANHATTAN</td>\n",
       "      <td>WASHINGTON HEIGHTS UPPER</td>\n",
       "      <td>10 COOPS - ELEVATOR APARTMENTS</td>\n",
       "      <td>2</td>\n",
       "      <td>4489 BROADWAY, 6A</td>\n",
       "      <td>10040</td>\n",
       "      <td>&lt;NA&gt;</td>\n",
       "      <td>&lt;NA&gt;</td>\n",
       "      <td>&lt;NA&gt;</td>\n",
       "      <td>1951</td>\n",
       "      <td>2</td>\n",
       "      <td>390390</td>\n",
       "      <td>2024-04-16</td>\n",
       "    </tr>\n",
       "    <tr>\n",
       "      <th>141783</th>\n",
       "      <td>MANHATTAN</td>\n",
       "      <td>WASHINGTON HEIGHTS UPPER</td>\n",
       "      <td>10 COOPS - ELEVATOR APARTMENTS</td>\n",
       "      <td>2</td>\n",
       "      <td>4489 BROADWAY, 7C</td>\n",
       "      <td>10040</td>\n",
       "      <td>&lt;NA&gt;</td>\n",
       "      <td>&lt;NA&gt;</td>\n",
       "      <td>&lt;NA&gt;</td>\n",
       "      <td>1951</td>\n",
       "      <td>2</td>\n",
       "      <td>302000</td>\n",
       "      <td>2024-07-01</td>\n",
       "    </tr>\n",
       "    <tr>\n",
       "      <th>141784</th>\n",
       "      <td>MANHATTAN</td>\n",
       "      <td>WASHINGTON HEIGHTS UPPER</td>\n",
       "      <td>10 COOPS - ELEVATOR APARTMENTS</td>\n",
       "      <td>2</td>\n",
       "      <td>4501 BROADWAY, 7D</td>\n",
       "      <td>10040</td>\n",
       "      <td>&lt;NA&gt;</td>\n",
       "      <td>&lt;NA&gt;</td>\n",
       "      <td>&lt;NA&gt;</td>\n",
       "      <td>1951</td>\n",
       "      <td>2</td>\n",
       "      <td>275000</td>\n",
       "      <td>2024-11-05</td>\n",
       "    </tr>\n",
       "    <tr>\n",
       "      <th>141785</th>\n",
       "      <td>MANHATTAN</td>\n",
       "      <td>WASHINGTON HEIGHTS UPPER</td>\n",
       "      <td>10 COOPS - ELEVATOR APARTMENTS</td>\n",
       "      <td>2</td>\n",
       "      <td>4523 BROADWAY, 5F</td>\n",
       "      <td>10040</td>\n",
       "      <td>&lt;NA&gt;</td>\n",
       "      <td>&lt;NA&gt;</td>\n",
       "      <td>&lt;NA&gt;</td>\n",
       "      <td>1951</td>\n",
       "      <td>2</td>\n",
       "      <td>390000</td>\n",
       "      <td>2024-09-25</td>\n",
       "    </tr>\n",
       "    <tr>\n",
       "      <th>141786</th>\n",
       "      <td>MANHATTAN</td>\n",
       "      <td>WASHINGTON HEIGHTS UPPER</td>\n",
       "      <td>10 COOPS - ELEVATOR APARTMENTS</td>\n",
       "      <td>2</td>\n",
       "      <td>4523 BROADWAY, 6A</td>\n",
       "      <td>10040</td>\n",
       "      <td>&lt;NA&gt;</td>\n",
       "      <td>&lt;NA&gt;</td>\n",
       "      <td>&lt;NA&gt;</td>\n",
       "      <td>1951</td>\n",
       "      <td>2</td>\n",
       "      <td>375000</td>\n",
       "      <td>2024-05-23</td>\n",
       "    </tr>\n",
       "    <tr>\n",
       "      <th>141787</th>\n",
       "      <td>MANHATTAN</td>\n",
       "      <td>WASHINGTON HEIGHTS UPPER</td>\n",
       "      <td>10 COOPS - ELEVATOR APARTMENTS</td>\n",
       "      <td>2</td>\n",
       "      <td>4523 BROADWAY, 7C</td>\n",
       "      <td>10040</td>\n",
       "      <td>&lt;NA&gt;</td>\n",
       "      <td>&lt;NA&gt;</td>\n",
       "      <td>&lt;NA&gt;</td>\n",
       "      <td>1951</td>\n",
       "      <td>2</td>\n",
       "      <td>559000</td>\n",
       "      <td>2024-05-21</td>\n",
       "    </tr>\n",
       "    <tr>\n",
       "      <th>141788</th>\n",
       "      <td>MANHATTAN</td>\n",
       "      <td>WASHINGTON HEIGHTS UPPER</td>\n",
       "      <td>10 COOPS - ELEVATOR APARTMENTS</td>\n",
       "      <td>2</td>\n",
       "      <td>1825 RIVERSIDE DRIVE, 5F</td>\n",
       "      <td>10034</td>\n",
       "      <td>&lt;NA&gt;</td>\n",
       "      <td>&lt;NA&gt;</td>\n",
       "      <td>&lt;NA&gt;</td>\n",
       "      <td>1926</td>\n",
       "      <td>2</td>\n",
       "      <td>525000</td>\n",
       "      <td>2024-03-22</td>\n",
       "    </tr>\n",
       "    <tr>\n",
       "      <th>141789</th>\n",
       "      <td>MANHATTAN</td>\n",
       "      <td>WASHINGTON HEIGHTS UPPER</td>\n",
       "      <td>10 COOPS - ELEVATOR APARTMENTS</td>\n",
       "      <td>2</td>\n",
       "      <td>1793 RIVERSIDE DRIVE, 4F</td>\n",
       "      <td>10034</td>\n",
       "      <td>&lt;NA&gt;</td>\n",
       "      <td>&lt;NA&gt;</td>\n",
       "      <td>&lt;NA&gt;</td>\n",
       "      <td>1926</td>\n",
       "      <td>2</td>\n",
       "      <td>655000</td>\n",
       "      <td>2024-05-29</td>\n",
       "    </tr>\n",
       "    <tr>\n",
       "      <th>141790</th>\n",
       "      <td>MANHATTAN</td>\n",
       "      <td>WASHINGTON HEIGHTS UPPER</td>\n",
       "      <td>10 COOPS - ELEVATOR APARTMENTS</td>\n",
       "      <td>2</td>\n",
       "      <td>1793 RIVERSIDE DRIVE, 5J</td>\n",
       "      <td>10034</td>\n",
       "      <td>&lt;NA&gt;</td>\n",
       "      <td>&lt;NA&gt;</td>\n",
       "      <td>&lt;NA&gt;</td>\n",
       "      <td>1926</td>\n",
       "      <td>2</td>\n",
       "      <td>390000</td>\n",
       "      <td>2024-12-10</td>\n",
       "    </tr>\n",
       "    <tr>\n",
       "      <th>141791</th>\n",
       "      <td>MANHATTAN</td>\n",
       "      <td>WASHINGTON HEIGHTS UPPER</td>\n",
       "      <td>11 SPECIAL CONDO BILLING LOTS</td>\n",
       "      <td>2</td>\n",
       "      <td>92 PINEHURST AVENUE, RES</td>\n",
       "      <td>10033</td>\n",
       "      <td>72</td>\n",
       "      <td>0</td>\n",
       "      <td>72</td>\n",
       "      <td>1928</td>\n",
       "      <td>2</td>\n",
       "      <td>&lt;NA&gt;</td>\n",
       "      <td>2024-03-29</td>\n",
       "    </tr>\n",
       "    <tr>\n",
       "      <th>141792</th>\n",
       "      <td>MANHATTAN</td>\n",
       "      <td>WASHINGTON HEIGHTS UPPER</td>\n",
       "      <td>13 CONDOS - ELEVATOR APARTMENTS</td>\n",
       "      <td>2</td>\n",
       "      <td>4260 BROADWAY, 204</td>\n",
       "      <td>10033</td>\n",
       "      <td>1</td>\n",
       "      <td>&lt;NA&gt;</td>\n",
       "      <td>1</td>\n",
       "      <td>&lt;NA&gt;</td>\n",
       "      <td>2</td>\n",
       "      <td>600000</td>\n",
       "      <td>2024-11-19</td>\n",
       "    </tr>\n",
       "    <tr>\n",
       "      <th>141793</th>\n",
       "      <td>MANHATTAN</td>\n",
       "      <td>WASHINGTON HEIGHTS UPPER</td>\n",
       "      <td>13 CONDOS - ELEVATOR APARTMENTS</td>\n",
       "      <td>2</td>\n",
       "      <td>4260 BROADWAY, 208</td>\n",
       "      <td>10033</td>\n",
       "      <td>1</td>\n",
       "      <td>&lt;NA&gt;</td>\n",
       "      <td>1</td>\n",
       "      <td>&lt;NA&gt;</td>\n",
       "      <td>2</td>\n",
       "      <td>415000</td>\n",
       "      <td>2024-11-13</td>\n",
       "    </tr>\n",
       "    <tr>\n",
       "      <th>141794</th>\n",
       "      <td>MANHATTAN</td>\n",
       "      <td>WASHINGTON HEIGHTS UPPER</td>\n",
       "      <td>13 CONDOS - ELEVATOR APARTMENTS</td>\n",
       "      <td>2</td>\n",
       "      <td>4260 BROADWAY, 300</td>\n",
       "      <td>10033</td>\n",
       "      <td>1</td>\n",
       "      <td>&lt;NA&gt;</td>\n",
       "      <td>1</td>\n",
       "      <td>&lt;NA&gt;</td>\n",
       "      <td>2</td>\n",
       "      <td>492750</td>\n",
       "      <td>2024-04-19</td>\n",
       "    </tr>\n",
       "    <tr>\n",
       "      <th>141795</th>\n",
       "      <td>MANHATTAN</td>\n",
       "      <td>WASHINGTON HEIGHTS UPPER</td>\n",
       "      <td>13 CONDOS - ELEVATOR APARTMENTS</td>\n",
       "      <td>2</td>\n",
       "      <td>160 WADSWORTH AVENUE, 104</td>\n",
       "      <td>10033</td>\n",
       "      <td>1</td>\n",
       "      <td>&lt;NA&gt;</td>\n",
       "      <td>1</td>\n",
       "      <td>&lt;NA&gt;</td>\n",
       "      <td>2</td>\n",
       "      <td>&lt;NA&gt;</td>\n",
       "      <td>2024-08-23</td>\n",
       "    </tr>\n",
       "    <tr>\n",
       "      <th>141796</th>\n",
       "      <td>MANHATTAN</td>\n",
       "      <td>WASHINGTON HEIGHTS UPPER</td>\n",
       "      <td>13 CONDOS - ELEVATOR APARTMENTS</td>\n",
       "      <td>2</td>\n",
       "      <td>160 WADSWORTH AVENUE, 302</td>\n",
       "      <td>10033</td>\n",
       "      <td>1</td>\n",
       "      <td>&lt;NA&gt;</td>\n",
       "      <td>1</td>\n",
       "      <td>&lt;NA&gt;</td>\n",
       "      <td>2</td>\n",
       "      <td>334620</td>\n",
       "      <td>2024-11-22</td>\n",
       "    </tr>\n",
       "    <tr>\n",
       "      <th>141797</th>\n",
       "      <td>MANHATTAN</td>\n",
       "      <td>WASHINGTON HEIGHTS UPPER</td>\n",
       "      <td>13 CONDOS - ELEVATOR APARTMENTS</td>\n",
       "      <td>2</td>\n",
       "      <td>160 WADSWORTH AVENUE, 501</td>\n",
       "      <td>10033</td>\n",
       "      <td>1</td>\n",
       "      <td>&lt;NA&gt;</td>\n",
       "      <td>1</td>\n",
       "      <td>&lt;NA&gt;</td>\n",
       "      <td>2</td>\n",
       "      <td>491000</td>\n",
       "      <td>2024-09-05</td>\n",
       "    </tr>\n",
       "    <tr>\n",
       "      <th>141798</th>\n",
       "      <td>MANHATTAN</td>\n",
       "      <td>WASHINGTON HEIGHTS UPPER</td>\n",
       "      <td>13 CONDOS - ELEVATOR APARTMENTS</td>\n",
       "      <td>2</td>\n",
       "      <td>160 WADSWORTH AVENUE, 505</td>\n",
       "      <td>10033</td>\n",
       "      <td>1</td>\n",
       "      <td>&lt;NA&gt;</td>\n",
       "      <td>1</td>\n",
       "      <td>&lt;NA&gt;</td>\n",
       "      <td>2</td>\n",
       "      <td>470000</td>\n",
       "      <td>2024-06-14</td>\n",
       "    </tr>\n",
       "    <tr>\n",
       "      <th>141799</th>\n",
       "      <td>MANHATTAN</td>\n",
       "      <td>WASHINGTON HEIGHTS UPPER</td>\n",
       "      <td>13 CONDOS - ELEVATOR APARTMENTS</td>\n",
       "      <td>2</td>\n",
       "      <td>40 PINEHURST AVENUE, 4B</td>\n",
       "      <td>10033</td>\n",
       "      <td>1</td>\n",
       "      <td>&lt;NA&gt;</td>\n",
       "      <td>1</td>\n",
       "      <td>2016</td>\n",
       "      <td>2</td>\n",
       "      <td>&lt;NA&gt;</td>\n",
       "      <td>2024-07-18</td>\n",
       "    </tr>\n",
       "    <tr>\n",
       "      <th>141800</th>\n",
       "      <td>MANHATTAN</td>\n",
       "      <td>WASHINGTON HEIGHTS UPPER</td>\n",
       "      <td>13 CONDOS - ELEVATOR APARTMENTS</td>\n",
       "      <td>2</td>\n",
       "      <td>255 CABRINI BLVD, 8A</td>\n",
       "      <td>10040</td>\n",
       "      <td>1</td>\n",
       "      <td>&lt;NA&gt;</td>\n",
       "      <td>1</td>\n",
       "      <td>1987</td>\n",
       "      <td>2</td>\n",
       "      <td>580000</td>\n",
       "      <td>2024-06-24</td>\n",
       "    </tr>\n",
       "    <tr>\n",
       "      <th>141801</th>\n",
       "      <td>MANHATTAN</td>\n",
       "      <td>WASHINGTON HEIGHTS UPPER</td>\n",
       "      <td>13 CONDOS - ELEVATOR APARTMENTS</td>\n",
       "      <td>2</td>\n",
       "      <td>255 CABRINI BOULEVARD, 6F</td>\n",
       "      <td>10040</td>\n",
       "      <td>1</td>\n",
       "      <td>&lt;NA&gt;</td>\n",
       "      <td>1</td>\n",
       "      <td>1987</td>\n",
       "      <td>2</td>\n",
       "      <td>&lt;NA&gt;</td>\n",
       "      <td>2024-08-22</td>\n",
       "    </tr>\n",
       "    <tr>\n",
       "      <th>141802</th>\n",
       "      <td>MANHATTAN</td>\n",
       "      <td>WASHINGTON HEIGHTS UPPER</td>\n",
       "      <td>13 CONDOS - ELEVATOR APARTMENTS</td>\n",
       "      <td>2</td>\n",
       "      <td>255 CABRINI BOULEVARD, 4K</td>\n",
       "      <td>10040</td>\n",
       "      <td>1</td>\n",
       "      <td>&lt;NA&gt;</td>\n",
       "      <td>1</td>\n",
       "      <td>1987</td>\n",
       "      <td>2</td>\n",
       "      <td>645000</td>\n",
       "      <td>2024-11-08</td>\n",
       "    </tr>\n",
       "    <tr>\n",
       "      <th>141803</th>\n",
       "      <td>MANHATTAN</td>\n",
       "      <td>WASHINGTON HEIGHTS UPPER</td>\n",
       "      <td>13 CONDOS - ELEVATOR APARTMENTS</td>\n",
       "      <td>2</td>\n",
       "      <td>736 WEST 187 STREET, 304</td>\n",
       "      <td>10033</td>\n",
       "      <td>1</td>\n",
       "      <td>&lt;NA&gt;</td>\n",
       "      <td>1</td>\n",
       "      <td>2003</td>\n",
       "      <td>2</td>\n",
       "      <td>&lt;NA&gt;</td>\n",
       "      <td>2024-03-01</td>\n",
       "    </tr>\n",
       "    <tr>\n",
       "      <th>141804</th>\n",
       "      <td>MANHATTAN</td>\n",
       "      <td>WASHINGTON HEIGHTS UPPER</td>\n",
       "      <td>13 CONDOS - ELEVATOR APARTMENTS</td>\n",
       "      <td>2</td>\n",
       "      <td>69 BENNETT AVENUE, 104</td>\n",
       "      <td>10033</td>\n",
       "      <td>1</td>\n",
       "      <td>&lt;NA&gt;</td>\n",
       "      <td>1</td>\n",
       "      <td>1954</td>\n",
       "      <td>2</td>\n",
       "      <td>428000</td>\n",
       "      <td>2024-08-01</td>\n",
       "    </tr>\n",
       "    <tr>\n",
       "      <th>141805</th>\n",
       "      <td>MANHATTAN</td>\n",
       "      <td>WASHINGTON HEIGHTS UPPER</td>\n",
       "      <td>13 CONDOS - ELEVATOR APARTMENTS</td>\n",
       "      <td>2</td>\n",
       "      <td>69 BENNETT AVENUE, 403</td>\n",
       "      <td>10033</td>\n",
       "      <td>1</td>\n",
       "      <td>&lt;NA&gt;</td>\n",
       "      <td>1</td>\n",
       "      <td>1954</td>\n",
       "      <td>2</td>\n",
       "      <td>500000</td>\n",
       "      <td>2024-06-28</td>\n",
       "    </tr>\n",
       "    <tr>\n",
       "      <th>141806</th>\n",
       "      <td>MANHATTAN</td>\n",
       "      <td>WASHINGTON HEIGHTS UPPER</td>\n",
       "      <td>13 CONDOS - ELEVATOR APARTMENTS</td>\n",
       "      <td>2</td>\n",
       "      <td>69 BENNETT AVENUE, 604</td>\n",
       "      <td>10033</td>\n",
       "      <td>1</td>\n",
       "      <td>&lt;NA&gt;</td>\n",
       "      <td>1</td>\n",
       "      <td>1954</td>\n",
       "      <td>2</td>\n",
       "      <td>440000</td>\n",
       "      <td>2024-12-17</td>\n",
       "    </tr>\n",
       "    <tr>\n",
       "      <th>141807</th>\n",
       "      <td>MANHATTAN</td>\n",
       "      <td>WASHINGTON HEIGHTS UPPER</td>\n",
       "      <td>13 CONDOS - ELEVATOR APARTMENTS</td>\n",
       "      <td>2</td>\n",
       "      <td>105 BENNETT AVENUE, 12B</td>\n",
       "      <td>10033</td>\n",
       "      <td>1</td>\n",
       "      <td>&lt;NA&gt;</td>\n",
       "      <td>1</td>\n",
       "      <td>1939</td>\n",
       "      <td>2</td>\n",
       "      <td>&lt;NA&gt;</td>\n",
       "      <td>2024-07-08</td>\n",
       "    </tr>\n",
       "    <tr>\n",
       "      <th>141808</th>\n",
       "      <td>MANHATTAN</td>\n",
       "      <td>WASHINGTON HEIGHTS UPPER</td>\n",
       "      <td>13 CONDOS - ELEVATOR APARTMENTS</td>\n",
       "      <td>2</td>\n",
       "      <td>105 BENNETT AVENUE, 21A</td>\n",
       "      <td>10033</td>\n",
       "      <td>1</td>\n",
       "      <td>&lt;NA&gt;</td>\n",
       "      <td>1</td>\n",
       "      <td>1939</td>\n",
       "      <td>2</td>\n",
       "      <td>810000</td>\n",
       "      <td>2024-03-27</td>\n",
       "    </tr>\n",
       "    <tr>\n",
       "      <th>141809</th>\n",
       "      <td>MANHATTAN</td>\n",
       "      <td>WASHINGTON HEIGHTS UPPER</td>\n",
       "      <td>13 CONDOS - ELEVATOR APARTMENTS</td>\n",
       "      <td>2</td>\n",
       "      <td>105 BENNETT AVENUE, 54B</td>\n",
       "      <td>10033</td>\n",
       "      <td>1</td>\n",
       "      <td>&lt;NA&gt;</td>\n",
       "      <td>1</td>\n",
       "      <td>1939</td>\n",
       "      <td>2</td>\n",
       "      <td>490000</td>\n",
       "      <td>2024-03-04</td>\n",
       "    </tr>\n",
       "    <tr>\n",
       "      <th>141810</th>\n",
       "      <td>MANHATTAN</td>\n",
       "      <td>WASHINGTON HEIGHTS UPPER</td>\n",
       "      <td>13 CONDOS - ELEVATOR APARTMENTS</td>\n",
       "      <td>2</td>\n",
       "      <td>105 BENNETT AVENUE, 63B</td>\n",
       "      <td>10033</td>\n",
       "      <td>1</td>\n",
       "      <td>&lt;NA&gt;</td>\n",
       "      <td>1</td>\n",
       "      <td>1939</td>\n",
       "      <td>2</td>\n",
       "      <td>510000</td>\n",
       "      <td>2024-11-21</td>\n",
       "    </tr>\n",
       "    <tr>\n",
       "      <th>141811</th>\n",
       "      <td>MANHATTAN</td>\n",
       "      <td>WASHINGTON HEIGHTS UPPER</td>\n",
       "      <td>13 CONDOS - ELEVATOR APARTMENTS</td>\n",
       "      <td>2</td>\n",
       "      <td>105 BENNETT AVENUE, 65A</td>\n",
       "      <td>10033</td>\n",
       "      <td>1</td>\n",
       "      <td>&lt;NA&gt;</td>\n",
       "      <td>1</td>\n",
       "      <td>1939</td>\n",
       "      <td>2</td>\n",
       "      <td>825000</td>\n",
       "      <td>2024-05-23</td>\n",
       "    </tr>\n",
       "  </tbody>\n",
       "</table>\n",
       "</div>"
      ],
      "text/plain": [
       "          BOROUGH              NEIGHBORHOOD          BUILDING CLASS CATEGORY  \\\n",
       "141782  MANHATTAN  WASHINGTON HEIGHTS UPPER   10 COOPS - ELEVATOR APARTMENTS   \n",
       "141783  MANHATTAN  WASHINGTON HEIGHTS UPPER   10 COOPS - ELEVATOR APARTMENTS   \n",
       "141784  MANHATTAN  WASHINGTON HEIGHTS UPPER   10 COOPS - ELEVATOR APARTMENTS   \n",
       "141785  MANHATTAN  WASHINGTON HEIGHTS UPPER   10 COOPS - ELEVATOR APARTMENTS   \n",
       "141786  MANHATTAN  WASHINGTON HEIGHTS UPPER   10 COOPS - ELEVATOR APARTMENTS   \n",
       "141787  MANHATTAN  WASHINGTON HEIGHTS UPPER   10 COOPS - ELEVATOR APARTMENTS   \n",
       "141788  MANHATTAN  WASHINGTON HEIGHTS UPPER   10 COOPS - ELEVATOR APARTMENTS   \n",
       "141789  MANHATTAN  WASHINGTON HEIGHTS UPPER   10 COOPS - ELEVATOR APARTMENTS   \n",
       "141790  MANHATTAN  WASHINGTON HEIGHTS UPPER   10 COOPS - ELEVATOR APARTMENTS   \n",
       "141791  MANHATTAN  WASHINGTON HEIGHTS UPPER    11 SPECIAL CONDO BILLING LOTS   \n",
       "141792  MANHATTAN  WASHINGTON HEIGHTS UPPER  13 CONDOS - ELEVATOR APARTMENTS   \n",
       "141793  MANHATTAN  WASHINGTON HEIGHTS UPPER  13 CONDOS - ELEVATOR APARTMENTS   \n",
       "141794  MANHATTAN  WASHINGTON HEIGHTS UPPER  13 CONDOS - ELEVATOR APARTMENTS   \n",
       "141795  MANHATTAN  WASHINGTON HEIGHTS UPPER  13 CONDOS - ELEVATOR APARTMENTS   \n",
       "141796  MANHATTAN  WASHINGTON HEIGHTS UPPER  13 CONDOS - ELEVATOR APARTMENTS   \n",
       "141797  MANHATTAN  WASHINGTON HEIGHTS UPPER  13 CONDOS - ELEVATOR APARTMENTS   \n",
       "141798  MANHATTAN  WASHINGTON HEIGHTS UPPER  13 CONDOS - ELEVATOR APARTMENTS   \n",
       "141799  MANHATTAN  WASHINGTON HEIGHTS UPPER  13 CONDOS - ELEVATOR APARTMENTS   \n",
       "141800  MANHATTAN  WASHINGTON HEIGHTS UPPER  13 CONDOS - ELEVATOR APARTMENTS   \n",
       "141801  MANHATTAN  WASHINGTON HEIGHTS UPPER  13 CONDOS - ELEVATOR APARTMENTS   \n",
       "141802  MANHATTAN  WASHINGTON HEIGHTS UPPER  13 CONDOS - ELEVATOR APARTMENTS   \n",
       "141803  MANHATTAN  WASHINGTON HEIGHTS UPPER  13 CONDOS - ELEVATOR APARTMENTS   \n",
       "141804  MANHATTAN  WASHINGTON HEIGHTS UPPER  13 CONDOS - ELEVATOR APARTMENTS   \n",
       "141805  MANHATTAN  WASHINGTON HEIGHTS UPPER  13 CONDOS - ELEVATOR APARTMENTS   \n",
       "141806  MANHATTAN  WASHINGTON HEIGHTS UPPER  13 CONDOS - ELEVATOR APARTMENTS   \n",
       "141807  MANHATTAN  WASHINGTON HEIGHTS UPPER  13 CONDOS - ELEVATOR APARTMENTS   \n",
       "141808  MANHATTAN  WASHINGTON HEIGHTS UPPER  13 CONDOS - ELEVATOR APARTMENTS   \n",
       "141809  MANHATTAN  WASHINGTON HEIGHTS UPPER  13 CONDOS - ELEVATOR APARTMENTS   \n",
       "141810  MANHATTAN  WASHINGTON HEIGHTS UPPER  13 CONDOS - ELEVATOR APARTMENTS   \n",
       "141811  MANHATTAN  WASHINGTON HEIGHTS UPPER  13 CONDOS - ELEVATOR APARTMENTS   \n",
       "\n",
       "       TAX CLASS AT PRESENT                    ADDRESS  ZIP CODE  \\\n",
       "141782                    2          4489 BROADWAY, 6A     10040   \n",
       "141783                    2          4489 BROADWAY, 7C     10040   \n",
       "141784                    2          4501 BROADWAY, 7D     10040   \n",
       "141785                    2          4523 BROADWAY, 5F     10040   \n",
       "141786                    2          4523 BROADWAY, 6A     10040   \n",
       "141787                    2          4523 BROADWAY, 7C     10040   \n",
       "141788                    2   1825 RIVERSIDE DRIVE, 5F     10034   \n",
       "141789                    2   1793 RIVERSIDE DRIVE, 4F     10034   \n",
       "141790                    2   1793 RIVERSIDE DRIVE, 5J     10034   \n",
       "141791                    2   92 PINEHURST AVENUE, RES     10033   \n",
       "141792                    2         4260 BROADWAY, 204     10033   \n",
       "141793                    2         4260 BROADWAY, 208     10033   \n",
       "141794                    2         4260 BROADWAY, 300     10033   \n",
       "141795                    2  160 WADSWORTH AVENUE, 104     10033   \n",
       "141796                    2  160 WADSWORTH AVENUE, 302     10033   \n",
       "141797                    2  160 WADSWORTH AVENUE, 501     10033   \n",
       "141798                    2  160 WADSWORTH AVENUE, 505     10033   \n",
       "141799                    2    40 PINEHURST AVENUE, 4B     10033   \n",
       "141800                    2       255 CABRINI BLVD, 8A     10040   \n",
       "141801                    2  255 CABRINI BOULEVARD, 6F     10040   \n",
       "141802                    2  255 CABRINI BOULEVARD, 4K     10040   \n",
       "141803                    2   736 WEST 187 STREET, 304     10033   \n",
       "141804                    2     69 BENNETT AVENUE, 104     10033   \n",
       "141805                    2     69 BENNETT AVENUE, 403     10033   \n",
       "141806                    2     69 BENNETT AVENUE, 604     10033   \n",
       "141807                    2    105 BENNETT AVENUE, 12B     10033   \n",
       "141808                    2    105 BENNETT AVENUE, 21A     10033   \n",
       "141809                    2    105 BENNETT AVENUE, 54B     10033   \n",
       "141810                    2    105 BENNETT AVENUE, 63B     10033   \n",
       "141811                    2    105 BENNETT AVENUE, 65A     10033   \n",
       "\n",
       "        RESIDENTIAL UNITS  COMMERCIAL UNITS  TOTAL UNITS  YEAR BUILT  \\\n",
       "141782               <NA>              <NA>         <NA>        1951   \n",
       "141783               <NA>              <NA>         <NA>        1951   \n",
       "141784               <NA>              <NA>         <NA>        1951   \n",
       "141785               <NA>              <NA>         <NA>        1951   \n",
       "141786               <NA>              <NA>         <NA>        1951   \n",
       "141787               <NA>              <NA>         <NA>        1951   \n",
       "141788               <NA>              <NA>         <NA>        1926   \n",
       "141789               <NA>              <NA>         <NA>        1926   \n",
       "141790               <NA>              <NA>         <NA>        1926   \n",
       "141791                 72                 0           72        1928   \n",
       "141792                  1              <NA>            1        <NA>   \n",
       "141793                  1              <NA>            1        <NA>   \n",
       "141794                  1              <NA>            1        <NA>   \n",
       "141795                  1              <NA>            1        <NA>   \n",
       "141796                  1              <NA>            1        <NA>   \n",
       "141797                  1              <NA>            1        <NA>   \n",
       "141798                  1              <NA>            1        <NA>   \n",
       "141799                  1              <NA>            1        2016   \n",
       "141800                  1              <NA>            1        1987   \n",
       "141801                  1              <NA>            1        1987   \n",
       "141802                  1              <NA>            1        1987   \n",
       "141803                  1              <NA>            1        2003   \n",
       "141804                  1              <NA>            1        1954   \n",
       "141805                  1              <NA>            1        1954   \n",
       "141806                  1              <NA>            1        1954   \n",
       "141807                  1              <NA>            1        1939   \n",
       "141808                  1              <NA>            1        1939   \n",
       "141809                  1              <NA>            1        1939   \n",
       "141810                  1              <NA>            1        1939   \n",
       "141811                  1              <NA>            1        1939   \n",
       "\n",
       "        TAX CLASS AT TIME OF SALE  SALE PRICE  SALE DATE  \n",
       "141782                          2      390390 2024-04-16  \n",
       "141783                          2      302000 2024-07-01  \n",
       "141784                          2      275000 2024-11-05  \n",
       "141785                          2      390000 2024-09-25  \n",
       "141786                          2      375000 2024-05-23  \n",
       "141787                          2      559000 2024-05-21  \n",
       "141788                          2      525000 2024-03-22  \n",
       "141789                          2      655000 2024-05-29  \n",
       "141790                          2      390000 2024-12-10  \n",
       "141791                          2        <NA> 2024-03-29  \n",
       "141792                          2      600000 2024-11-19  \n",
       "141793                          2      415000 2024-11-13  \n",
       "141794                          2      492750 2024-04-19  \n",
       "141795                          2        <NA> 2024-08-23  \n",
       "141796                          2      334620 2024-11-22  \n",
       "141797                          2      491000 2024-09-05  \n",
       "141798                          2      470000 2024-06-14  \n",
       "141799                          2        <NA> 2024-07-18  \n",
       "141800                          2      580000 2024-06-24  \n",
       "141801                          2        <NA> 2024-08-22  \n",
       "141802                          2      645000 2024-11-08  \n",
       "141803                          2        <NA> 2024-03-01  \n",
       "141804                          2      428000 2024-08-01  \n",
       "141805                          2      500000 2024-06-28  \n",
       "141806                          2      440000 2024-12-17  \n",
       "141807                          2        <NA> 2024-07-08  \n",
       "141808                          2      810000 2024-03-27  \n",
       "141809                          2      490000 2024-03-04  \n",
       "141810                          2      510000 2024-11-21  \n",
       "141811                          2      825000 2024-05-23  "
      ]
     },
     "execution_count": 263,
     "metadata": {},
     "output_type": "execute_result"
    }
   ],
   "source": [
    "# Combined dataframe to be used for analysis and visualization\n",
    "# Displaying the last 30 rows of the combined dataframe to check the data, particularly for prescence of 2024 data\n",
    "combined_df.tail(30)"
   ]
  },
  {
   "cell_type": "markdown",
   "id": "07bea521",
   "metadata": {},
   "source": [
    "Checking of the dataframe using Data Wrangler (A Visual Studio Code extension by Microsoft) indicates that the written functions work and all 10 datasets are now combined for next steps in analysis and visualisation."
   ]
  },
  {
   "cell_type": "markdown",
   "id": "0a8309fd",
   "metadata": {},
   "source": [
    "#### Missing Value Treatment and Imputation"
   ]
  },
  {
   "cell_type": "code",
   "execution_count": 258,
   "id": "ae96379d",
   "metadata": {},
   "outputs": [
    {
     "name": "stdout",
     "output_type": "stream",
     "text": [
      "✅ Exported unique locations to 'unique_locations_for_geocoding.csv'\n"
     ]
    }
   ],
   "source": [
    "# Select the relevant columns (note the correct column name for ZIP CODE)\n",
    "columns_to_export = ['BOROUGH', 'NEIGHBORHOOD']\n",
    "\n",
    "# Drop duplicates to keep only unique combinations\n",
    "unique_locations = combined_df[columns_to_export].drop_duplicates()\n",
    "\n",
    "# Save to CSV\n",
    "unique_locations.to_csv('unique_locations_for_geocoding.csv', index=False)\n",
    "\n",
    "print(\"✅ Exported unique locations to 'unique_locations_for_geocoding.csv'\")\n",
    "\n"
   ]
  },
  {
   "cell_type": "markdown",
   "id": "d364ea29",
   "metadata": {},
   "source": [
    "#### Data Analysis and Visualization"
   ]
  },
  {
   "cell_type": "markdown",
   "id": "47f12c74",
   "metadata": {},
   "source": [
    "Targetted Variables \n",
    "\n",
    "\n",
    "\n",
    "\n",
    "Mean (Average) Transaction Sale Price by Borough for 2023/2024\n",
    "Median Transaction Sale Price by Borough for 2023/2024\n",
    "\n",
    "Volume (Count) of Building Class Type by Borough \n",
    "Monthly Sales Transaction Volume from 2023-2025 (Seasonality)\n",
    "\n",
    "Price Trend of top 10 neighborhoods by Transaction Volume \n",
    "\n",
    "\n",
    "\n",
    "Average Sale Price by Borough for the years of 2023 and 2024\n",
    "Sales Breakdown by Building Class Type by Borough \n",
    "Median Sale Price Transaction by Neighborhood and Borough \n",
    "Sales Transaction volume by month from periods of x to y \n",
    "Sale Transaction Pricing Trend by Neighborhood for the years of 2023 and 2024"
   ]
  },
  {
   "cell_type": "code",
   "execution_count": 277,
   "id": "a8dfff0c",
   "metadata": {},
   "outputs": [
    {
     "data": {
      "application/vnd.plotly.v1+json": {
       "config": {
        "plotlyServerURL": "https://plot.ly"
       },
       "data": [
        {
         "hovertemplate": "BOROUGH=BRONX<br>Month=%{x}<br>Number of Transactions=%{y}<extra></extra>",
         "legendgroup": "BRONX",
         "line": {
          "color": "#636efa",
          "dash": "solid"
         },
         "marker": {
          "symbol": "circle"
         },
         "mode": "lines+markers",
         "name": "BRONX",
         "orientation": "v",
         "showlegend": true,
         "type": "scatter",
         "x": [
          "2023-01",
          "2023-02",
          "2023-03",
          "2023-04",
          "2023-05",
          "2023-06",
          "2023-07",
          "2023-08",
          "2023-09",
          "2023-10",
          "2023-11",
          "2023-12"
         ],
         "xaxis": "x",
         "y": [
          426,
          423,
          474,
          418,
          504,
          567,
          423,
          496,
          393,
          474,
          441,
          483
         ],
         "yaxis": "y"
        },
        {
         "hovertemplate": "BOROUGH=BROOKLYN<br>Month=%{x}<br>Number of Transactions=%{y}<extra></extra>",
         "legendgroup": "BROOKLYN",
         "line": {
          "color": "#EF553B",
          "dash": "solid"
         },
         "marker": {
          "symbol": "circle"
         },
         "mode": "lines+markers",
         "name": "BROOKLYN",
         "orientation": "v",
         "showlegend": true,
         "type": "scatter",
         "x": [
          "2023-01",
          "2023-02",
          "2023-03",
          "2023-04",
          "2023-05",
          "2023-06",
          "2023-07",
          "2023-08",
          "2023-09",
          "2023-10",
          "2023-11",
          "2023-12"
         ],
         "xaxis": "x",
         "y": [
          1492,
          1400,
          1662,
          1494,
          1727,
          1835,
          1587,
          1945,
          1631,
          1617,
          1521,
          1757
         ],
         "yaxis": "y"
        },
        {
         "hovertemplate": "BOROUGH=MANHATTAN<br>Month=%{x}<br>Number of Transactions=%{y}<extra></extra>",
         "legendgroup": "MANHATTAN",
         "line": {
          "color": "#00cc96",
          "dash": "solid"
         },
         "marker": {
          "symbol": "circle"
         },
         "mode": "lines+markers",
         "name": "MANHATTAN",
         "orientation": "v",
         "showlegend": true,
         "type": "scatter",
         "x": [
          "2023-01",
          "2023-02",
          "2023-03",
          "2023-04",
          "2023-05",
          "2023-06",
          "2023-07",
          "2023-08",
          "2023-09",
          "2023-10",
          "2023-11",
          "2023-12"
         ],
         "xaxis": "x",
         "y": [
          1097,
          1028,
          1708,
          1200,
          1481,
          1567,
          1386,
          1561,
          1302,
          1309,
          1137,
          1281
         ],
         "yaxis": "y"
        },
        {
         "hovertemplate": "BOROUGH=QUEENS<br>Month=%{x}<br>Number of Transactions=%{y}<extra></extra>",
         "legendgroup": "QUEENS",
         "line": {
          "color": "#ab63fa",
          "dash": "solid"
         },
         "marker": {
          "symbol": "circle"
         },
         "mode": "lines+markers",
         "name": "QUEENS",
         "orientation": "v",
         "showlegend": true,
         "type": "scatter",
         "x": [
          "2023-01",
          "2023-02",
          "2023-03",
          "2023-04",
          "2023-05",
          "2023-06",
          "2023-07",
          "2023-08",
          "2023-09",
          "2023-10",
          "2023-11",
          "2023-12"
         ],
         "xaxis": "x",
         "y": [
          1708,
          1731,
          2028,
          1717,
          2021,
          2030,
          1816,
          2060,
          1956,
          2050,
          1820,
          1907
         ],
         "yaxis": "y"
        },
        {
         "hovertemplate": "BOROUGH=STATEN ISLAND<br>Month=%{x}<br>Number of Transactions=%{y}<extra></extra>",
         "legendgroup": "STATEN ISLAND",
         "line": {
          "color": "#FFA15A",
          "dash": "solid"
         },
         "marker": {
          "symbol": "circle"
         },
         "mode": "lines+markers",
         "name": "STATEN ISLAND",
         "orientation": "v",
         "showlegend": true,
         "type": "scatter",
         "x": [
          "2023-01",
          "2023-02",
          "2023-03",
          "2023-04",
          "2023-05",
          "2023-06",
          "2023-07",
          "2023-08",
          "2023-09",
          "2023-10",
          "2023-11",
          "2023-12"
         ],
         "xaxis": "x",
         "y": [
          528,
          486,
          586,
          531,
          659,
          660,
          637,
          699,
          578,
          778,
          576,
          590
         ],
         "yaxis": "y"
        }
       ],
       "layout": {
        "legend": {
         "title": {
          "text": "BOROUGH"
         },
         "tracegroupgap": 0
        },
        "template": {
         "data": {
          "bar": [
           {
            "error_x": {
             "color": "#2a3f5f"
            },
            "error_y": {
             "color": "#2a3f5f"
            },
            "marker": {
             "line": {
              "color": "#E5ECF6",
              "width": 0.5
             },
             "pattern": {
              "fillmode": "overlay",
              "size": 10,
              "solidity": 0.2
             }
            },
            "type": "bar"
           }
          ],
          "barpolar": [
           {
            "marker": {
             "line": {
              "color": "#E5ECF6",
              "width": 0.5
             },
             "pattern": {
              "fillmode": "overlay",
              "size": 10,
              "solidity": 0.2
             }
            },
            "type": "barpolar"
           }
          ],
          "carpet": [
           {
            "aaxis": {
             "endlinecolor": "#2a3f5f",
             "gridcolor": "white",
             "linecolor": "white",
             "minorgridcolor": "white",
             "startlinecolor": "#2a3f5f"
            },
            "baxis": {
             "endlinecolor": "#2a3f5f",
             "gridcolor": "white",
             "linecolor": "white",
             "minorgridcolor": "white",
             "startlinecolor": "#2a3f5f"
            },
            "type": "carpet"
           }
          ],
          "choropleth": [
           {
            "colorbar": {
             "outlinewidth": 0,
             "ticks": ""
            },
            "type": "choropleth"
           }
          ],
          "contour": [
           {
            "colorbar": {
             "outlinewidth": 0,
             "ticks": ""
            },
            "colorscale": [
             [
              0,
              "#0d0887"
             ],
             [
              0.1111111111111111,
              "#46039f"
             ],
             [
              0.2222222222222222,
              "#7201a8"
             ],
             [
              0.3333333333333333,
              "#9c179e"
             ],
             [
              0.4444444444444444,
              "#bd3786"
             ],
             [
              0.5555555555555556,
              "#d8576b"
             ],
             [
              0.6666666666666666,
              "#ed7953"
             ],
             [
              0.7777777777777778,
              "#fb9f3a"
             ],
             [
              0.8888888888888888,
              "#fdca26"
             ],
             [
              1,
              "#f0f921"
             ]
            ],
            "type": "contour"
           }
          ],
          "contourcarpet": [
           {
            "colorbar": {
             "outlinewidth": 0,
             "ticks": ""
            },
            "type": "contourcarpet"
           }
          ],
          "heatmap": [
           {
            "colorbar": {
             "outlinewidth": 0,
             "ticks": ""
            },
            "colorscale": [
             [
              0,
              "#0d0887"
             ],
             [
              0.1111111111111111,
              "#46039f"
             ],
             [
              0.2222222222222222,
              "#7201a8"
             ],
             [
              0.3333333333333333,
              "#9c179e"
             ],
             [
              0.4444444444444444,
              "#bd3786"
             ],
             [
              0.5555555555555556,
              "#d8576b"
             ],
             [
              0.6666666666666666,
              "#ed7953"
             ],
             [
              0.7777777777777778,
              "#fb9f3a"
             ],
             [
              0.8888888888888888,
              "#fdca26"
             ],
             [
              1,
              "#f0f921"
             ]
            ],
            "type": "heatmap"
           }
          ],
          "heatmapgl": [
           {
            "colorbar": {
             "outlinewidth": 0,
             "ticks": ""
            },
            "colorscale": [
             [
              0,
              "#0d0887"
             ],
             [
              0.1111111111111111,
              "#46039f"
             ],
             [
              0.2222222222222222,
              "#7201a8"
             ],
             [
              0.3333333333333333,
              "#9c179e"
             ],
             [
              0.4444444444444444,
              "#bd3786"
             ],
             [
              0.5555555555555556,
              "#d8576b"
             ],
             [
              0.6666666666666666,
              "#ed7953"
             ],
             [
              0.7777777777777778,
              "#fb9f3a"
             ],
             [
              0.8888888888888888,
              "#fdca26"
             ],
             [
              1,
              "#f0f921"
             ]
            ],
            "type": "heatmapgl"
           }
          ],
          "histogram": [
           {
            "marker": {
             "pattern": {
              "fillmode": "overlay",
              "size": 10,
              "solidity": 0.2
             }
            },
            "type": "histogram"
           }
          ],
          "histogram2d": [
           {
            "colorbar": {
             "outlinewidth": 0,
             "ticks": ""
            },
            "colorscale": [
             [
              0,
              "#0d0887"
             ],
             [
              0.1111111111111111,
              "#46039f"
             ],
             [
              0.2222222222222222,
              "#7201a8"
             ],
             [
              0.3333333333333333,
              "#9c179e"
             ],
             [
              0.4444444444444444,
              "#bd3786"
             ],
             [
              0.5555555555555556,
              "#d8576b"
             ],
             [
              0.6666666666666666,
              "#ed7953"
             ],
             [
              0.7777777777777778,
              "#fb9f3a"
             ],
             [
              0.8888888888888888,
              "#fdca26"
             ],
             [
              1,
              "#f0f921"
             ]
            ],
            "type": "histogram2d"
           }
          ],
          "histogram2dcontour": [
           {
            "colorbar": {
             "outlinewidth": 0,
             "ticks": ""
            },
            "colorscale": [
             [
              0,
              "#0d0887"
             ],
             [
              0.1111111111111111,
              "#46039f"
             ],
             [
              0.2222222222222222,
              "#7201a8"
             ],
             [
              0.3333333333333333,
              "#9c179e"
             ],
             [
              0.4444444444444444,
              "#bd3786"
             ],
             [
              0.5555555555555556,
              "#d8576b"
             ],
             [
              0.6666666666666666,
              "#ed7953"
             ],
             [
              0.7777777777777778,
              "#fb9f3a"
             ],
             [
              0.8888888888888888,
              "#fdca26"
             ],
             [
              1,
              "#f0f921"
             ]
            ],
            "type": "histogram2dcontour"
           }
          ],
          "mesh3d": [
           {
            "colorbar": {
             "outlinewidth": 0,
             "ticks": ""
            },
            "type": "mesh3d"
           }
          ],
          "parcoords": [
           {
            "line": {
             "colorbar": {
              "outlinewidth": 0,
              "ticks": ""
             }
            },
            "type": "parcoords"
           }
          ],
          "pie": [
           {
            "automargin": true,
            "type": "pie"
           }
          ],
          "scatter": [
           {
            "fillpattern": {
             "fillmode": "overlay",
             "size": 10,
             "solidity": 0.2
            },
            "type": "scatter"
           }
          ],
          "scatter3d": [
           {
            "line": {
             "colorbar": {
              "outlinewidth": 0,
              "ticks": ""
             }
            },
            "marker": {
             "colorbar": {
              "outlinewidth": 0,
              "ticks": ""
             }
            },
            "type": "scatter3d"
           }
          ],
          "scattercarpet": [
           {
            "marker": {
             "colorbar": {
              "outlinewidth": 0,
              "ticks": ""
             }
            },
            "type": "scattercarpet"
           }
          ],
          "scattergeo": [
           {
            "marker": {
             "colorbar": {
              "outlinewidth": 0,
              "ticks": ""
             }
            },
            "type": "scattergeo"
           }
          ],
          "scattergl": [
           {
            "marker": {
             "colorbar": {
              "outlinewidth": 0,
              "ticks": ""
             }
            },
            "type": "scattergl"
           }
          ],
          "scattermapbox": [
           {
            "marker": {
             "colorbar": {
              "outlinewidth": 0,
              "ticks": ""
             }
            },
            "type": "scattermapbox"
           }
          ],
          "scatterpolar": [
           {
            "marker": {
             "colorbar": {
              "outlinewidth": 0,
              "ticks": ""
             }
            },
            "type": "scatterpolar"
           }
          ],
          "scatterpolargl": [
           {
            "marker": {
             "colorbar": {
              "outlinewidth": 0,
              "ticks": ""
             }
            },
            "type": "scatterpolargl"
           }
          ],
          "scatterternary": [
           {
            "marker": {
             "colorbar": {
              "outlinewidth": 0,
              "ticks": ""
             }
            },
            "type": "scatterternary"
           }
          ],
          "surface": [
           {
            "colorbar": {
             "outlinewidth": 0,
             "ticks": ""
            },
            "colorscale": [
             [
              0,
              "#0d0887"
             ],
             [
              0.1111111111111111,
              "#46039f"
             ],
             [
              0.2222222222222222,
              "#7201a8"
             ],
             [
              0.3333333333333333,
              "#9c179e"
             ],
             [
              0.4444444444444444,
              "#bd3786"
             ],
             [
              0.5555555555555556,
              "#d8576b"
             ],
             [
              0.6666666666666666,
              "#ed7953"
             ],
             [
              0.7777777777777778,
              "#fb9f3a"
             ],
             [
              0.8888888888888888,
              "#fdca26"
             ],
             [
              1,
              "#f0f921"
             ]
            ],
            "type": "surface"
           }
          ],
          "table": [
           {
            "cells": {
             "fill": {
              "color": "#EBF0F8"
             },
             "line": {
              "color": "white"
             }
            },
            "header": {
             "fill": {
              "color": "#C8D4E3"
             },
             "line": {
              "color": "white"
             }
            },
            "type": "table"
           }
          ]
         },
         "layout": {
          "annotationdefaults": {
           "arrowcolor": "#2a3f5f",
           "arrowhead": 0,
           "arrowwidth": 1
          },
          "autotypenumbers": "strict",
          "coloraxis": {
           "colorbar": {
            "outlinewidth": 0,
            "ticks": ""
           }
          },
          "colorscale": {
           "diverging": [
            [
             0,
             "#8e0152"
            ],
            [
             0.1,
             "#c51b7d"
            ],
            [
             0.2,
             "#de77ae"
            ],
            [
             0.3,
             "#f1b6da"
            ],
            [
             0.4,
             "#fde0ef"
            ],
            [
             0.5,
             "#f7f7f7"
            ],
            [
             0.6,
             "#e6f5d0"
            ],
            [
             0.7,
             "#b8e186"
            ],
            [
             0.8,
             "#7fbc41"
            ],
            [
             0.9,
             "#4d9221"
            ],
            [
             1,
             "#276419"
            ]
           ],
           "sequential": [
            [
             0,
             "#0d0887"
            ],
            [
             0.1111111111111111,
             "#46039f"
            ],
            [
             0.2222222222222222,
             "#7201a8"
            ],
            [
             0.3333333333333333,
             "#9c179e"
            ],
            [
             0.4444444444444444,
             "#bd3786"
            ],
            [
             0.5555555555555556,
             "#d8576b"
            ],
            [
             0.6666666666666666,
             "#ed7953"
            ],
            [
             0.7777777777777778,
             "#fb9f3a"
            ],
            [
             0.8888888888888888,
             "#fdca26"
            ],
            [
             1,
             "#f0f921"
            ]
           ],
           "sequentialminus": [
            [
             0,
             "#0d0887"
            ],
            [
             0.1111111111111111,
             "#46039f"
            ],
            [
             0.2222222222222222,
             "#7201a8"
            ],
            [
             0.3333333333333333,
             "#9c179e"
            ],
            [
             0.4444444444444444,
             "#bd3786"
            ],
            [
             0.5555555555555556,
             "#d8576b"
            ],
            [
             0.6666666666666666,
             "#ed7953"
            ],
            [
             0.7777777777777778,
             "#fb9f3a"
            ],
            [
             0.8888888888888888,
             "#fdca26"
            ],
            [
             1,
             "#f0f921"
            ]
           ]
          },
          "colorway": [
           "#636efa",
           "#EF553B",
           "#00cc96",
           "#ab63fa",
           "#FFA15A",
           "#19d3f3",
           "#FF6692",
           "#B6E880",
           "#FF97FF",
           "#FECB52"
          ],
          "font": {
           "color": "#2a3f5f"
          },
          "geo": {
           "bgcolor": "white",
           "lakecolor": "white",
           "landcolor": "#E5ECF6",
           "showlakes": true,
           "showland": true,
           "subunitcolor": "white"
          },
          "hoverlabel": {
           "align": "left"
          },
          "hovermode": "closest",
          "mapbox": {
           "style": "light"
          },
          "paper_bgcolor": "white",
          "plot_bgcolor": "#E5ECF6",
          "polar": {
           "angularaxis": {
            "gridcolor": "white",
            "linecolor": "white",
            "ticks": ""
           },
           "bgcolor": "#E5ECF6",
           "radialaxis": {
            "gridcolor": "white",
            "linecolor": "white",
            "ticks": ""
           }
          },
          "scene": {
           "xaxis": {
            "backgroundcolor": "#E5ECF6",
            "gridcolor": "white",
            "gridwidth": 2,
            "linecolor": "white",
            "showbackground": true,
            "ticks": "",
            "zerolinecolor": "white"
           },
           "yaxis": {
            "backgroundcolor": "#E5ECF6",
            "gridcolor": "white",
            "gridwidth": 2,
            "linecolor": "white",
            "showbackground": true,
            "ticks": "",
            "zerolinecolor": "white"
           },
           "zaxis": {
            "backgroundcolor": "#E5ECF6",
            "gridcolor": "white",
            "gridwidth": 2,
            "linecolor": "white",
            "showbackground": true,
            "ticks": "",
            "zerolinecolor": "white"
           }
          },
          "shapedefaults": {
           "line": {
            "color": "#2a3f5f"
           }
          },
          "ternary": {
           "aaxis": {
            "gridcolor": "white",
            "linecolor": "white",
            "ticks": ""
           },
           "baxis": {
            "gridcolor": "white",
            "linecolor": "white",
            "ticks": ""
           },
           "bgcolor": "#E5ECF6",
           "caxis": {
            "gridcolor": "white",
            "linecolor": "white",
            "ticks": ""
           }
          },
          "title": {
           "x": 0.05
          },
          "xaxis": {
           "automargin": true,
           "gridcolor": "white",
           "linecolor": "white",
           "ticks": "",
           "title": {
            "standoff": 15
           },
           "zerolinecolor": "white",
           "zerolinewidth": 2
          },
          "yaxis": {
           "automargin": true,
           "gridcolor": "white",
           "linecolor": "white",
           "ticks": "",
           "title": {
            "standoff": 15
           },
           "zerolinecolor": "white",
           "zerolinewidth": 2
          }
         }
        },
        "title": {
         "text": "Monthly Transaction Volume by Borough (2023)"
        },
        "xaxis": {
         "anchor": "y",
         "domain": [
          0,
          1
         ],
         "tickangle": 45,
         "title": {
          "text": "Month"
         }
        },
        "yaxis": {
         "anchor": "x",
         "domain": [
          0,
          1
         ],
         "title": {
          "text": "Number of Transactions"
         }
        }
       }
      }
     },
     "metadata": {},
     "output_type": "display_data"
    }
   ],
   "source": [
    "# Volume of transactions per month by borough for the year of 2023\n",
    "\n",
    "# Ensure datetime format\n",
    "combined_df['SALE DATE'] = pd.to_datetime(combined_df['SALE DATE'], errors='coerce')\n",
    "\n",
    "# Filter for the year 2023 only\n",
    "df_2023 = combined_df[\n",
    "    (combined_df['SALE DATE'].dt.year == 2023) &\n",
    "    (combined_df['SALE DATE'].notna())\n",
    "]\n",
    "\n",
    "# Create a \"year-month\" column for grouping\n",
    "df_2023['YEAR_MONTH'] = df_2023['SALE DATE'].dt.to_period('M').astype(str)\n",
    "\n",
    "# Group by year-month and borough\n",
    "monthly_counts_2023 = (\n",
    "    df_2023.groupby(['YEAR_MONTH', 'BOROUGH'])\n",
    "    .size()\n",
    "    .reset_index(name='TRANSACTION_COUNT')\n",
    ")\n",
    "\n",
    "# Plot it\n",
    "fig = px.line(\n",
    "    monthly_counts_2023,\n",
    "    x='YEAR_MONTH',\n",
    "    y='TRANSACTION_COUNT',\n",
    "    color='BOROUGH',\n",
    "    title='Monthly Transaction Volume by Borough (2023)',\n",
    "    labels={'YEAR_MONTH': 'Month', 'TRANSACTION_COUNT': 'Number of Transactions'},\n",
    "    markers=True\n",
    ")\n",
    "\n",
    "fig.update_layout(xaxis_tickangle=45)\n",
    "\n",
    "fig.show()\n"
   ]
  },
  {
   "cell_type": "code",
   "execution_count": 278,
   "id": "9c0e9e03",
   "metadata": {},
   "outputs": [
    {
     "data": {
      "application/vnd.plotly.v1+json": {
       "config": {
        "plotlyServerURL": "https://plot.ly"
       },
       "data": [
        {
         "alignmentgroup": "True",
         "hovertemplate": "BOROUGH=BRONX<br>Month=%{x}<br>Number of Transactions=%{y}<extra></extra>",
         "legendgroup": "BRONX",
         "marker": {
          "color": "#636efa",
          "pattern": {
           "shape": ""
          }
         },
         "name": "BRONX",
         "offsetgroup": "BRONX",
         "orientation": "v",
         "showlegend": true,
         "textposition": "auto",
         "type": "bar",
         "x": [
          "2023-01",
          "2023-02",
          "2023-03",
          "2023-04",
          "2023-05",
          "2023-06",
          "2023-07",
          "2023-08",
          "2023-09",
          "2023-10",
          "2023-11",
          "2023-12"
         ],
         "xaxis": "x",
         "y": [
          426,
          423,
          474,
          418,
          504,
          567,
          423,
          496,
          393,
          474,
          441,
          483
         ],
         "yaxis": "y"
        },
        {
         "alignmentgroup": "True",
         "hovertemplate": "BOROUGH=BROOKLYN<br>Month=%{x}<br>Number of Transactions=%{y}<extra></extra>",
         "legendgroup": "BROOKLYN",
         "marker": {
          "color": "#EF553B",
          "pattern": {
           "shape": ""
          }
         },
         "name": "BROOKLYN",
         "offsetgroup": "BROOKLYN",
         "orientation": "v",
         "showlegend": true,
         "textposition": "auto",
         "type": "bar",
         "x": [
          "2023-01",
          "2023-02",
          "2023-03",
          "2023-04",
          "2023-05",
          "2023-06",
          "2023-07",
          "2023-08",
          "2023-09",
          "2023-10",
          "2023-11",
          "2023-12"
         ],
         "xaxis": "x",
         "y": [
          1492,
          1400,
          1662,
          1494,
          1727,
          1835,
          1587,
          1945,
          1631,
          1617,
          1521,
          1757
         ],
         "yaxis": "y"
        },
        {
         "alignmentgroup": "True",
         "hovertemplate": "BOROUGH=MANHATTAN<br>Month=%{x}<br>Number of Transactions=%{y}<extra></extra>",
         "legendgroup": "MANHATTAN",
         "marker": {
          "color": "#00cc96",
          "pattern": {
           "shape": ""
          }
         },
         "name": "MANHATTAN",
         "offsetgroup": "MANHATTAN",
         "orientation": "v",
         "showlegend": true,
         "textposition": "auto",
         "type": "bar",
         "x": [
          "2023-01",
          "2023-02",
          "2023-03",
          "2023-04",
          "2023-05",
          "2023-06",
          "2023-07",
          "2023-08",
          "2023-09",
          "2023-10",
          "2023-11",
          "2023-12"
         ],
         "xaxis": "x",
         "y": [
          1097,
          1028,
          1708,
          1200,
          1481,
          1567,
          1386,
          1561,
          1302,
          1309,
          1137,
          1281
         ],
         "yaxis": "y"
        },
        {
         "alignmentgroup": "True",
         "hovertemplate": "BOROUGH=QUEENS<br>Month=%{x}<br>Number of Transactions=%{y}<extra></extra>",
         "legendgroup": "QUEENS",
         "marker": {
          "color": "#ab63fa",
          "pattern": {
           "shape": ""
          }
         },
         "name": "QUEENS",
         "offsetgroup": "QUEENS",
         "orientation": "v",
         "showlegend": true,
         "textposition": "auto",
         "type": "bar",
         "x": [
          "2023-01",
          "2023-02",
          "2023-03",
          "2023-04",
          "2023-05",
          "2023-06",
          "2023-07",
          "2023-08",
          "2023-09",
          "2023-10",
          "2023-11",
          "2023-12"
         ],
         "xaxis": "x",
         "y": [
          1708,
          1731,
          2028,
          1717,
          2021,
          2030,
          1816,
          2060,
          1956,
          2050,
          1820,
          1907
         ],
         "yaxis": "y"
        },
        {
         "alignmentgroup": "True",
         "hovertemplate": "BOROUGH=STATEN ISLAND<br>Month=%{x}<br>Number of Transactions=%{y}<extra></extra>",
         "legendgroup": "STATEN ISLAND",
         "marker": {
          "color": "#FFA15A",
          "pattern": {
           "shape": ""
          }
         },
         "name": "STATEN ISLAND",
         "offsetgroup": "STATEN ISLAND",
         "orientation": "v",
         "showlegend": true,
         "textposition": "auto",
         "type": "bar",
         "x": [
          "2023-01",
          "2023-02",
          "2023-03",
          "2023-04",
          "2023-05",
          "2023-06",
          "2023-07",
          "2023-08",
          "2023-09",
          "2023-10",
          "2023-11",
          "2023-12"
         ],
         "xaxis": "x",
         "y": [
          528,
          486,
          586,
          531,
          659,
          660,
          637,
          699,
          578,
          778,
          576,
          590
         ],
         "yaxis": "y"
        }
       ],
       "layout": {
        "barmode": "relative",
        "legend": {
         "title": {
          "text": "BOROUGH"
         },
         "tracegroupgap": 0
        },
        "template": {
         "data": {
          "bar": [
           {
            "error_x": {
             "color": "#2a3f5f"
            },
            "error_y": {
             "color": "#2a3f5f"
            },
            "marker": {
             "line": {
              "color": "#E5ECF6",
              "width": 0.5
             },
             "pattern": {
              "fillmode": "overlay",
              "size": 10,
              "solidity": 0.2
             }
            },
            "type": "bar"
           }
          ],
          "barpolar": [
           {
            "marker": {
             "line": {
              "color": "#E5ECF6",
              "width": 0.5
             },
             "pattern": {
              "fillmode": "overlay",
              "size": 10,
              "solidity": 0.2
             }
            },
            "type": "barpolar"
           }
          ],
          "carpet": [
           {
            "aaxis": {
             "endlinecolor": "#2a3f5f",
             "gridcolor": "white",
             "linecolor": "white",
             "minorgridcolor": "white",
             "startlinecolor": "#2a3f5f"
            },
            "baxis": {
             "endlinecolor": "#2a3f5f",
             "gridcolor": "white",
             "linecolor": "white",
             "minorgridcolor": "white",
             "startlinecolor": "#2a3f5f"
            },
            "type": "carpet"
           }
          ],
          "choropleth": [
           {
            "colorbar": {
             "outlinewidth": 0,
             "ticks": ""
            },
            "type": "choropleth"
           }
          ],
          "contour": [
           {
            "colorbar": {
             "outlinewidth": 0,
             "ticks": ""
            },
            "colorscale": [
             [
              0,
              "#0d0887"
             ],
             [
              0.1111111111111111,
              "#46039f"
             ],
             [
              0.2222222222222222,
              "#7201a8"
             ],
             [
              0.3333333333333333,
              "#9c179e"
             ],
             [
              0.4444444444444444,
              "#bd3786"
             ],
             [
              0.5555555555555556,
              "#d8576b"
             ],
             [
              0.6666666666666666,
              "#ed7953"
             ],
             [
              0.7777777777777778,
              "#fb9f3a"
             ],
             [
              0.8888888888888888,
              "#fdca26"
             ],
             [
              1,
              "#f0f921"
             ]
            ],
            "type": "contour"
           }
          ],
          "contourcarpet": [
           {
            "colorbar": {
             "outlinewidth": 0,
             "ticks": ""
            },
            "type": "contourcarpet"
           }
          ],
          "heatmap": [
           {
            "colorbar": {
             "outlinewidth": 0,
             "ticks": ""
            },
            "colorscale": [
             [
              0,
              "#0d0887"
             ],
             [
              0.1111111111111111,
              "#46039f"
             ],
             [
              0.2222222222222222,
              "#7201a8"
             ],
             [
              0.3333333333333333,
              "#9c179e"
             ],
             [
              0.4444444444444444,
              "#bd3786"
             ],
             [
              0.5555555555555556,
              "#d8576b"
             ],
             [
              0.6666666666666666,
              "#ed7953"
             ],
             [
              0.7777777777777778,
              "#fb9f3a"
             ],
             [
              0.8888888888888888,
              "#fdca26"
             ],
             [
              1,
              "#f0f921"
             ]
            ],
            "type": "heatmap"
           }
          ],
          "heatmapgl": [
           {
            "colorbar": {
             "outlinewidth": 0,
             "ticks": ""
            },
            "colorscale": [
             [
              0,
              "#0d0887"
             ],
             [
              0.1111111111111111,
              "#46039f"
             ],
             [
              0.2222222222222222,
              "#7201a8"
             ],
             [
              0.3333333333333333,
              "#9c179e"
             ],
             [
              0.4444444444444444,
              "#bd3786"
             ],
             [
              0.5555555555555556,
              "#d8576b"
             ],
             [
              0.6666666666666666,
              "#ed7953"
             ],
             [
              0.7777777777777778,
              "#fb9f3a"
             ],
             [
              0.8888888888888888,
              "#fdca26"
             ],
             [
              1,
              "#f0f921"
             ]
            ],
            "type": "heatmapgl"
           }
          ],
          "histogram": [
           {
            "marker": {
             "pattern": {
              "fillmode": "overlay",
              "size": 10,
              "solidity": 0.2
             }
            },
            "type": "histogram"
           }
          ],
          "histogram2d": [
           {
            "colorbar": {
             "outlinewidth": 0,
             "ticks": ""
            },
            "colorscale": [
             [
              0,
              "#0d0887"
             ],
             [
              0.1111111111111111,
              "#46039f"
             ],
             [
              0.2222222222222222,
              "#7201a8"
             ],
             [
              0.3333333333333333,
              "#9c179e"
             ],
             [
              0.4444444444444444,
              "#bd3786"
             ],
             [
              0.5555555555555556,
              "#d8576b"
             ],
             [
              0.6666666666666666,
              "#ed7953"
             ],
             [
              0.7777777777777778,
              "#fb9f3a"
             ],
             [
              0.8888888888888888,
              "#fdca26"
             ],
             [
              1,
              "#f0f921"
             ]
            ],
            "type": "histogram2d"
           }
          ],
          "histogram2dcontour": [
           {
            "colorbar": {
             "outlinewidth": 0,
             "ticks": ""
            },
            "colorscale": [
             [
              0,
              "#0d0887"
             ],
             [
              0.1111111111111111,
              "#46039f"
             ],
             [
              0.2222222222222222,
              "#7201a8"
             ],
             [
              0.3333333333333333,
              "#9c179e"
             ],
             [
              0.4444444444444444,
              "#bd3786"
             ],
             [
              0.5555555555555556,
              "#d8576b"
             ],
             [
              0.6666666666666666,
              "#ed7953"
             ],
             [
              0.7777777777777778,
              "#fb9f3a"
             ],
             [
              0.8888888888888888,
              "#fdca26"
             ],
             [
              1,
              "#f0f921"
             ]
            ],
            "type": "histogram2dcontour"
           }
          ],
          "mesh3d": [
           {
            "colorbar": {
             "outlinewidth": 0,
             "ticks": ""
            },
            "type": "mesh3d"
           }
          ],
          "parcoords": [
           {
            "line": {
             "colorbar": {
              "outlinewidth": 0,
              "ticks": ""
             }
            },
            "type": "parcoords"
           }
          ],
          "pie": [
           {
            "automargin": true,
            "type": "pie"
           }
          ],
          "scatter": [
           {
            "fillpattern": {
             "fillmode": "overlay",
             "size": 10,
             "solidity": 0.2
            },
            "type": "scatter"
           }
          ],
          "scatter3d": [
           {
            "line": {
             "colorbar": {
              "outlinewidth": 0,
              "ticks": ""
             }
            },
            "marker": {
             "colorbar": {
              "outlinewidth": 0,
              "ticks": ""
             }
            },
            "type": "scatter3d"
           }
          ],
          "scattercarpet": [
           {
            "marker": {
             "colorbar": {
              "outlinewidth": 0,
              "ticks": ""
             }
            },
            "type": "scattercarpet"
           }
          ],
          "scattergeo": [
           {
            "marker": {
             "colorbar": {
              "outlinewidth": 0,
              "ticks": ""
             }
            },
            "type": "scattergeo"
           }
          ],
          "scattergl": [
           {
            "marker": {
             "colorbar": {
              "outlinewidth": 0,
              "ticks": ""
             }
            },
            "type": "scattergl"
           }
          ],
          "scattermapbox": [
           {
            "marker": {
             "colorbar": {
              "outlinewidth": 0,
              "ticks": ""
             }
            },
            "type": "scattermapbox"
           }
          ],
          "scatterpolar": [
           {
            "marker": {
             "colorbar": {
              "outlinewidth": 0,
              "ticks": ""
             }
            },
            "type": "scatterpolar"
           }
          ],
          "scatterpolargl": [
           {
            "marker": {
             "colorbar": {
              "outlinewidth": 0,
              "ticks": ""
             }
            },
            "type": "scatterpolargl"
           }
          ],
          "scatterternary": [
           {
            "marker": {
             "colorbar": {
              "outlinewidth": 0,
              "ticks": ""
             }
            },
            "type": "scatterternary"
           }
          ],
          "surface": [
           {
            "colorbar": {
             "outlinewidth": 0,
             "ticks": ""
            },
            "colorscale": [
             [
              0,
              "#0d0887"
             ],
             [
              0.1111111111111111,
              "#46039f"
             ],
             [
              0.2222222222222222,
              "#7201a8"
             ],
             [
              0.3333333333333333,
              "#9c179e"
             ],
             [
              0.4444444444444444,
              "#bd3786"
             ],
             [
              0.5555555555555556,
              "#d8576b"
             ],
             [
              0.6666666666666666,
              "#ed7953"
             ],
             [
              0.7777777777777778,
              "#fb9f3a"
             ],
             [
              0.8888888888888888,
              "#fdca26"
             ],
             [
              1,
              "#f0f921"
             ]
            ],
            "type": "surface"
           }
          ],
          "table": [
           {
            "cells": {
             "fill": {
              "color": "#EBF0F8"
             },
             "line": {
              "color": "white"
             }
            },
            "header": {
             "fill": {
              "color": "#C8D4E3"
             },
             "line": {
              "color": "white"
             }
            },
            "type": "table"
           }
          ]
         },
         "layout": {
          "annotationdefaults": {
           "arrowcolor": "#2a3f5f",
           "arrowhead": 0,
           "arrowwidth": 1
          },
          "autotypenumbers": "strict",
          "coloraxis": {
           "colorbar": {
            "outlinewidth": 0,
            "ticks": ""
           }
          },
          "colorscale": {
           "diverging": [
            [
             0,
             "#8e0152"
            ],
            [
             0.1,
             "#c51b7d"
            ],
            [
             0.2,
             "#de77ae"
            ],
            [
             0.3,
             "#f1b6da"
            ],
            [
             0.4,
             "#fde0ef"
            ],
            [
             0.5,
             "#f7f7f7"
            ],
            [
             0.6,
             "#e6f5d0"
            ],
            [
             0.7,
             "#b8e186"
            ],
            [
             0.8,
             "#7fbc41"
            ],
            [
             0.9,
             "#4d9221"
            ],
            [
             1,
             "#276419"
            ]
           ],
           "sequential": [
            [
             0,
             "#0d0887"
            ],
            [
             0.1111111111111111,
             "#46039f"
            ],
            [
             0.2222222222222222,
             "#7201a8"
            ],
            [
             0.3333333333333333,
             "#9c179e"
            ],
            [
             0.4444444444444444,
             "#bd3786"
            ],
            [
             0.5555555555555556,
             "#d8576b"
            ],
            [
             0.6666666666666666,
             "#ed7953"
            ],
            [
             0.7777777777777778,
             "#fb9f3a"
            ],
            [
             0.8888888888888888,
             "#fdca26"
            ],
            [
             1,
             "#f0f921"
            ]
           ],
           "sequentialminus": [
            [
             0,
             "#0d0887"
            ],
            [
             0.1111111111111111,
             "#46039f"
            ],
            [
             0.2222222222222222,
             "#7201a8"
            ],
            [
             0.3333333333333333,
             "#9c179e"
            ],
            [
             0.4444444444444444,
             "#bd3786"
            ],
            [
             0.5555555555555556,
             "#d8576b"
            ],
            [
             0.6666666666666666,
             "#ed7953"
            ],
            [
             0.7777777777777778,
             "#fb9f3a"
            ],
            [
             0.8888888888888888,
             "#fdca26"
            ],
            [
             1,
             "#f0f921"
            ]
           ]
          },
          "colorway": [
           "#636efa",
           "#EF553B",
           "#00cc96",
           "#ab63fa",
           "#FFA15A",
           "#19d3f3",
           "#FF6692",
           "#B6E880",
           "#FF97FF",
           "#FECB52"
          ],
          "font": {
           "color": "#2a3f5f"
          },
          "geo": {
           "bgcolor": "white",
           "lakecolor": "white",
           "landcolor": "#E5ECF6",
           "showlakes": true,
           "showland": true,
           "subunitcolor": "white"
          },
          "hoverlabel": {
           "align": "left"
          },
          "hovermode": "closest",
          "mapbox": {
           "style": "light"
          },
          "paper_bgcolor": "white",
          "plot_bgcolor": "#E5ECF6",
          "polar": {
           "angularaxis": {
            "gridcolor": "white",
            "linecolor": "white",
            "ticks": ""
           },
           "bgcolor": "#E5ECF6",
           "radialaxis": {
            "gridcolor": "white",
            "linecolor": "white",
            "ticks": ""
           }
          },
          "scene": {
           "xaxis": {
            "backgroundcolor": "#E5ECF6",
            "gridcolor": "white",
            "gridwidth": 2,
            "linecolor": "white",
            "showbackground": true,
            "ticks": "",
            "zerolinecolor": "white"
           },
           "yaxis": {
            "backgroundcolor": "#E5ECF6",
            "gridcolor": "white",
            "gridwidth": 2,
            "linecolor": "white",
            "showbackground": true,
            "ticks": "",
            "zerolinecolor": "white"
           },
           "zaxis": {
            "backgroundcolor": "#E5ECF6",
            "gridcolor": "white",
            "gridwidth": 2,
            "linecolor": "white",
            "showbackground": true,
            "ticks": "",
            "zerolinecolor": "white"
           }
          },
          "shapedefaults": {
           "line": {
            "color": "#2a3f5f"
           }
          },
          "ternary": {
           "aaxis": {
            "gridcolor": "white",
            "linecolor": "white",
            "ticks": ""
           },
           "baxis": {
            "gridcolor": "white",
            "linecolor": "white",
            "ticks": ""
           },
           "bgcolor": "#E5ECF6",
           "caxis": {
            "gridcolor": "white",
            "linecolor": "white",
            "ticks": ""
           }
          },
          "title": {
           "x": 0.05
          },
          "xaxis": {
           "automargin": true,
           "gridcolor": "white",
           "linecolor": "white",
           "ticks": "",
           "title": {
            "standoff": 15
           },
           "zerolinecolor": "white",
           "zerolinewidth": 2
          },
          "yaxis": {
           "automargin": true,
           "gridcolor": "white",
           "linecolor": "white",
           "ticks": "",
           "title": {
            "standoff": 15
           },
           "zerolinecolor": "white",
           "zerolinewidth": 2
          }
         }
        },
        "title": {
         "text": "Monthly Transaction Volume by Borough (2023)"
        },
        "xaxis": {
         "anchor": "y",
         "domain": [
          0,
          1
         ],
         "tickangle": 45,
         "title": {
          "text": "Month"
         }
        },
        "yaxis": {
         "anchor": "x",
         "domain": [
          0,
          1
         ],
         "title": {
          "text": "Number of Transactions"
         }
        }
       }
      }
     },
     "metadata": {},
     "output_type": "display_data"
    }
   ],
   "source": [
    "import plotly.express as px\n",
    "import pandas as pd\n",
    "\n",
    "# Ensure datetime format\n",
    "combined_df['SALE DATE'] = pd.to_datetime(combined_df['SALE DATE'], errors='coerce')\n",
    "\n",
    "# Filter for the year 2023 only\n",
    "df_2023 = combined_df[\n",
    "    (combined_df['SALE DATE'].dt.year == 2023) &\n",
    "    (combined_df['SALE DATE'].notna())\n",
    "]\n",
    "\n",
    "# Create a \"year-month\" column for grouping\n",
    "df_2023['YEAR_MONTH'] = df_2023['SALE DATE'].dt.to_period('M').astype(str)\n",
    "\n",
    "# Group by year-month and borough\n",
    "monthly_counts_2023 = (\n",
    "    df_2023.groupby(['YEAR_MONTH', 'BOROUGH'])\n",
    "    .size()\n",
    "    .reset_index(name='TRANSACTION_COUNT')\n",
    ")\n",
    "\n",
    "# Plot using bar chart\n",
    "fig = px.bar(\n",
    "    monthly_counts_2023,\n",
    "    x='YEAR_MONTH',\n",
    "    y='TRANSACTION_COUNT',\n",
    "    color='BOROUGH',\n",
    "    title='Monthly Transaction Volume by Borough (2023)',\n",
    "    labels={'YEAR_MONTH': 'Month', 'TRANSACTION_COUNT': 'Number of Transactions'},\n",
    ")\n",
    "\n",
    "fig.update_layout(xaxis_tickangle=45)\n",
    "\n",
    "fig.show()\n"
   ]
  },
  {
   "cell_type": "code",
   "execution_count": 280,
   "id": "50a250f3",
   "metadata": {},
   "outputs": [
    {
     "data": {
      "application/vnd.plotly.v1+json": {
       "config": {
        "plotlyServerURL": "https://plot.ly"
       },
       "data": [
        {
         "customdata": [
          [
           "QUEENS"
          ],
          [
           "BROOKLYN"
          ],
          [
           "MANHATTAN"
          ],
          [
           "STATEN ISLAND"
          ],
          [
           "BRONX"
          ]
         ],
         "domain": {
          "x": [
           0,
           1
          ],
          "y": [
           0,
           1
          ]
         },
         "hovertemplate": "BOROUGH=%{customdata[0]}<br>TRANSACTION_COUNT=%{value}<extra></extra>",
         "labels": [
          "QUEENS",
          "BROOKLYN",
          "MANHATTAN",
          "STATEN ISLAND",
          "BRONX"
         ],
         "legendgroup": "",
         "marker": {
          "colors": [
           "rgb(102,194,165)",
           "rgb(252,141,98)",
           "rgb(141,160,203)",
           "rgb(231,138,195)",
           "rgb(166,216,84)"
          ]
         },
         "name": "",
         "showlegend": true,
         "type": "pie",
         "values": [
          22844,
          19668,
          16057,
          7308,
          5522
         ]
        }
       ],
       "layout": {
        "legend": {
         "tracegroupgap": 0
        },
        "piecolorway": [
         "rgb(102,194,165)",
         "rgb(252,141,98)",
         "rgb(141,160,203)",
         "rgb(231,138,195)",
         "rgb(166,216,84)",
         "rgb(255,217,47)",
         "rgb(229,196,148)",
         "rgb(179,179,179)"
        ],
        "template": {
         "data": {
          "bar": [
           {
            "error_x": {
             "color": "#2a3f5f"
            },
            "error_y": {
             "color": "#2a3f5f"
            },
            "marker": {
             "line": {
              "color": "#E5ECF6",
              "width": 0.5
             },
             "pattern": {
              "fillmode": "overlay",
              "size": 10,
              "solidity": 0.2
             }
            },
            "type": "bar"
           }
          ],
          "barpolar": [
           {
            "marker": {
             "line": {
              "color": "#E5ECF6",
              "width": 0.5
             },
             "pattern": {
              "fillmode": "overlay",
              "size": 10,
              "solidity": 0.2
             }
            },
            "type": "barpolar"
           }
          ],
          "carpet": [
           {
            "aaxis": {
             "endlinecolor": "#2a3f5f",
             "gridcolor": "white",
             "linecolor": "white",
             "minorgridcolor": "white",
             "startlinecolor": "#2a3f5f"
            },
            "baxis": {
             "endlinecolor": "#2a3f5f",
             "gridcolor": "white",
             "linecolor": "white",
             "minorgridcolor": "white",
             "startlinecolor": "#2a3f5f"
            },
            "type": "carpet"
           }
          ],
          "choropleth": [
           {
            "colorbar": {
             "outlinewidth": 0,
             "ticks": ""
            },
            "type": "choropleth"
           }
          ],
          "contour": [
           {
            "colorbar": {
             "outlinewidth": 0,
             "ticks": ""
            },
            "colorscale": [
             [
              0,
              "#0d0887"
             ],
             [
              0.1111111111111111,
              "#46039f"
             ],
             [
              0.2222222222222222,
              "#7201a8"
             ],
             [
              0.3333333333333333,
              "#9c179e"
             ],
             [
              0.4444444444444444,
              "#bd3786"
             ],
             [
              0.5555555555555556,
              "#d8576b"
             ],
             [
              0.6666666666666666,
              "#ed7953"
             ],
             [
              0.7777777777777778,
              "#fb9f3a"
             ],
             [
              0.8888888888888888,
              "#fdca26"
             ],
             [
              1,
              "#f0f921"
             ]
            ],
            "type": "contour"
           }
          ],
          "contourcarpet": [
           {
            "colorbar": {
             "outlinewidth": 0,
             "ticks": ""
            },
            "type": "contourcarpet"
           }
          ],
          "heatmap": [
           {
            "colorbar": {
             "outlinewidth": 0,
             "ticks": ""
            },
            "colorscale": [
             [
              0,
              "#0d0887"
             ],
             [
              0.1111111111111111,
              "#46039f"
             ],
             [
              0.2222222222222222,
              "#7201a8"
             ],
             [
              0.3333333333333333,
              "#9c179e"
             ],
             [
              0.4444444444444444,
              "#bd3786"
             ],
             [
              0.5555555555555556,
              "#d8576b"
             ],
             [
              0.6666666666666666,
              "#ed7953"
             ],
             [
              0.7777777777777778,
              "#fb9f3a"
             ],
             [
              0.8888888888888888,
              "#fdca26"
             ],
             [
              1,
              "#f0f921"
             ]
            ],
            "type": "heatmap"
           }
          ],
          "heatmapgl": [
           {
            "colorbar": {
             "outlinewidth": 0,
             "ticks": ""
            },
            "colorscale": [
             [
              0,
              "#0d0887"
             ],
             [
              0.1111111111111111,
              "#46039f"
             ],
             [
              0.2222222222222222,
              "#7201a8"
             ],
             [
              0.3333333333333333,
              "#9c179e"
             ],
             [
              0.4444444444444444,
              "#bd3786"
             ],
             [
              0.5555555555555556,
              "#d8576b"
             ],
             [
              0.6666666666666666,
              "#ed7953"
             ],
             [
              0.7777777777777778,
              "#fb9f3a"
             ],
             [
              0.8888888888888888,
              "#fdca26"
             ],
             [
              1,
              "#f0f921"
             ]
            ],
            "type": "heatmapgl"
           }
          ],
          "histogram": [
           {
            "marker": {
             "pattern": {
              "fillmode": "overlay",
              "size": 10,
              "solidity": 0.2
             }
            },
            "type": "histogram"
           }
          ],
          "histogram2d": [
           {
            "colorbar": {
             "outlinewidth": 0,
             "ticks": ""
            },
            "colorscale": [
             [
              0,
              "#0d0887"
             ],
             [
              0.1111111111111111,
              "#46039f"
             ],
             [
              0.2222222222222222,
              "#7201a8"
             ],
             [
              0.3333333333333333,
              "#9c179e"
             ],
             [
              0.4444444444444444,
              "#bd3786"
             ],
             [
              0.5555555555555556,
              "#d8576b"
             ],
             [
              0.6666666666666666,
              "#ed7953"
             ],
             [
              0.7777777777777778,
              "#fb9f3a"
             ],
             [
              0.8888888888888888,
              "#fdca26"
             ],
             [
              1,
              "#f0f921"
             ]
            ],
            "type": "histogram2d"
           }
          ],
          "histogram2dcontour": [
           {
            "colorbar": {
             "outlinewidth": 0,
             "ticks": ""
            },
            "colorscale": [
             [
              0,
              "#0d0887"
             ],
             [
              0.1111111111111111,
              "#46039f"
             ],
             [
              0.2222222222222222,
              "#7201a8"
             ],
             [
              0.3333333333333333,
              "#9c179e"
             ],
             [
              0.4444444444444444,
              "#bd3786"
             ],
             [
              0.5555555555555556,
              "#d8576b"
             ],
             [
              0.6666666666666666,
              "#ed7953"
             ],
             [
              0.7777777777777778,
              "#fb9f3a"
             ],
             [
              0.8888888888888888,
              "#fdca26"
             ],
             [
              1,
              "#f0f921"
             ]
            ],
            "type": "histogram2dcontour"
           }
          ],
          "mesh3d": [
           {
            "colorbar": {
             "outlinewidth": 0,
             "ticks": ""
            },
            "type": "mesh3d"
           }
          ],
          "parcoords": [
           {
            "line": {
             "colorbar": {
              "outlinewidth": 0,
              "ticks": ""
             }
            },
            "type": "parcoords"
           }
          ],
          "pie": [
           {
            "automargin": true,
            "type": "pie"
           }
          ],
          "scatter": [
           {
            "fillpattern": {
             "fillmode": "overlay",
             "size": 10,
             "solidity": 0.2
            },
            "type": "scatter"
           }
          ],
          "scatter3d": [
           {
            "line": {
             "colorbar": {
              "outlinewidth": 0,
              "ticks": ""
             }
            },
            "marker": {
             "colorbar": {
              "outlinewidth": 0,
              "ticks": ""
             }
            },
            "type": "scatter3d"
           }
          ],
          "scattercarpet": [
           {
            "marker": {
             "colorbar": {
              "outlinewidth": 0,
              "ticks": ""
             }
            },
            "type": "scattercarpet"
           }
          ],
          "scattergeo": [
           {
            "marker": {
             "colorbar": {
              "outlinewidth": 0,
              "ticks": ""
             }
            },
            "type": "scattergeo"
           }
          ],
          "scattergl": [
           {
            "marker": {
             "colorbar": {
              "outlinewidth": 0,
              "ticks": ""
             }
            },
            "type": "scattergl"
           }
          ],
          "scattermapbox": [
           {
            "marker": {
             "colorbar": {
              "outlinewidth": 0,
              "ticks": ""
             }
            },
            "type": "scattermapbox"
           }
          ],
          "scatterpolar": [
           {
            "marker": {
             "colorbar": {
              "outlinewidth": 0,
              "ticks": ""
             }
            },
            "type": "scatterpolar"
           }
          ],
          "scatterpolargl": [
           {
            "marker": {
             "colorbar": {
              "outlinewidth": 0,
              "ticks": ""
             }
            },
            "type": "scatterpolargl"
           }
          ],
          "scatterternary": [
           {
            "marker": {
             "colorbar": {
              "outlinewidth": 0,
              "ticks": ""
             }
            },
            "type": "scatterternary"
           }
          ],
          "surface": [
           {
            "colorbar": {
             "outlinewidth": 0,
             "ticks": ""
            },
            "colorscale": [
             [
              0,
              "#0d0887"
             ],
             [
              0.1111111111111111,
              "#46039f"
             ],
             [
              0.2222222222222222,
              "#7201a8"
             ],
             [
              0.3333333333333333,
              "#9c179e"
             ],
             [
              0.4444444444444444,
              "#bd3786"
             ],
             [
              0.5555555555555556,
              "#d8576b"
             ],
             [
              0.6666666666666666,
              "#ed7953"
             ],
             [
              0.7777777777777778,
              "#fb9f3a"
             ],
             [
              0.8888888888888888,
              "#fdca26"
             ],
             [
              1,
              "#f0f921"
             ]
            ],
            "type": "surface"
           }
          ],
          "table": [
           {
            "cells": {
             "fill": {
              "color": "#EBF0F8"
             },
             "line": {
              "color": "white"
             }
            },
            "header": {
             "fill": {
              "color": "#C8D4E3"
             },
             "line": {
              "color": "white"
             }
            },
            "type": "table"
           }
          ]
         },
         "layout": {
          "annotationdefaults": {
           "arrowcolor": "#2a3f5f",
           "arrowhead": 0,
           "arrowwidth": 1
          },
          "autotypenumbers": "strict",
          "coloraxis": {
           "colorbar": {
            "outlinewidth": 0,
            "ticks": ""
           }
          },
          "colorscale": {
           "diverging": [
            [
             0,
             "#8e0152"
            ],
            [
             0.1,
             "#c51b7d"
            ],
            [
             0.2,
             "#de77ae"
            ],
            [
             0.3,
             "#f1b6da"
            ],
            [
             0.4,
             "#fde0ef"
            ],
            [
             0.5,
             "#f7f7f7"
            ],
            [
             0.6,
             "#e6f5d0"
            ],
            [
             0.7,
             "#b8e186"
            ],
            [
             0.8,
             "#7fbc41"
            ],
            [
             0.9,
             "#4d9221"
            ],
            [
             1,
             "#276419"
            ]
           ],
           "sequential": [
            [
             0,
             "#0d0887"
            ],
            [
             0.1111111111111111,
             "#46039f"
            ],
            [
             0.2222222222222222,
             "#7201a8"
            ],
            [
             0.3333333333333333,
             "#9c179e"
            ],
            [
             0.4444444444444444,
             "#bd3786"
            ],
            [
             0.5555555555555556,
             "#d8576b"
            ],
            [
             0.6666666666666666,
             "#ed7953"
            ],
            [
             0.7777777777777778,
             "#fb9f3a"
            ],
            [
             0.8888888888888888,
             "#fdca26"
            ],
            [
             1,
             "#f0f921"
            ]
           ],
           "sequentialminus": [
            [
             0,
             "#0d0887"
            ],
            [
             0.1111111111111111,
             "#46039f"
            ],
            [
             0.2222222222222222,
             "#7201a8"
            ],
            [
             0.3333333333333333,
             "#9c179e"
            ],
            [
             0.4444444444444444,
             "#bd3786"
            ],
            [
             0.5555555555555556,
             "#d8576b"
            ],
            [
             0.6666666666666666,
             "#ed7953"
            ],
            [
             0.7777777777777778,
             "#fb9f3a"
            ],
            [
             0.8888888888888888,
             "#fdca26"
            ],
            [
             1,
             "#f0f921"
            ]
           ]
          },
          "colorway": [
           "#636efa",
           "#EF553B",
           "#00cc96",
           "#ab63fa",
           "#FFA15A",
           "#19d3f3",
           "#FF6692",
           "#B6E880",
           "#FF97FF",
           "#FECB52"
          ],
          "font": {
           "color": "#2a3f5f"
          },
          "geo": {
           "bgcolor": "white",
           "lakecolor": "white",
           "landcolor": "#E5ECF6",
           "showlakes": true,
           "showland": true,
           "subunitcolor": "white"
          },
          "hoverlabel": {
           "align": "left"
          },
          "hovermode": "closest",
          "mapbox": {
           "style": "light"
          },
          "paper_bgcolor": "white",
          "plot_bgcolor": "#E5ECF6",
          "polar": {
           "angularaxis": {
            "gridcolor": "white",
            "linecolor": "white",
            "ticks": ""
           },
           "bgcolor": "#E5ECF6",
           "radialaxis": {
            "gridcolor": "white",
            "linecolor": "white",
            "ticks": ""
           }
          },
          "scene": {
           "xaxis": {
            "backgroundcolor": "#E5ECF6",
            "gridcolor": "white",
            "gridwidth": 2,
            "linecolor": "white",
            "showbackground": true,
            "ticks": "",
            "zerolinecolor": "white"
           },
           "yaxis": {
            "backgroundcolor": "#E5ECF6",
            "gridcolor": "white",
            "gridwidth": 2,
            "linecolor": "white",
            "showbackground": true,
            "ticks": "",
            "zerolinecolor": "white"
           },
           "zaxis": {
            "backgroundcolor": "#E5ECF6",
            "gridcolor": "white",
            "gridwidth": 2,
            "linecolor": "white",
            "showbackground": true,
            "ticks": "",
            "zerolinecolor": "white"
           }
          },
          "shapedefaults": {
           "line": {
            "color": "#2a3f5f"
           }
          },
          "ternary": {
           "aaxis": {
            "gridcolor": "white",
            "linecolor": "white",
            "ticks": ""
           },
           "baxis": {
            "gridcolor": "white",
            "linecolor": "white",
            "ticks": ""
           },
           "bgcolor": "#E5ECF6",
           "caxis": {
            "gridcolor": "white",
            "linecolor": "white",
            "ticks": ""
           }
          },
          "title": {
           "x": 0.05
          },
          "xaxis": {
           "automargin": true,
           "gridcolor": "white",
           "linecolor": "white",
           "ticks": "",
           "title": {
            "standoff": 15
           },
           "zerolinecolor": "white",
           "zerolinewidth": 2
          },
          "yaxis": {
           "automargin": true,
           "gridcolor": "white",
           "linecolor": "white",
           "ticks": "",
           "title": {
            "standoff": 15
           },
           "zerolinecolor": "white",
           "zerolinewidth": 2
          }
         }
        },
        "title": {
         "text": "Transaction Volume by Borough (2023)"
        }
       }
      }
     },
     "metadata": {},
     "output_type": "display_data"
    }
   ],
   "source": [
    "import plotly.express as px\n",
    "\n",
    "# Filter data for 2023\n",
    "df_2023 = combined_df[combined_df['SALE DATE'].dt.year == 2023]\n",
    "\n",
    "# Group by Borough and count transactions\n",
    "borough_transaction_counts = df_2023['BOROUGH'].value_counts().reset_index(name='TRANSACTION_COUNT')\n",
    "borough_transaction_counts.columns = ['BOROUGH', 'TRANSACTION_COUNT']\n",
    "\n",
    "# Create Pie chart\n",
    "fig = px.pie(\n",
    "    borough_transaction_counts,\n",
    "    names='BOROUGH',\n",
    "    values='TRANSACTION_COUNT',\n",
    "    title='Transaction Volume by Borough (2023)',\n",
    "    color='BOROUGH',\n",
    "    color_discrete_sequence=px.colors.qualitative.Set2\n",
    ")\n",
    "\n",
    "fig.show()\n"
   ]
  },
  {
   "cell_type": "code",
   "execution_count": 279,
   "id": "c6678383",
   "metadata": {},
   "outputs": [
    {
     "data": {
      "application/vnd.plotly.v1+json": {
       "config": {
        "plotlyServerURL": "https://plot.ly"
       },
       "data": [
        {
         "alignmentgroup": "True",
         "hovertemplate": "BOROUGH=BRONX<br>Year=2023<br>Month=%{x}<br>Number of Transactions=%{y}<extra></extra>",
         "legendgroup": "BRONX",
         "marker": {
          "color": "#636efa",
          "pattern": {
           "shape": ""
          }
         },
         "name": "BRONX",
         "offsetgroup": "BRONX",
         "orientation": "v",
         "showlegend": true,
         "textposition": "auto",
         "type": "bar",
         "x": [
          "2023-01",
          "2023-02",
          "2023-03",
          "2023-04",
          "2023-05",
          "2023-06",
          "2023-07",
          "2023-08",
          "2023-09",
          "2023-10",
          "2023-11",
          "2023-12"
         ],
         "xaxis": "x",
         "y": [
          426,
          423,
          474,
          418,
          504,
          567,
          423,
          496,
          393,
          474,
          441,
          483
         ],
         "yaxis": "y"
        },
        {
         "alignmentgroup": "True",
         "hovertemplate": "BOROUGH=BRONX<br>Year=2024<br>Month=%{x}<br>Number of Transactions=%{y}<extra></extra>",
         "legendgroup": "BRONX",
         "marker": {
          "color": "#636efa",
          "pattern": {
           "shape": ""
          }
         },
         "name": "BRONX",
         "offsetgroup": "BRONX",
         "orientation": "v",
         "showlegend": false,
         "textposition": "auto",
         "type": "bar",
         "x": [
          "2024-03",
          "2024-04",
          "2024-05",
          "2024-06",
          "2024-07",
          "2024-08",
          "2024-09",
          "2024-10",
          "2024-11",
          "2024-12"
         ],
         "xaxis": "x2",
         "y": [
          445,
          437,
          537,
          616,
          500,
          498,
          472,
          471,
          416,
          546
         ],
         "yaxis": "y2"
        },
        {
         "alignmentgroup": "True",
         "hovertemplate": "BOROUGH=BROOKLYN<br>Year=2023<br>Month=%{x}<br>Number of Transactions=%{y}<extra></extra>",
         "legendgroup": "BROOKLYN",
         "marker": {
          "color": "#EF553B",
          "pattern": {
           "shape": ""
          }
         },
         "name": "BROOKLYN",
         "offsetgroup": "BROOKLYN",
         "orientation": "v",
         "showlegend": true,
         "textposition": "auto",
         "type": "bar",
         "x": [
          "2023-01",
          "2023-02",
          "2023-03",
          "2023-04",
          "2023-05",
          "2023-06",
          "2023-07",
          "2023-08",
          "2023-09",
          "2023-10",
          "2023-11",
          "2023-12"
         ],
         "xaxis": "x",
         "y": [
          1492,
          1400,
          1662,
          1494,
          1727,
          1835,
          1587,
          1945,
          1631,
          1617,
          1521,
          1757
         ],
         "yaxis": "y"
        },
        {
         "alignmentgroup": "True",
         "hovertemplate": "BOROUGH=BROOKLYN<br>Year=2024<br>Month=%{x}<br>Number of Transactions=%{y}<extra></extra>",
         "legendgroup": "BROOKLYN",
         "marker": {
          "color": "#EF553B",
          "pattern": {
           "shape": ""
          }
         },
         "name": "BROOKLYN",
         "offsetgroup": "BROOKLYN",
         "orientation": "v",
         "showlegend": false,
         "textposition": "auto",
         "type": "bar",
         "x": [
          "2024-03",
          "2024-04",
          "2024-05",
          "2024-06",
          "2024-07",
          "2024-08",
          "2024-09",
          "2024-10",
          "2024-11",
          "2024-12"
         ],
         "xaxis": "x2",
         "y": [
          1624,
          1567,
          1881,
          1652,
          1841,
          1654,
          1657,
          1645,
          1531,
          1724
         ],
         "yaxis": "y2"
        },
        {
         "alignmentgroup": "True",
         "hovertemplate": "BOROUGH=MANHATTAN<br>Year=2023<br>Month=%{x}<br>Number of Transactions=%{y}<extra></extra>",
         "legendgroup": "MANHATTAN",
         "marker": {
          "color": "#00cc96",
          "pattern": {
           "shape": ""
          }
         },
         "name": "MANHATTAN",
         "offsetgroup": "MANHATTAN",
         "orientation": "v",
         "showlegend": true,
         "textposition": "auto",
         "type": "bar",
         "x": [
          "2023-01",
          "2023-02",
          "2023-03",
          "2023-04",
          "2023-05",
          "2023-06",
          "2023-07",
          "2023-08",
          "2023-09",
          "2023-10",
          "2023-11",
          "2023-12"
         ],
         "xaxis": "x",
         "y": [
          1097,
          1028,
          1708,
          1200,
          1481,
          1567,
          1386,
          1561,
          1302,
          1309,
          1137,
          1281
         ],
         "yaxis": "y"
        },
        {
         "alignmentgroup": "True",
         "hovertemplate": "BOROUGH=MANHATTAN<br>Year=2024<br>Month=%{x}<br>Number of Transactions=%{y}<extra></extra>",
         "legendgroup": "MANHATTAN",
         "marker": {
          "color": "#00cc96",
          "pattern": {
           "shape": ""
          }
         },
         "name": "MANHATTAN",
         "offsetgroup": "MANHATTAN",
         "orientation": "v",
         "showlegend": false,
         "textposition": "auto",
         "type": "bar",
         "x": [
          "2024-03",
          "2024-04",
          "2024-05",
          "2024-06",
          "2024-07",
          "2024-08",
          "2024-09",
          "2024-10",
          "2024-11",
          "2024-12"
         ],
         "xaxis": "x2",
         "y": [
          1211,
          1303,
          1518,
          1516,
          1478,
          1388,
          1440,
          1455,
          1283,
          1426
         ],
         "yaxis": "y2"
        },
        {
         "alignmentgroup": "True",
         "hovertemplate": "BOROUGH=QUEENS<br>Year=2023<br>Month=%{x}<br>Number of Transactions=%{y}<extra></extra>",
         "legendgroup": "QUEENS",
         "marker": {
          "color": "#ab63fa",
          "pattern": {
           "shape": ""
          }
         },
         "name": "QUEENS",
         "offsetgroup": "QUEENS",
         "orientation": "v",
         "showlegend": true,
         "textposition": "auto",
         "type": "bar",
         "x": [
          "2023-01",
          "2023-02",
          "2023-03",
          "2023-04",
          "2023-05",
          "2023-06",
          "2023-07",
          "2023-08",
          "2023-09",
          "2023-10",
          "2023-11",
          "2023-12"
         ],
         "xaxis": "x",
         "y": [
          1708,
          1731,
          2028,
          1717,
          2021,
          2030,
          1816,
          2060,
          1956,
          2050,
          1820,
          1907
         ],
         "yaxis": "y"
        },
        {
         "alignmentgroup": "True",
         "hovertemplate": "BOROUGH=QUEENS<br>Year=2024<br>Month=%{x}<br>Number of Transactions=%{y}<extra></extra>",
         "legendgroup": "QUEENS",
         "marker": {
          "color": "#ab63fa",
          "pattern": {
           "shape": ""
          }
         },
         "name": "QUEENS",
         "offsetgroup": "QUEENS",
         "orientation": "v",
         "showlegend": false,
         "textposition": "auto",
         "type": "bar",
         "x": [
          "2024-03",
          "2024-04",
          "2024-05",
          "2024-06",
          "2024-07",
          "2024-08",
          "2024-09",
          "2024-10",
          "2024-11",
          "2024-12"
         ],
         "xaxis": "x2",
         "y": [
          1910,
          1944,
          2165,
          1939,
          2021,
          1967,
          1916,
          2163,
          1956,
          1946
         ],
         "yaxis": "y2"
        },
        {
         "alignmentgroup": "True",
         "hovertemplate": "BOROUGH=STATEN ISLAND<br>Year=2023<br>Month=%{x}<br>Number of Transactions=%{y}<extra></extra>",
         "legendgroup": "STATEN ISLAND",
         "marker": {
          "color": "#FFA15A",
          "pattern": {
           "shape": ""
          }
         },
         "name": "STATEN ISLAND",
         "offsetgroup": "STATEN ISLAND",
         "orientation": "v",
         "showlegend": true,
         "textposition": "auto",
         "type": "bar",
         "x": [
          "2023-01",
          "2023-02",
          "2023-03",
          "2023-04",
          "2023-05",
          "2023-06",
          "2023-07",
          "2023-08",
          "2023-09",
          "2023-10",
          "2023-11",
          "2023-12"
         ],
         "xaxis": "x",
         "y": [
          528,
          486,
          586,
          531,
          659,
          660,
          637,
          699,
          578,
          778,
          576,
          590
         ],
         "yaxis": "y"
        },
        {
         "alignmentgroup": "True",
         "hovertemplate": "BOROUGH=STATEN ISLAND<br>Year=2024<br>Month=%{x}<br>Number of Transactions=%{y}<extra></extra>",
         "legendgroup": "STATEN ISLAND",
         "marker": {
          "color": "#FFA15A",
          "pattern": {
           "shape": ""
          }
         },
         "name": "STATEN ISLAND",
         "offsetgroup": "STATEN ISLAND",
         "orientation": "v",
         "showlegend": false,
         "textposition": "auto",
         "type": "bar",
         "x": [
          "2024-03",
          "2024-04",
          "2024-05",
          "2024-06",
          "2024-07",
          "2024-08",
          "2024-09",
          "2024-10",
          "2024-11",
          "2024-12"
         ],
         "xaxis": "x2",
         "y": [
          549,
          562,
          609,
          571,
          677,
          620,
          626,
          637,
          576,
          555
         ],
         "yaxis": "y2"
        }
       ],
       "layout": {
        "annotations": [
         {
          "font": {},
          "showarrow": false,
          "text": "Year=2023",
          "x": 0.245,
          "xanchor": "center",
          "xref": "paper",
          "y": 1,
          "yanchor": "bottom",
          "yref": "paper"
         },
         {
          "font": {},
          "showarrow": false,
          "text": "Year=2024",
          "x": 0.755,
          "xanchor": "center",
          "xref": "paper",
          "y": 1,
          "yanchor": "bottom",
          "yref": "paper"
         }
        ],
        "barmode": "group",
        "legend": {
         "title": {
          "text": "BOROUGH"
         },
         "tracegroupgap": 0
        },
        "template": {
         "data": {
          "bar": [
           {
            "error_x": {
             "color": "#2a3f5f"
            },
            "error_y": {
             "color": "#2a3f5f"
            },
            "marker": {
             "line": {
              "color": "#E5ECF6",
              "width": 0.5
             },
             "pattern": {
              "fillmode": "overlay",
              "size": 10,
              "solidity": 0.2
             }
            },
            "type": "bar"
           }
          ],
          "barpolar": [
           {
            "marker": {
             "line": {
              "color": "#E5ECF6",
              "width": 0.5
             },
             "pattern": {
              "fillmode": "overlay",
              "size": 10,
              "solidity": 0.2
             }
            },
            "type": "barpolar"
           }
          ],
          "carpet": [
           {
            "aaxis": {
             "endlinecolor": "#2a3f5f",
             "gridcolor": "white",
             "linecolor": "white",
             "minorgridcolor": "white",
             "startlinecolor": "#2a3f5f"
            },
            "baxis": {
             "endlinecolor": "#2a3f5f",
             "gridcolor": "white",
             "linecolor": "white",
             "minorgridcolor": "white",
             "startlinecolor": "#2a3f5f"
            },
            "type": "carpet"
           }
          ],
          "choropleth": [
           {
            "colorbar": {
             "outlinewidth": 0,
             "ticks": ""
            },
            "type": "choropleth"
           }
          ],
          "contour": [
           {
            "colorbar": {
             "outlinewidth": 0,
             "ticks": ""
            },
            "colorscale": [
             [
              0,
              "#0d0887"
             ],
             [
              0.1111111111111111,
              "#46039f"
             ],
             [
              0.2222222222222222,
              "#7201a8"
             ],
             [
              0.3333333333333333,
              "#9c179e"
             ],
             [
              0.4444444444444444,
              "#bd3786"
             ],
             [
              0.5555555555555556,
              "#d8576b"
             ],
             [
              0.6666666666666666,
              "#ed7953"
             ],
             [
              0.7777777777777778,
              "#fb9f3a"
             ],
             [
              0.8888888888888888,
              "#fdca26"
             ],
             [
              1,
              "#f0f921"
             ]
            ],
            "type": "contour"
           }
          ],
          "contourcarpet": [
           {
            "colorbar": {
             "outlinewidth": 0,
             "ticks": ""
            },
            "type": "contourcarpet"
           }
          ],
          "heatmap": [
           {
            "colorbar": {
             "outlinewidth": 0,
             "ticks": ""
            },
            "colorscale": [
             [
              0,
              "#0d0887"
             ],
             [
              0.1111111111111111,
              "#46039f"
             ],
             [
              0.2222222222222222,
              "#7201a8"
             ],
             [
              0.3333333333333333,
              "#9c179e"
             ],
             [
              0.4444444444444444,
              "#bd3786"
             ],
             [
              0.5555555555555556,
              "#d8576b"
             ],
             [
              0.6666666666666666,
              "#ed7953"
             ],
             [
              0.7777777777777778,
              "#fb9f3a"
             ],
             [
              0.8888888888888888,
              "#fdca26"
             ],
             [
              1,
              "#f0f921"
             ]
            ],
            "type": "heatmap"
           }
          ],
          "heatmapgl": [
           {
            "colorbar": {
             "outlinewidth": 0,
             "ticks": ""
            },
            "colorscale": [
             [
              0,
              "#0d0887"
             ],
             [
              0.1111111111111111,
              "#46039f"
             ],
             [
              0.2222222222222222,
              "#7201a8"
             ],
             [
              0.3333333333333333,
              "#9c179e"
             ],
             [
              0.4444444444444444,
              "#bd3786"
             ],
             [
              0.5555555555555556,
              "#d8576b"
             ],
             [
              0.6666666666666666,
              "#ed7953"
             ],
             [
              0.7777777777777778,
              "#fb9f3a"
             ],
             [
              0.8888888888888888,
              "#fdca26"
             ],
             [
              1,
              "#f0f921"
             ]
            ],
            "type": "heatmapgl"
           }
          ],
          "histogram": [
           {
            "marker": {
             "pattern": {
              "fillmode": "overlay",
              "size": 10,
              "solidity": 0.2
             }
            },
            "type": "histogram"
           }
          ],
          "histogram2d": [
           {
            "colorbar": {
             "outlinewidth": 0,
             "ticks": ""
            },
            "colorscale": [
             [
              0,
              "#0d0887"
             ],
             [
              0.1111111111111111,
              "#46039f"
             ],
             [
              0.2222222222222222,
              "#7201a8"
             ],
             [
              0.3333333333333333,
              "#9c179e"
             ],
             [
              0.4444444444444444,
              "#bd3786"
             ],
             [
              0.5555555555555556,
              "#d8576b"
             ],
             [
              0.6666666666666666,
              "#ed7953"
             ],
             [
              0.7777777777777778,
              "#fb9f3a"
             ],
             [
              0.8888888888888888,
              "#fdca26"
             ],
             [
              1,
              "#f0f921"
             ]
            ],
            "type": "histogram2d"
           }
          ],
          "histogram2dcontour": [
           {
            "colorbar": {
             "outlinewidth": 0,
             "ticks": ""
            },
            "colorscale": [
             [
              0,
              "#0d0887"
             ],
             [
              0.1111111111111111,
              "#46039f"
             ],
             [
              0.2222222222222222,
              "#7201a8"
             ],
             [
              0.3333333333333333,
              "#9c179e"
             ],
             [
              0.4444444444444444,
              "#bd3786"
             ],
             [
              0.5555555555555556,
              "#d8576b"
             ],
             [
              0.6666666666666666,
              "#ed7953"
             ],
             [
              0.7777777777777778,
              "#fb9f3a"
             ],
             [
              0.8888888888888888,
              "#fdca26"
             ],
             [
              1,
              "#f0f921"
             ]
            ],
            "type": "histogram2dcontour"
           }
          ],
          "mesh3d": [
           {
            "colorbar": {
             "outlinewidth": 0,
             "ticks": ""
            },
            "type": "mesh3d"
           }
          ],
          "parcoords": [
           {
            "line": {
             "colorbar": {
              "outlinewidth": 0,
              "ticks": ""
             }
            },
            "type": "parcoords"
           }
          ],
          "pie": [
           {
            "automargin": true,
            "type": "pie"
           }
          ],
          "scatter": [
           {
            "fillpattern": {
             "fillmode": "overlay",
             "size": 10,
             "solidity": 0.2
            },
            "type": "scatter"
           }
          ],
          "scatter3d": [
           {
            "line": {
             "colorbar": {
              "outlinewidth": 0,
              "ticks": ""
             }
            },
            "marker": {
             "colorbar": {
              "outlinewidth": 0,
              "ticks": ""
             }
            },
            "type": "scatter3d"
           }
          ],
          "scattercarpet": [
           {
            "marker": {
             "colorbar": {
              "outlinewidth": 0,
              "ticks": ""
             }
            },
            "type": "scattercarpet"
           }
          ],
          "scattergeo": [
           {
            "marker": {
             "colorbar": {
              "outlinewidth": 0,
              "ticks": ""
             }
            },
            "type": "scattergeo"
           }
          ],
          "scattergl": [
           {
            "marker": {
             "colorbar": {
              "outlinewidth": 0,
              "ticks": ""
             }
            },
            "type": "scattergl"
           }
          ],
          "scattermapbox": [
           {
            "marker": {
             "colorbar": {
              "outlinewidth": 0,
              "ticks": ""
             }
            },
            "type": "scattermapbox"
           }
          ],
          "scatterpolar": [
           {
            "marker": {
             "colorbar": {
              "outlinewidth": 0,
              "ticks": ""
             }
            },
            "type": "scatterpolar"
           }
          ],
          "scatterpolargl": [
           {
            "marker": {
             "colorbar": {
              "outlinewidth": 0,
              "ticks": ""
             }
            },
            "type": "scatterpolargl"
           }
          ],
          "scatterternary": [
           {
            "marker": {
             "colorbar": {
              "outlinewidth": 0,
              "ticks": ""
             }
            },
            "type": "scatterternary"
           }
          ],
          "surface": [
           {
            "colorbar": {
             "outlinewidth": 0,
             "ticks": ""
            },
            "colorscale": [
             [
              0,
              "#0d0887"
             ],
             [
              0.1111111111111111,
              "#46039f"
             ],
             [
              0.2222222222222222,
              "#7201a8"
             ],
             [
              0.3333333333333333,
              "#9c179e"
             ],
             [
              0.4444444444444444,
              "#bd3786"
             ],
             [
              0.5555555555555556,
              "#d8576b"
             ],
             [
              0.6666666666666666,
              "#ed7953"
             ],
             [
              0.7777777777777778,
              "#fb9f3a"
             ],
             [
              0.8888888888888888,
              "#fdca26"
             ],
             [
              1,
              "#f0f921"
             ]
            ],
            "type": "surface"
           }
          ],
          "table": [
           {
            "cells": {
             "fill": {
              "color": "#EBF0F8"
             },
             "line": {
              "color": "white"
             }
            },
            "header": {
             "fill": {
              "color": "#C8D4E3"
             },
             "line": {
              "color": "white"
             }
            },
            "type": "table"
           }
          ]
         },
         "layout": {
          "annotationdefaults": {
           "arrowcolor": "#2a3f5f",
           "arrowhead": 0,
           "arrowwidth": 1
          },
          "autotypenumbers": "strict",
          "coloraxis": {
           "colorbar": {
            "outlinewidth": 0,
            "ticks": ""
           }
          },
          "colorscale": {
           "diverging": [
            [
             0,
             "#8e0152"
            ],
            [
             0.1,
             "#c51b7d"
            ],
            [
             0.2,
             "#de77ae"
            ],
            [
             0.3,
             "#f1b6da"
            ],
            [
             0.4,
             "#fde0ef"
            ],
            [
             0.5,
             "#f7f7f7"
            ],
            [
             0.6,
             "#e6f5d0"
            ],
            [
             0.7,
             "#b8e186"
            ],
            [
             0.8,
             "#7fbc41"
            ],
            [
             0.9,
             "#4d9221"
            ],
            [
             1,
             "#276419"
            ]
           ],
           "sequential": [
            [
             0,
             "#0d0887"
            ],
            [
             0.1111111111111111,
             "#46039f"
            ],
            [
             0.2222222222222222,
             "#7201a8"
            ],
            [
             0.3333333333333333,
             "#9c179e"
            ],
            [
             0.4444444444444444,
             "#bd3786"
            ],
            [
             0.5555555555555556,
             "#d8576b"
            ],
            [
             0.6666666666666666,
             "#ed7953"
            ],
            [
             0.7777777777777778,
             "#fb9f3a"
            ],
            [
             0.8888888888888888,
             "#fdca26"
            ],
            [
             1,
             "#f0f921"
            ]
           ],
           "sequentialminus": [
            [
             0,
             "#0d0887"
            ],
            [
             0.1111111111111111,
             "#46039f"
            ],
            [
             0.2222222222222222,
             "#7201a8"
            ],
            [
             0.3333333333333333,
             "#9c179e"
            ],
            [
             0.4444444444444444,
             "#bd3786"
            ],
            [
             0.5555555555555556,
             "#d8576b"
            ],
            [
             0.6666666666666666,
             "#ed7953"
            ],
            [
             0.7777777777777778,
             "#fb9f3a"
            ],
            [
             0.8888888888888888,
             "#fdca26"
            ],
            [
             1,
             "#f0f921"
            ]
           ]
          },
          "colorway": [
           "#636efa",
           "#EF553B",
           "#00cc96",
           "#ab63fa",
           "#FFA15A",
           "#19d3f3",
           "#FF6692",
           "#B6E880",
           "#FF97FF",
           "#FECB52"
          ],
          "font": {
           "color": "#2a3f5f"
          },
          "geo": {
           "bgcolor": "white",
           "lakecolor": "white",
           "landcolor": "#E5ECF6",
           "showlakes": true,
           "showland": true,
           "subunitcolor": "white"
          },
          "hoverlabel": {
           "align": "left"
          },
          "hovermode": "closest",
          "mapbox": {
           "style": "light"
          },
          "paper_bgcolor": "white",
          "plot_bgcolor": "#E5ECF6",
          "polar": {
           "angularaxis": {
            "gridcolor": "white",
            "linecolor": "white",
            "ticks": ""
           },
           "bgcolor": "#E5ECF6",
           "radialaxis": {
            "gridcolor": "white",
            "linecolor": "white",
            "ticks": ""
           }
          },
          "scene": {
           "xaxis": {
            "backgroundcolor": "#E5ECF6",
            "gridcolor": "white",
            "gridwidth": 2,
            "linecolor": "white",
            "showbackground": true,
            "ticks": "",
            "zerolinecolor": "white"
           },
           "yaxis": {
            "backgroundcolor": "#E5ECF6",
            "gridcolor": "white",
            "gridwidth": 2,
            "linecolor": "white",
            "showbackground": true,
            "ticks": "",
            "zerolinecolor": "white"
           },
           "zaxis": {
            "backgroundcolor": "#E5ECF6",
            "gridcolor": "white",
            "gridwidth": 2,
            "linecolor": "white",
            "showbackground": true,
            "ticks": "",
            "zerolinecolor": "white"
           }
          },
          "shapedefaults": {
           "line": {
            "color": "#2a3f5f"
           }
          },
          "ternary": {
           "aaxis": {
            "gridcolor": "white",
            "linecolor": "white",
            "ticks": ""
           },
           "baxis": {
            "gridcolor": "white",
            "linecolor": "white",
            "ticks": ""
           },
           "bgcolor": "#E5ECF6",
           "caxis": {
            "gridcolor": "white",
            "linecolor": "white",
            "ticks": ""
           }
          },
          "title": {
           "x": 0.05
          },
          "xaxis": {
           "automargin": true,
           "gridcolor": "white",
           "linecolor": "white",
           "ticks": "",
           "title": {
            "standoff": 15
           },
           "zerolinecolor": "white",
           "zerolinewidth": 2
          },
          "yaxis": {
           "automargin": true,
           "gridcolor": "white",
           "linecolor": "white",
           "ticks": "",
           "title": {
            "standoff": 15
           },
           "zerolinecolor": "white",
           "zerolinewidth": 2
          }
         }
        },
        "title": {
         "text": "Monthly Transaction Volume by Borough (2023 vs 2024)"
        },
        "xaxis": {
         "anchor": "y",
         "domain": [
          0,
          0.49
         ],
         "tickangle": 45,
         "title": {
          "text": "Month"
         }
        },
        "xaxis2": {
         "anchor": "y2",
         "domain": [
          0.51,
          1
         ],
         "matches": "x",
         "title": {
          "text": "Month"
         }
        },
        "yaxis": {
         "anchor": "x",
         "domain": [
          0,
          1
         ],
         "title": {
          "text": "Number of Transactions"
         }
        },
        "yaxis2": {
         "anchor": "x2",
         "domain": [
          0,
          1
         ],
         "matches": "y",
         "showticklabels": false
        }
       }
      }
     },
     "metadata": {},
     "output_type": "display_data"
    }
   ],
   "source": [
    "import plotly.express as px\n",
    "import pandas as pd\n",
    "\n",
    "# Ensure datetime format\n",
    "combined_df['SALE DATE'] = pd.to_datetime(combined_df['SALE DATE'], errors='coerce')\n",
    "\n",
    "# Filter data for 2023 and 2024\n",
    "df_2023_2024 = combined_df[\n",
    "    (combined_df['SALE DATE'].dt.year.isin([2023, 2024])) &\n",
    "    (combined_df['SALE DATE'].notna())\n",
    "]\n",
    "\n",
    "# Create a \"year-month\" column for grouping\n",
    "df_2023_2024['YEAR_MONTH'] = df_2023_2024['SALE DATE'].dt.to_period('M').astype(str)\n",
    "\n",
    "# Group by year-month and borough\n",
    "monthly_counts_2023_2024 = (\n",
    "    df_2023_2024.groupby(['YEAR_MONTH', 'BOROUGH', df_2023_2024['SALE DATE'].dt.year])\n",
    "    .size()\n",
    "    .reset_index(name='TRANSACTION_COUNT')\n",
    ")\n",
    "\n",
    "# Plot using bar chart for comparison between 2023 and 2024\n",
    "fig = px.bar(\n",
    "    monthly_counts_2023_2024,\n",
    "    x='YEAR_MONTH',\n",
    "    y='TRANSACTION_COUNT',\n",
    "    color='BOROUGH',\n",
    "    facet_col='SALE DATE',\n",
    "    title='Monthly Transaction Volume by Borough (2023 vs 2024)',\n",
    "    labels={'YEAR_MONTH': 'Month', 'TRANSACTION_COUNT': 'Number of Transactions', 'SALE DATE': 'Year'},\n",
    ")\n",
    "\n",
    "fig.update_layout(\n",
    "    xaxis_tickangle=45,\n",
    "    barmode='group',  # Group the bars for each month\n",
    ")\n",
    "\n",
    "fig.show()\n"
   ]
  }
 ],
 "metadata": {
  "kernelspec": {
   "display_name": "jupyterlab",
   "language": "python",
   "name": "python3"
  },
  "language_info": {
   "codemirror_mode": {
    "name": "ipython",
    "version": 3
   },
   "file_extension": ".py",
   "mimetype": "text/x-python",
   "name": "python",
   "nbconvert_exporter": "python",
   "pygments_lexer": "ipython3",
   "version": "3.12.8"
  }
 },
 "nbformat": 4,
 "nbformat_minor": 5
}
